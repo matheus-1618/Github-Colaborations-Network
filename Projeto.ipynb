{
 "cells": [
  {
   "cell_type": "code",
   "execution_count": 36,
   "id": "12ebbc4f",
   "metadata": {},
   "outputs": [],
   "source": [
    "from netpixi.integration.gt import Graph\n",
    "\n",
    "g = Graph(directed=False)"
   ]
  },
  {
   "cell_type": "code",
   "execution_count": 37,
   "id": "04210862",
   "metadata": {},
   "outputs": [],
   "source": [
    "import pandas as pd\n",
    "import numpy as np"
   ]
  },
  {
   "cell_type": "code",
   "execution_count": 38,
   "id": "0f08a11c",
   "metadata": {},
   "outputs": [],
   "source": [
    "data = pd.read_csv(\"colaboration_comments.csv\")"
   ]
  },
  {
   "cell_type": "code",
   "execution_count": 39,
   "id": "e1c9b707",
   "metadata": {},
   "outputs": [
    {
     "data": {
      "text/html": [
       "<div>\n",
       "<style scoped>\n",
       "    .dataframe tbody tr th:only-of-type {\n",
       "        vertical-align: middle;\n",
       "    }\n",
       "\n",
       "    .dataframe tbody tr th {\n",
       "        vertical-align: top;\n",
       "    }\n",
       "\n",
       "    .dataframe thead th {\n",
       "        text-align: right;\n",
       "    }\n",
       "</style>\n",
       "<table border=\"1\" class=\"dataframe\">\n",
       "  <thead>\n",
       "    <tr style=\"text-align: right;\">\n",
       "      <th></th>\n",
       "      <th>COMMENT_ID</th>\n",
       "      <th>COMMIT_ID</th>\n",
       "      <th>URL</th>\n",
       "      <th>AUTHOR</th>\n",
       "      <th>CREATED_AT</th>\n",
       "      <th>BODY</th>\n",
       "    </tr>\n",
       "  </thead>\n",
       "  <tbody>\n",
       "    <tr>\n",
       "      <th>0</th>\n",
       "      <td>22396772</td>\n",
       "      <td>47c1cd384b3deb0427e7e546e8d6b4346a65d816</td>\n",
       "      <td>https://github.com/selfhub/selfhub/pull/124#di...</td>\n",
       "      <td>zindlerb</td>\n",
       "      <td>2015-01-01T00:00:08Z</td>\n",
       "      <td>:sparkles: :pray: :sparkles:</td>\n",
       "    </tr>\n",
       "    <tr>\n",
       "      <th>1</th>\n",
       "      <td>22396775</td>\n",
       "      <td>a12155068a4feb03bf6b149b60830154ff52db0f</td>\n",
       "      <td>https://github.com/tsuru/tsuru/pull/1044#discu...</td>\n",
       "      <td>msabramo</td>\n",
       "      <td>2015-01-01T00:00:53Z</td>\n",
       "      <td>&gt; Can you remove this empty line?\\r\\n\\r\\nDone.</td>\n",
       "    </tr>\n",
       "    <tr>\n",
       "      <th>2</th>\n",
       "      <td>9131174</td>\n",
       "      <td>f2c7da93b6607d2990335ad4c0b5f1b5c26f5a83</td>\n",
       "      <td>https://github.com/GoldenLions/GitHubScout/com...</td>\n",
       "      <td>myclamm</td>\n",
       "      <td>2015-01-01T00:00:55Z</td>\n",
       "      <td>Thanks man. That's from week 4 of Hack Reactor...</td>\n",
       "    </tr>\n",
       "    <tr>\n",
       "      <th>3</th>\n",
       "      <td>22396779</td>\n",
       "      <td>4c31e9b700de04c01f07c3f7d12afccbbf47237e</td>\n",
       "      <td>https://github.com/selfhub/selfhub/pull/125#di...</td>\n",
       "      <td>zindlerb</td>\n",
       "      <td>2015-01-01T00:01:44Z</td>\n",
       "      <td>_.reduce would be more elegant, but your call</td>\n",
       "    </tr>\n",
       "    <tr>\n",
       "      <th>4</th>\n",
       "      <td>22396780</td>\n",
       "      <td>2a0664c165aa3d1a4fec06d720d4ba393fefc7ae</td>\n",
       "      <td>https://github.com/emberjs/data/pull/2649#disc...</td>\n",
       "      <td>rwjblue</td>\n",
       "      <td>2015-01-01T00:01:54Z</td>\n",
       "      <td>Tiny nit-pick: can you name this something mea...</td>\n",
       "    </tr>\n",
       "    <tr>\n",
       "      <th>...</th>\n",
       "      <td>...</td>\n",
       "      <td>...</td>\n",
       "      <td>...</td>\n",
       "      <td>...</td>\n",
       "      <td>...</td>\n",
       "      <td>...</td>\n",
       "    </tr>\n",
       "    <tr>\n",
       "      <th>635297</th>\n",
       "      <td>9969493</td>\n",
       "      <td>d430ad5c96dc5a20ac90443cae1d534e21478c2d</td>\n",
       "      <td>https://github.com/AGV-IIT-KGP/git-sandbox/com...</td>\n",
       "      <td>rings360</td>\n",
       "      <td>2015-02-28T09:59:16Z</td>\n",
       "      <td>Asar Sunny &lt;ring2rings93@gmail.com&gt;</td>\n",
       "    </tr>\n",
       "    <tr>\n",
       "      <th>635298</th>\n",
       "      <td>9969494</td>\n",
       "      <td>3432d7bf3b10b57287979176ba569e414ad3af1e</td>\n",
       "      <td>https://github.com/veswill3/braintree-angular/...</td>\n",
       "      <td>jeffcarp</td>\n",
       "      <td>2015-02-28T09:59:16Z</td>\n",
       "      <td>Thank you for doing this! Would you mind if I ...</td>\n",
       "    </tr>\n",
       "    <tr>\n",
       "      <th>635299</th>\n",
       "      <td>25556037</td>\n",
       "      <td>062e3cb4c8aa6b3f2a8c338404bf699dfb8d2b6d</td>\n",
       "      <td>https://github.com/Robpol86/colorclass/pull/7#...</td>\n",
       "      <td>msabramo</td>\n",
       "      <td>2015-02-28T09:59:42Z</td>\n",
       "      <td>Done.</td>\n",
       "    </tr>\n",
       "    <tr>\n",
       "      <th>635300</th>\n",
       "      <td>25556038</td>\n",
       "      <td>062e3cb4c8aa6b3f2a8c338404bf699dfb8d2b6d</td>\n",
       "      <td>https://github.com/Robpol86/colorclass/pull/7#...</td>\n",
       "      <td>msabramo</td>\n",
       "      <td>2015-02-28T09:59:52Z</td>\n",
       "      <td>Done.</td>\n",
       "    </tr>\n",
       "    <tr>\n",
       "      <th>635301</th>\n",
       "      <td>9969499</td>\n",
       "      <td>e1c513cb12387d87100b33bdd3d05b14b2f43a9a</td>\n",
       "      <td>https://github.com/janno42/EvaP/commit/e1c513c...</td>\n",
       "      <td>janno42</td>\n",
       "      <td>2015-02-28T09:59:54Z</td>\n",
       "      <td>before it didn't matter because i was deleting...</td>\n",
       "    </tr>\n",
       "  </tbody>\n",
       "</table>\n",
       "<p>635302 rows × 6 columns</p>\n",
       "</div>"
      ],
      "text/plain": [
       "        COMMENT_ID                                 COMMIT_ID  \\\n",
       "0         22396772  47c1cd384b3deb0427e7e546e8d6b4346a65d816   \n",
       "1         22396775  a12155068a4feb03bf6b149b60830154ff52db0f   \n",
       "2          9131174  f2c7da93b6607d2990335ad4c0b5f1b5c26f5a83   \n",
       "3         22396779  4c31e9b700de04c01f07c3f7d12afccbbf47237e   \n",
       "4         22396780  2a0664c165aa3d1a4fec06d720d4ba393fefc7ae   \n",
       "...            ...                                       ...   \n",
       "635297     9969493  d430ad5c96dc5a20ac90443cae1d534e21478c2d   \n",
       "635298     9969494  3432d7bf3b10b57287979176ba569e414ad3af1e   \n",
       "635299    25556037  062e3cb4c8aa6b3f2a8c338404bf699dfb8d2b6d   \n",
       "635300    25556038  062e3cb4c8aa6b3f2a8c338404bf699dfb8d2b6d   \n",
       "635301     9969499  e1c513cb12387d87100b33bdd3d05b14b2f43a9a   \n",
       "\n",
       "                                                      URL    AUTHOR  \\\n",
       "0       https://github.com/selfhub/selfhub/pull/124#di...  zindlerb   \n",
       "1       https://github.com/tsuru/tsuru/pull/1044#discu...  msabramo   \n",
       "2       https://github.com/GoldenLions/GitHubScout/com...   myclamm   \n",
       "3       https://github.com/selfhub/selfhub/pull/125#di...  zindlerb   \n",
       "4       https://github.com/emberjs/data/pull/2649#disc...   rwjblue   \n",
       "...                                                   ...       ...   \n",
       "635297  https://github.com/AGV-IIT-KGP/git-sandbox/com...  rings360   \n",
       "635298  https://github.com/veswill3/braintree-angular/...  jeffcarp   \n",
       "635299  https://github.com/Robpol86/colorclass/pull/7#...  msabramo   \n",
       "635300  https://github.com/Robpol86/colorclass/pull/7#...  msabramo   \n",
       "635301  https://github.com/janno42/EvaP/commit/e1c513c...   janno42   \n",
       "\n",
       "                  CREATED_AT  \\\n",
       "0       2015-01-01T00:00:08Z   \n",
       "1       2015-01-01T00:00:53Z   \n",
       "2       2015-01-01T00:00:55Z   \n",
       "3       2015-01-01T00:01:44Z   \n",
       "4       2015-01-01T00:01:54Z   \n",
       "...                      ...   \n",
       "635297  2015-02-28T09:59:16Z   \n",
       "635298  2015-02-28T09:59:16Z   \n",
       "635299  2015-02-28T09:59:42Z   \n",
       "635300  2015-02-28T09:59:52Z   \n",
       "635301  2015-02-28T09:59:54Z   \n",
       "\n",
       "                                                     BODY  \n",
       "0                           :sparkles: :pray: :sparkles:   \n",
       "1          > Can you remove this empty line?\\r\\n\\r\\nDone.  \n",
       "2       Thanks man. That's from week 4 of Hack Reactor...  \n",
       "3           _.reduce would be more elegant, but your call  \n",
       "4       Tiny nit-pick: can you name this something mea...  \n",
       "...                                                   ...  \n",
       "635297                Asar Sunny <ring2rings93@gmail.com>  \n",
       "635298  Thank you for doing this! Would you mind if I ...  \n",
       "635299                                              Done.  \n",
       "635300                                              Done.  \n",
       "635301  before it didn't matter because i was deleting...  \n",
       "\n",
       "[635302 rows x 6 columns]"
      ]
     },
     "execution_count": 39,
     "metadata": {},
     "output_type": "execute_result"
    }
   ],
   "source": [
    "data"
   ]
  },
  {
   "cell_type": "code",
   "execution_count": 40,
   "id": "1de1e7b6",
   "metadata": {},
   "outputs": [],
   "source": [
    "data['source'] = list(map(lambda x : x.split(\"https://github.com/\")[-1].split('/')[0],data['URL']))"
   ]
  },
  {
   "cell_type": "code",
   "execution_count": 41,
   "id": "1a6cd505",
   "metadata": {},
   "outputs": [],
   "source": [
    "data = data.drop(['COMMIT_ID','COMMENT_ID','URL'],axis=1)"
   ]
  },
  {
   "cell_type": "code",
   "execution_count": 42,
   "id": "8baf9157",
   "metadata": {},
   "outputs": [
    {
     "data": {
      "text/html": [
       "<div>\n",
       "<style scoped>\n",
       "    .dataframe tbody tr th:only-of-type {\n",
       "        vertical-align: middle;\n",
       "    }\n",
       "\n",
       "    .dataframe tbody tr th {\n",
       "        vertical-align: top;\n",
       "    }\n",
       "\n",
       "    .dataframe thead th {\n",
       "        text-align: right;\n",
       "    }\n",
       "</style>\n",
       "<table border=\"1\" class=\"dataframe\">\n",
       "  <thead>\n",
       "    <tr style=\"text-align: right;\">\n",
       "      <th></th>\n",
       "      <th>AUTHOR</th>\n",
       "      <th>CREATED_AT</th>\n",
       "      <th>BODY</th>\n",
       "      <th>source</th>\n",
       "    </tr>\n",
       "  </thead>\n",
       "  <tbody>\n",
       "    <tr>\n",
       "      <th>0</th>\n",
       "      <td>zindlerb</td>\n",
       "      <td>2015-01-01T00:00:08Z</td>\n",
       "      <td>:sparkles: :pray: :sparkles:</td>\n",
       "      <td>selfhub</td>\n",
       "    </tr>\n",
       "    <tr>\n",
       "      <th>1</th>\n",
       "      <td>msabramo</td>\n",
       "      <td>2015-01-01T00:00:53Z</td>\n",
       "      <td>&gt; Can you remove this empty line?\\r\\n\\r\\nDone.</td>\n",
       "      <td>tsuru</td>\n",
       "    </tr>\n",
       "    <tr>\n",
       "      <th>2</th>\n",
       "      <td>myclamm</td>\n",
       "      <td>2015-01-01T00:00:55Z</td>\n",
       "      <td>Thanks man. That's from week 4 of Hack Reactor...</td>\n",
       "      <td>GoldenLions</td>\n",
       "    </tr>\n",
       "    <tr>\n",
       "      <th>3</th>\n",
       "      <td>zindlerb</td>\n",
       "      <td>2015-01-01T00:01:44Z</td>\n",
       "      <td>_.reduce would be more elegant, but your call</td>\n",
       "      <td>selfhub</td>\n",
       "    </tr>\n",
       "    <tr>\n",
       "      <th>4</th>\n",
       "      <td>rwjblue</td>\n",
       "      <td>2015-01-01T00:01:54Z</td>\n",
       "      <td>Tiny nit-pick: can you name this something mea...</td>\n",
       "      <td>emberjs</td>\n",
       "    </tr>\n",
       "    <tr>\n",
       "      <th>...</th>\n",
       "      <td>...</td>\n",
       "      <td>...</td>\n",
       "      <td>...</td>\n",
       "      <td>...</td>\n",
       "    </tr>\n",
       "    <tr>\n",
       "      <th>635297</th>\n",
       "      <td>rings360</td>\n",
       "      <td>2015-02-28T09:59:16Z</td>\n",
       "      <td>Asar Sunny &lt;ring2rings93@gmail.com&gt;</td>\n",
       "      <td>AGV-IIT-KGP</td>\n",
       "    </tr>\n",
       "    <tr>\n",
       "      <th>635298</th>\n",
       "      <td>jeffcarp</td>\n",
       "      <td>2015-02-28T09:59:16Z</td>\n",
       "      <td>Thank you for doing this! Would you mind if I ...</td>\n",
       "      <td>veswill3</td>\n",
       "    </tr>\n",
       "    <tr>\n",
       "      <th>635299</th>\n",
       "      <td>msabramo</td>\n",
       "      <td>2015-02-28T09:59:42Z</td>\n",
       "      <td>Done.</td>\n",
       "      <td>Robpol86</td>\n",
       "    </tr>\n",
       "    <tr>\n",
       "      <th>635300</th>\n",
       "      <td>msabramo</td>\n",
       "      <td>2015-02-28T09:59:52Z</td>\n",
       "      <td>Done.</td>\n",
       "      <td>Robpol86</td>\n",
       "    </tr>\n",
       "    <tr>\n",
       "      <th>635301</th>\n",
       "      <td>janno42</td>\n",
       "      <td>2015-02-28T09:59:54Z</td>\n",
       "      <td>before it didn't matter because i was deleting...</td>\n",
       "      <td>janno42</td>\n",
       "    </tr>\n",
       "  </tbody>\n",
       "</table>\n",
       "<p>635302 rows × 4 columns</p>\n",
       "</div>"
      ],
      "text/plain": [
       "          AUTHOR            CREATED_AT  \\\n",
       "0       zindlerb  2015-01-01T00:00:08Z   \n",
       "1       msabramo  2015-01-01T00:00:53Z   \n",
       "2        myclamm  2015-01-01T00:00:55Z   \n",
       "3       zindlerb  2015-01-01T00:01:44Z   \n",
       "4        rwjblue  2015-01-01T00:01:54Z   \n",
       "...          ...                   ...   \n",
       "635297  rings360  2015-02-28T09:59:16Z   \n",
       "635298  jeffcarp  2015-02-28T09:59:16Z   \n",
       "635299  msabramo  2015-02-28T09:59:42Z   \n",
       "635300  msabramo  2015-02-28T09:59:52Z   \n",
       "635301   janno42  2015-02-28T09:59:54Z   \n",
       "\n",
       "                                                     BODY       source  \n",
       "0                           :sparkles: :pray: :sparkles:       selfhub  \n",
       "1          > Can you remove this empty line?\\r\\n\\r\\nDone.        tsuru  \n",
       "2       Thanks man. That's from week 4 of Hack Reactor...  GoldenLions  \n",
       "3           _.reduce would be more elegant, but your call      selfhub  \n",
       "4       Tiny nit-pick: can you name this something mea...      emberjs  \n",
       "...                                                   ...          ...  \n",
       "635297                Asar Sunny <ring2rings93@gmail.com>  AGV-IIT-KGP  \n",
       "635298  Thank you for doing this! Would you mind if I ...     veswill3  \n",
       "635299                                              Done.     Robpol86  \n",
       "635300                                              Done.     Robpol86  \n",
       "635301  before it didn't matter because i was deleting...      janno42  \n",
       "\n",
       "[635302 rows x 4 columns]"
      ]
     },
     "execution_count": 42,
     "metadata": {},
     "output_type": "execute_result"
    }
   ],
   "source": [
    "data"
   ]
  },
  {
   "cell_type": "code",
   "execution_count": 43,
   "id": "90f32c0e",
   "metadata": {},
   "outputs": [
    {
     "data": {
      "text/plain": [
       "Index(['mozilla', 'aspnet', 'edx', 'apache', 'rust-lang',\n",
       "       'GoogleCloudPlatform', 'caskdata', 'mozilla-b2g', 'Homebrew', 'NREL',\n",
       "       ...\n",
       "       'criteo-forks', 'raintank', 'runabove', 'leizongmin', 'Zeken',\n",
       "       'garethr', 'TaiwanSparkUserGroup', 'jeffbcross', 'marco-c', 'tomekwi'],\n",
       "      dtype='object', name='source', length=4929)"
      ]
     },
     "execution_count": 43,
     "metadata": {},
     "output_type": "execute_result"
    }
   ],
   "source": [
    "a = data.groupby(['source']).count()['AUTHOR'].sort_values(ascending=False)\n",
    "b =a.mean()\n",
    "c = a[a>b]\n",
    "c.index"
   ]
  },
  {
   "cell_type": "code",
   "execution_count": 44,
   "id": "88f445b5",
   "metadata": {},
   "outputs": [],
   "source": [
    "data_clean = data[data['source'].isin(c.index)]"
   ]
  },
  {
   "cell_type": "code",
   "execution_count": 45,
   "id": "7f4fe276",
   "metadata": {},
   "outputs": [
    {
     "data": {
      "text/html": [
       "<div>\n",
       "<style scoped>\n",
       "    .dataframe tbody tr th:only-of-type {\n",
       "        vertical-align: middle;\n",
       "    }\n",
       "\n",
       "    .dataframe tbody tr th {\n",
       "        vertical-align: top;\n",
       "    }\n",
       "\n",
       "    .dataframe thead th {\n",
       "        text-align: right;\n",
       "    }\n",
       "</style>\n",
       "<table border=\"1\" class=\"dataframe\">\n",
       "  <thead>\n",
       "    <tr style=\"text-align: right;\">\n",
       "      <th></th>\n",
       "      <th>AUTHOR</th>\n",
       "      <th>CREATED_AT</th>\n",
       "      <th>BODY</th>\n",
       "      <th>source</th>\n",
       "    </tr>\n",
       "  </thead>\n",
       "  <tbody>\n",
       "    <tr>\n",
       "      <th>0</th>\n",
       "      <td>zindlerb</td>\n",
       "      <td>2015-01-01T00:00:08Z</td>\n",
       "      <td>:sparkles: :pray: :sparkles:</td>\n",
       "      <td>selfhub</td>\n",
       "    </tr>\n",
       "    <tr>\n",
       "      <th>1</th>\n",
       "      <td>msabramo</td>\n",
       "      <td>2015-01-01T00:00:53Z</td>\n",
       "      <td>&gt; Can you remove this empty line?\\r\\n\\r\\nDone.</td>\n",
       "      <td>tsuru</td>\n",
       "    </tr>\n",
       "    <tr>\n",
       "      <th>3</th>\n",
       "      <td>zindlerb</td>\n",
       "      <td>2015-01-01T00:01:44Z</td>\n",
       "      <td>_.reduce would be more elegant, but your call</td>\n",
       "      <td>selfhub</td>\n",
       "    </tr>\n",
       "    <tr>\n",
       "      <th>4</th>\n",
       "      <td>rwjblue</td>\n",
       "      <td>2015-01-01T00:01:54Z</td>\n",
       "      <td>Tiny nit-pick: can you name this something mea...</td>\n",
       "      <td>emberjs</td>\n",
       "    </tr>\n",
       "    <tr>\n",
       "      <th>5</th>\n",
       "      <td>bradenmacdonald</td>\n",
       "      <td>2015-01-01T00:02:33Z</td>\n",
       "      <td>Yeah, I will just remove that. It is always True.</td>\n",
       "      <td>edx</td>\n",
       "    </tr>\n",
       "    <tr>\n",
       "      <th>...</th>\n",
       "      <td>...</td>\n",
       "      <td>...</td>\n",
       "      <td>...</td>\n",
       "      <td>...</td>\n",
       "    </tr>\n",
       "    <tr>\n",
       "      <th>635295</th>\n",
       "      <td>Zuhayr</td>\n",
       "      <td>2015-02-28T09:57:23Z</td>\n",
       "      <td>Whoops, good call.</td>\n",
       "      <td>Baystation12</td>\n",
       "    </tr>\n",
       "    <tr>\n",
       "      <th>635296</th>\n",
       "      <td>XhmikosR</td>\n",
       "      <td>2015-02-28T09:58:15Z</td>\n",
       "      <td>@kasper93: are you sure [this](https://github....</td>\n",
       "      <td>kasper93</td>\n",
       "    </tr>\n",
       "    <tr>\n",
       "      <th>635297</th>\n",
       "      <td>rings360</td>\n",
       "      <td>2015-02-28T09:59:16Z</td>\n",
       "      <td>Asar Sunny &lt;ring2rings93@gmail.com&gt;</td>\n",
       "      <td>AGV-IIT-KGP</td>\n",
       "    </tr>\n",
       "    <tr>\n",
       "      <th>635299</th>\n",
       "      <td>msabramo</td>\n",
       "      <td>2015-02-28T09:59:42Z</td>\n",
       "      <td>Done.</td>\n",
       "      <td>Robpol86</td>\n",
       "    </tr>\n",
       "    <tr>\n",
       "      <th>635300</th>\n",
       "      <td>msabramo</td>\n",
       "      <td>2015-02-28T09:59:52Z</td>\n",
       "      <td>Done.</td>\n",
       "      <td>Robpol86</td>\n",
       "    </tr>\n",
       "  </tbody>\n",
       "</table>\n",
       "<p>523262 rows × 4 columns</p>\n",
       "</div>"
      ],
      "text/plain": [
       "                 AUTHOR            CREATED_AT  \\\n",
       "0              zindlerb  2015-01-01T00:00:08Z   \n",
       "1              msabramo  2015-01-01T00:00:53Z   \n",
       "3              zindlerb  2015-01-01T00:01:44Z   \n",
       "4               rwjblue  2015-01-01T00:01:54Z   \n",
       "5       bradenmacdonald  2015-01-01T00:02:33Z   \n",
       "...                 ...                   ...   \n",
       "635295           Zuhayr  2015-02-28T09:57:23Z   \n",
       "635296         XhmikosR  2015-02-28T09:58:15Z   \n",
       "635297         rings360  2015-02-28T09:59:16Z   \n",
       "635299         msabramo  2015-02-28T09:59:42Z   \n",
       "635300         msabramo  2015-02-28T09:59:52Z   \n",
       "\n",
       "                                                     BODY        source  \n",
       "0                           :sparkles: :pray: :sparkles:        selfhub  \n",
       "1          > Can you remove this empty line?\\r\\n\\r\\nDone.         tsuru  \n",
       "3           _.reduce would be more elegant, but your call       selfhub  \n",
       "4       Tiny nit-pick: can you name this something mea...       emberjs  \n",
       "5       Yeah, I will just remove that. It is always True.           edx  \n",
       "...                                                   ...           ...  \n",
       "635295                                 Whoops, good call.  Baystation12  \n",
       "635296  @kasper93: are you sure [this](https://github....      kasper93  \n",
       "635297                Asar Sunny <ring2rings93@gmail.com>   AGV-IIT-KGP  \n",
       "635299                                              Done.      Robpol86  \n",
       "635300                                              Done.      Robpol86  \n",
       "\n",
       "[523262 rows x 4 columns]"
      ]
     },
     "execution_count": 45,
     "metadata": {},
     "output_type": "execute_result"
    }
   ],
   "source": [
    "data_clean"
   ]
  },
  {
   "cell_type": "code",
   "execution_count": 46,
   "id": "87e67913",
   "metadata": {},
   "outputs": [],
   "source": [
    "data_clean.groupby(['source'])\n",
    "lista = data_clean['AUTHOR'].value_counts().index.tolist()"
   ]
  },
  {
   "cell_type": "code",
   "execution_count": 48,
   "id": "d90f4f0f",
   "metadata": {},
   "outputs": [
    {
     "data": {
      "text/plain": [
       "248"
      ]
     },
     "execution_count": 48,
     "metadata": {},
     "output_type": "execute_result"
    }
   ],
   "source": [
    "n = data_clean.groupby('AUTHOR')['source'].apply(lambda x: list(np.unique(x)))\n",
    "#g[g.columns['AUTHOR'] == 'houndci']\n",
    "len(n.loc[n.index == 'houndci'][0])\n",
    "#g.loc[g.str.contains('houndci')]"
   ]
  },
  {
   "cell_type": "code",
   "execution_count": 49,
   "id": "ec522015",
   "metadata": {},
   "outputs": [],
   "source": [
    "n = data_clean.groupby('AUTHOR')['source'].apply(lambda x: list(np.unique(x)))"
   ]
  },
  {
   "cell_type": "code",
   "execution_count": 55,
   "id": "fe8bcc4e",
   "metadata": {},
   "outputs": [],
   "source": [
    "same_repo_colab = data_clean.groupby('source')['AUTHOR'].apply(lambda x: list(np.unique(x)))"
   ]
  },
  {
   "cell_type": "code",
   "execution_count": 56,
   "id": "ef5ead84",
   "metadata": {},
   "outputs": [],
   "source": [
    "import itertools\n",
    "import warnings\n",
    "warnings.filterwarnings('ignore') \n",
    "\n",
    "for index, row in same_repo_colab.iteritems():\n",
    "    pares = itertools.combinations(row, 2)\n",
    "    for i,par in enumerate(pares):\n",
    "        try:\n",
    "            g.add_vertex(par[0])\n",
    "            g.add_vertex(par[1])\n",
    "        except Exception as inst:\n",
    "            try:\n",
    "                if int(str(inst).split(' ')[3]) == par[0]:\n",
    "                    g.add_vertex(par[1])\n",
    "                else:\n",
    "                    g.add_vertex(par[0])\n",
    "            except:\n",
    "                pass\n",
    "        finally:\n",
    "            try:\n",
    "                g.add_edge(par[0],par[1])\n",
    "            except:\n",
    "                pass"
   ]
  },
  {
   "cell_type": "code",
   "execution_count": 57,
   "id": "3a42b4ef",
   "metadata": {},
   "outputs": [
    {
     "name": "stdout",
     "output_type": "stream",
     "text": [
      "Número de vértices de g: 26268\n"
     ]
    }
   ],
   "source": [
    "n = g.num_vertices()\n",
    "print('Número de vértices de g:', n)"
   ]
  },
  {
   "cell_type": "code",
   "execution_count": 58,
   "id": "59d444bd",
   "metadata": {},
   "outputs": [
    {
     "name": "stdout",
     "output_type": "stream",
     "text": [
      "Número de arestas de g: 138679\n"
     ]
    }
   ],
   "source": [
    "m = g.num_edges()\n",
    "print('Número de arestas de g:', m)"
   ]
  },
  {
   "cell_type": "code",
   "execution_count": 59,
   "id": "fb1d2c81",
   "metadata": {},
   "outputs": [
    {
     "data": {
      "text/plain": [
       "344990778"
      ]
     },
     "execution_count": 59,
     "metadata": {},
     "output_type": "execute_result"
    }
   ],
   "source": [
    "if g.is_directed():\n",
    "    max_edges = n * (n - 1)\n",
    "else:\n",
    "    max_edges = n * (n - 1) // 2\n",
    "max_edges"
   ]
  },
  {
   "cell_type": "code",
   "execution_count": 61,
   "id": "d388dcbb",
   "metadata": {},
   "outputs": [
    {
     "name": "stdout",
     "output_type": "stream",
     "text": [
      "Densidade é 0.00040197886101175727\n"
     ]
    }
   ],
   "source": [
    "d = m / max_edges\n",
    "d\n",
    "print(f'Densidade é {d}')"
   ]
  },
  {
   "cell_type": "code",
   "execution_count": 62,
   "id": "75c50ee5",
   "metadata": {},
   "outputs": [],
   "source": [
    "import seaborn as sns\n",
    "from netpixi.integration.gt import *\n",
    "from regression.integration.gt import *"
   ]
  },
  {
   "cell_type": "code",
   "execution_count": 63,
   "id": "7376383e",
   "metadata": {},
   "outputs": [
    {
     "data": {
      "text/html": [
       "<div>\n",
       "<style scoped>\n",
       "    .dataframe tbody tr th:only-of-type {\n",
       "        vertical-align: middle;\n",
       "    }\n",
       "\n",
       "    .dataframe tbody tr th {\n",
       "        vertical-align: top;\n",
       "    }\n",
       "\n",
       "    .dataframe thead th {\n",
       "        text-align: right;\n",
       "    }\n",
       "</style>\n",
       "<table border=\"1\" class=\"dataframe\">\n",
       "  <thead>\n",
       "    <tr style=\"text-align: right;\">\n",
       "      <th></th>\n",
       "    </tr>\n",
       "    <tr>\n",
       "      <th>id</th>\n",
       "    </tr>\n",
       "  </thead>\n",
       "  <tbody>\n",
       "    <tr>\n",
       "      <th>alexshalamov</th>\n",
       "    </tr>\n",
       "    <tr>\n",
       "      <th>chivakker</th>\n",
       "    </tr>\n",
       "    <tr>\n",
       "      <th>0xAX</th>\n",
       "    </tr>\n",
       "    <tr>\n",
       "      <th>Huddayn</th>\n",
       "    </tr>\n",
       "    <tr>\n",
       "      <th>behackett</th>\n",
       "    </tr>\n",
       "  </tbody>\n",
       "</table>\n",
       "</div>"
      ],
      "text/plain": [
       "Empty DataFrame\n",
       "Columns: []\n",
       "Index: [alexshalamov, chivakker, 0xAX, Huddayn, behackett]"
      ]
     },
     "execution_count": 63,
     "metadata": {},
     "output_type": "execute_result"
    }
   ],
   "source": [
    "data = gt_data(g)\n",
    "data.head(5)"
   ]
  },
  {
   "cell_type": "code",
   "execution_count": 64,
   "id": "f4aba570",
   "metadata": {},
   "outputs": [],
   "source": [
    "degrees = []\n",
    "for v in g.all_vertices():\n",
    "    degrees.append(v.total_degree())"
   ]
  },
  {
   "cell_type": "code",
   "execution_count": 65,
   "id": "0974e5b8",
   "metadata": {},
   "outputs": [
    {
     "data": {
      "text/html": [
       "<div>\n",
       "<style scoped>\n",
       "    .dataframe tbody tr th:only-of-type {\n",
       "        vertical-align: middle;\n",
       "    }\n",
       "\n",
       "    .dataframe tbody tr th {\n",
       "        vertical-align: top;\n",
       "    }\n",
       "\n",
       "    .dataframe thead th {\n",
       "        text-align: right;\n",
       "    }\n",
       "</style>\n",
       "<table border=\"1\" class=\"dataframe\">\n",
       "  <thead>\n",
       "    <tr style=\"text-align: right;\">\n",
       "      <th></th>\n",
       "      <th>degree</th>\n",
       "    </tr>\n",
       "    <tr>\n",
       "      <th>id</th>\n",
       "      <th></th>\n",
       "    </tr>\n",
       "  </thead>\n",
       "  <tbody>\n",
       "    <tr>\n",
       "      <th>alexshalamov</th>\n",
       "      <td>2</td>\n",
       "    </tr>\n",
       "    <tr>\n",
       "      <th>chivakker</th>\n",
       "      <td>2</td>\n",
       "    </tr>\n",
       "    <tr>\n",
       "      <th>0xAX</th>\n",
       "      <td>1</td>\n",
       "    </tr>\n",
       "    <tr>\n",
       "      <th>Huddayn</th>\n",
       "      <td>1</td>\n",
       "    </tr>\n",
       "    <tr>\n",
       "      <th>behackett</th>\n",
       "      <td>1</td>\n",
       "    </tr>\n",
       "  </tbody>\n",
       "</table>\n",
       "</div>"
      ],
      "text/plain": [
       "              degree\n",
       "id                  \n",
       "alexshalamov       2\n",
       "chivakker          2\n",
       "0xAX               1\n",
       "Huddayn            1\n",
       "behackett          1"
      ]
     },
     "execution_count": 65,
     "metadata": {},
     "output_type": "execute_result"
    }
   ],
   "source": [
    "data['degree'] = degrees\n",
    "data.head(5)"
   ]
  },
  {
   "cell_type": "code",
   "execution_count": 66,
   "id": "00cf02c4",
   "metadata": {},
   "outputs": [
    {
     "data": {
      "text/html": [
       "<div>\n",
       "<style scoped>\n",
       "    .dataframe tbody tr th:only-of-type {\n",
       "        vertical-align: middle;\n",
       "    }\n",
       "\n",
       "    .dataframe tbody tr th {\n",
       "        vertical-align: top;\n",
       "    }\n",
       "\n",
       "    .dataframe thead th {\n",
       "        text-align: right;\n",
       "    }\n",
       "</style>\n",
       "<table border=\"1\" class=\"dataframe\">\n",
       "  <thead>\n",
       "    <tr style=\"text-align: right;\">\n",
       "      <th></th>\n",
       "      <th>degree</th>\n",
       "    </tr>\n",
       "  </thead>\n",
       "  <tbody>\n",
       "    <tr>\n",
       "      <th>count</th>\n",
       "      <td>26268.000000</td>\n",
       "    </tr>\n",
       "    <tr>\n",
       "      <th>mean</th>\n",
       "      <td>10.558779</td>\n",
       "    </tr>\n",
       "    <tr>\n",
       "      <th>std</th>\n",
       "      <td>28.766305</td>\n",
       "    </tr>\n",
       "    <tr>\n",
       "      <th>min</th>\n",
       "      <td>1.000000</td>\n",
       "    </tr>\n",
       "    <tr>\n",
       "      <th>25%</th>\n",
       "      <td>1.000000</td>\n",
       "    </tr>\n",
       "    <tr>\n",
       "      <th>50%</th>\n",
       "      <td>2.000000</td>\n",
       "    </tr>\n",
       "    <tr>\n",
       "      <th>75%</th>\n",
       "      <td>7.000000</td>\n",
       "    </tr>\n",
       "    <tr>\n",
       "      <th>max</th>\n",
       "      <td>732.000000</td>\n",
       "    </tr>\n",
       "  </tbody>\n",
       "</table>\n",
       "</div>"
      ],
      "text/plain": [
       "             degree\n",
       "count  26268.000000\n",
       "mean      10.558779\n",
       "std       28.766305\n",
       "min        1.000000\n",
       "25%        1.000000\n",
       "50%        2.000000\n",
       "75%        7.000000\n",
       "max      732.000000"
      ]
     },
     "execution_count": 66,
     "metadata": {},
     "output_type": "execute_result"
    }
   ],
   "source": [
    "data['degree'].describe().to_frame()"
   ]
  },
  {
   "cell_type": "code",
   "execution_count": 67,
   "id": "90baed90",
   "metadata": {},
   "outputs": [
    {
     "data": {
      "text/plain": [
       "<AxesSubplot: xlabel='degree', ylabel='Count'>"
      ]
     },
     "execution_count": 67,
     "metadata": {},
     "output_type": "execute_result"
    },
    {
     "data": {
      "image/png": "[encoded data removed]",
      "text/plain": [
       "<Figure size 640x480 with 1 Axes>"
      ]
     },
     "metadata": {},
     "output_type": "display_data"
    }
   ],
   "source": [
    "sns.histplot(data['degree'])"
   ]
  },
  {
   "cell_type": "code",
   "execution_count": 68,
   "id": "2c0b7e8b",
   "metadata": {},
   "outputs": [],
   "source": [
    "import netpixi"
   ]
  },
  {
   "cell_type": "code",
   "execution_count": 69,
   "id": "d382824e",
   "metadata": {},
   "outputs": [],
   "source": [
    "gt_save(g, 'colabs.net.gz')"
   ]
  },
  {
   "cell_type": "code",
   "execution_count": 70,
   "id": "51e32206",
   "metadata": {},
   "outputs": [],
   "source": [
    "g = gt_load('colabs.net.gz')"
   ]
  },
  {
   "cell_type": "code",
   "execution_count": null,
   "id": "7d812986",
   "metadata": {},
   "outputs": [],
   "source": [
    "r1 = netpixi.render('colabs.net.gz');"
   ]
  },
  {
   "cell_type": "code",
   "execution_count": 72,
   "id": "18000527",
   "metadata": {},
   "outputs": [
    {
     "data": {
      "text/html": [
       "\n",
       "        <div id=\"VYRz2LKhC9t7dvefXXVoTH\"></div>\n",
       "        <script>netpixi.render('VYRz2LKhC9t7dvefXXVoTH', 'colabs_sfdp.net.gz', 1.7777777777777777, true, false, false);</script>\n",
       "    "
      ],
      "text/plain": [
       "<IPython.core.display.HTML object>"
      ]
     },
     "metadata": {},
     "output_type": "display_data"
    }
   ],
   "source": [
    "m = gt_draw.sfdp_layout(g)\n",
    "gt_move(g, m)\n",
    "gt_save(g, 'colabs_sfdp.net.gz')\n",
    "r2 = netpixi.render('colabs_sfdp.net.gz');"
   ]
  },
  {
   "cell_type": "code",
   "execution_count": 77,
   "id": "83935e29",
   "metadata": {},
   "outputs": [
    {
     "data": {
      "text/html": [
       "\n",
       "        <div id=\"CKh96sNDa5ER5xztFicd2a\"></div>\n",
       "        <script>netpixi.call('CKh96sNDa5ER5xztFicd2a', 'VYRz2LKhC9t7dvefXXVoTH', 'changeGraph', 'eyJ0eXBlIjogInNldHRpbmdzIiwgInByb3BzIjogeyJ2ZXJ0ZXgiOiB7InNpemUiOiA1fX19Cg==');</script>\n",
       "    "
      ],
      "text/plain": [
       "<IPython.core.display.HTML object>"
      ]
     },
     "metadata": {},
     "output_type": "display_data"
    },
    {
     "data": {
      "text/html": [
       "\n",
       "        <div id=\"GkYFVPmku66XzsYqQGXcf3\"></div>\n",
       "        <script>netpixi.call('GkYFVPmku66XzsYqQGXcf3', 'VYRz2LKhC9t7dvefXXVoTH', 'changeGraph', 'eyJ0eXBlIjogInNldHRpbmdzIiwgInByb3BzIjogeyJlZGdlIjogeyJ3aWR0aCI6IDF9fX0K');</script>\n",
       "    "
      ],
      "text/plain": [
       "<IPython.core.display.HTML object>"
      ]
     },
     "metadata": {},
     "output_type": "display_data"
    }
   ],
   "source": [
    "#Ajustando propriedades\n",
    "r2.vertex_default(size=5)\n",
    "r2.edge_default( width=1)"
   ]
  },
  {
   "cell_type": "markdown",
   "id": "5794b3a9",
   "metadata": {},
   "source": [
    "<img src=\"colabs_sfdp.net.gz.png\"/>"
   ]
  }
 ],
 "metadata": {
  "kernelspec": {
   "display_name": "Python 3 (ipykernel)",
   "language": "python",
   "name": "python3"
  },
  "language_info": {
   "codemirror_mode": {
    "name": "ipython",
    "version": 3
   },
   "file_extension": ".py",
   "mimetype": "text/x-python",
   "name": "python",
   "nbconvert_exporter": "python",
   "pygments_lexer": "ipython3",
   "version": "3.10.10"
  }
 },
 "nbformat": 4,
 "nbformat_minor": 5
}
