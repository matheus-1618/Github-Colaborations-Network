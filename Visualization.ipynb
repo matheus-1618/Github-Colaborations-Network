{
 "cells": [
  {
   "cell_type": "markdown",
   "id": "7223d9ad",
   "metadata": {},
   "source": [
    "## Viewing the network\n",
    "\n",
    "After understading the network metrics, we can see it graphically."
   ]
  },
  {
   "cell_type": "code",
   "execution_count": 2,
   "id": "f2876b73",
   "metadata": {},
   "outputs": [
    {
     "data": {
      "text/html": [
       "\n",
       "    <script src=\"/files/netpixi.min.js\"></script>\n"
      ],
      "text/plain": [
       "<IPython.core.display.HTML object>"
      ]
     },
     "metadata": {},
     "output_type": "display_data"
    },
    {
     "name": "stderr",
     "output_type": "stream",
     "text": [
      "<frozen importlib._bootstrap>:914: ImportWarning: VendorImporter.find_spec() not found; falling back to find_module()\n",
      "<frozen importlib._bootstrap>:914: ImportWarning: VendorImporter.find_spec() not found; falling back to find_module()\n",
      "<frozen importlib._bootstrap>:914: ImportWarning: VendorImporter.find_spec() not found; falling back to find_module()\n"
     ]
    }
   ],
   "source": [
    "import netpixi\n",
    "from netpixi.integration.gt import *\n",
    "from regression.integration.gt import *"
   ]
  },
  {
   "cell_type": "markdown",
   "id": "cf010547",
   "metadata": {},
   "source": [
    "## All graph"
   ]
  },
  {
   "cell_type": "code",
   "execution_count": 3,
   "id": "21dc178f",
   "metadata": {},
   "outputs": [],
   "source": [
    "g = gt_load('colabs.net.gz')"
   ]
  },
  {
   "cell_type": "code",
   "execution_count": 4,
   "id": "cb64e41b",
   "metadata": {},
   "outputs": [
    {
     "data": {
      "text/html": [
       "\n",
       "        <div id=\"Hdw587wQ2trYQesRxs6sNL\"></div>\n",
       "        <script>netpixi.render('Hdw587wQ2trYQesRxs6sNL', 'colabs_sfdp.net.gz', 1.7777777777777777, true, true, false);</script>\n",
       "    "
      ],
      "text/plain": [
       "<IPython.core.display.HTML object>"
      ]
     },
     "metadata": {},
     "output_type": "display_data"
    }
   ],
   "source": [
    "g = gt_clean(g)\n",
    "m = gt_draw.sfdp_layout(g)\n",
    "gt_move(g, m)\n",
    "gt_save(g, 'colabs_sfdp.net.gz')\n",
    "network = netpixi.render('colabs_sfdp.net.gz',infinite=True);"
   ]
  },
  {
   "cell_type": "code",
   "execution_count": 11,
   "id": "9df75bc5",
   "metadata": {},
   "outputs": [
    {
     "data": {
      "text/html": [
       "\n",
       "        <div id=\"eGCkmJjMzQjHPDsJSPRkCW\"></div>\n",
       "        <script>netpixi.call('eGCkmJjMzQjHPDsJSPRkCW', 'Hdw587wQ2trYQesRxs6sNL', 'normalizeGraph', 'eyJ0eXBlIjogInZlcnRleCIsICJwcm9wcyI6IHsic3JjIjogImZvY3VzIiwgIm1pbiI6IDUsICJtYXgiOiAxMH19Cg==');</script>\n",
       "    "
      ],
      "text/plain": [
       "<IPython.core.display.HTML object>"
      ]
     },
     "metadata": {},
     "output_type": "display_data"
    },
    {
     "data": {
      "text/html": [
       "\n",
       "        <div id=\"CNz8b3GVNc6LW6qaEULSxQ\"></div>\n",
       "        <script>netpixi.call('CNz8b3GVNc6LW6qaEULSxQ', 'Hdw587wQ2trYQesRxs6sNL', 'changeGraph', 'eyJ0eXBlIjogInNldHRpbmdzIiwgInByb3BzIjogeyJlZGdlIjogeyJ3aWR0aCI6IDF9fX0K');</script>\n",
       "    "
      ],
      "text/plain": [
       "<IPython.core.display.HTML object>"
      ]
     },
     "metadata": {},
     "output_type": "display_data"
    }
   ],
   "source": [
    "#Ajustando propriedades\n",
    "network.vertex_scale('focus', 5, 10)\n",
    "network.edge_default( width=1)"
   ]
  },
  {
   "cell_type": "markdown",
   "id": "418ae61a",
   "metadata": {},
   "source": [
    "<img src=\"colabs_sfdp.net.gz.png\"/>"
   ]
  },
  {
   "cell_type": "markdown",
   "id": "b73d353e",
   "metadata": {},
   "source": [
    "## Python segmentating"
   ]
  },
  {
   "cell_type": "code",
   "execution_count": 6,
   "id": "ae3d42a1",
   "metadata": {},
   "outputs": [],
   "source": [
    "g_python = gt_load('colabs_python.net.gz')"
   ]
  },
  {
   "cell_type": "code",
   "execution_count": 7,
   "id": "2ab80f44",
   "metadata": {},
   "outputs": [
    {
     "data": {
      "text/html": [
       "\n",
       "        <div id=\"fyRs4m4zikVmAr2obLADFf\"></div>\n",
       "        <script>netpixi.render('fyRs4m4zikVmAr2obLADFf', 'colabs_python_sfdp.net.gz', 1.7777777777777777, true, true, false);</script>\n",
       "    "
      ],
      "text/plain": [
       "<IPython.core.display.HTML object>"
      ]
     },
     "metadata": {},
     "output_type": "display_data"
    }
   ],
   "source": [
    "g_python = gt_clean(g_python)\n",
    "m = gt_draw.sfdp_layout(g_python)\n",
    "gt_move(g_python, m)\n",
    "gt_save(g_python, 'colabs_python_sfdp.net.gz')\n",
    "network_python = netpixi.render('colabs_python_sfdp.net.gz',infinite=True);"
   ]
  },
  {
   "cell_type": "code",
   "execution_count": 8,
   "id": "8fa0818a",
   "metadata": {},
   "outputs": [
    {
     "data": {
      "text/html": [
       "\n",
       "        <div id=\"J2uvSueDymV3XV5c2hx7eF\"></div>\n",
       "        <script>netpixi.call('J2uvSueDymV3XV5c2hx7eF', 'fyRs4m4zikVmAr2obLADFf', 'normalizeGraph', 'eyJ0eXBlIjogInZlcnRleCIsICJwcm9wcyI6IHsic3JjIjogImZvY3VzIiwgIm1pbiI6IDUsICJtYXgiOiAxMH19Cg==');</script>\n",
       "    "
      ],
      "text/plain": [
       "<IPython.core.display.HTML object>"
      ]
     },
     "metadata": {},
     "output_type": "display_data"
    },
    {
     "data": {
      "text/html": [
       "\n",
       "        <div id=\"Hd6bscbLyLt6QgCiMdVPj4\"></div>\n",
       "        <script>netpixi.call('Hd6bscbLyLt6QgCiMdVPj4', 'fyRs4m4zikVmAr2obLADFf', 'changeGraph', 'eyJ0eXBlIjogInNldHRpbmdzIiwgInByb3BzIjogeyJlZGdlIjogeyJ3aWR0aCI6IDF9fX0K');</script>\n",
       "    "
      ],
      "text/plain": [
       "<IPython.core.display.HTML object>"
      ]
     },
     "metadata": {},
     "output_type": "display_data"
    }
   ],
   "source": [
    "#Ajustando propriedades\n",
    "network_python.vertex_scale('focus', 5, 10)\n",
    "network_python.edge_default( width=1)"
   ]
  },
  {
   "cell_type": "markdown",
   "id": "5c098f49",
   "metadata": {},
   "source": [
    "## Javascript"
   ]
  },
  {
   "cell_type": "code",
   "execution_count": 9,
   "id": "85fd97ef",
   "metadata": {},
   "outputs": [],
   "source": [
    "g_js = gt_load('colabs_js.net.gz')"
   ]
  },
  {
   "cell_type": "code",
   "execution_count": 10,
   "id": "98f1ef2f",
   "metadata": {},
   "outputs": [
    {
     "data": {
      "text/html": [
       "\n",
       "        <div id=\"M7tbVXG4k2kn4H2nERseCg\"></div>\n",
       "        <script>netpixi.render('M7tbVXG4k2kn4H2nERseCg', 'colabs_js_sfdp.net.gz', 1.7777777777777777, true, true, false);</script>\n",
       "    "
      ],
      "text/plain": [
       "<IPython.core.display.HTML object>"
      ]
     },
     "metadata": {},
     "output_type": "display_data"
    }
   ],
   "source": [
    "g_js = gt_clean(g_js)\n",
    "m = gt_draw.sfdp_layout(g_js)\n",
    "gt_move(g_js, m)\n",
    "gt_save(g_js, 'colabs_js_sfdp.net.gz')\n",
    "network_js = netpixi.render('colabs_js_sfdp.net.gz',infinite=True);"
   ]
  },
  {
   "cell_type": "code",
   "execution_count": 12,
   "id": "428da9ef",
   "metadata": {},
   "outputs": [
    {
     "data": {
      "text/html": [
       "\n",
       "        <div id=\"cSbFpnzEHfMyfpyS9zePfq\"></div>\n",
       "        <script>netpixi.call('cSbFpnzEHfMyfpyS9zePfq', 'M7tbVXG4k2kn4H2nERseCg', 'normalizeGraph', 'eyJ0eXBlIjogInZlcnRleCIsICJwcm9wcyI6IHsic3JjIjogImZvY3VzIiwgIm1pbiI6IDUsICJtYXgiOiAxMH19Cg==');</script>\n",
       "    "
      ],
      "text/plain": [
       "<IPython.core.display.HTML object>"
      ]
     },
     "metadata": {},
     "output_type": "display_data"
    },
    {
     "data": {
      "text/html": [
       "\n",
       "        <div id=\"T68acEADVBwqAxSQZ7yLxH\"></div>\n",
       "        <script>netpixi.call('T68acEADVBwqAxSQZ7yLxH', 'M7tbVXG4k2kn4H2nERseCg', 'changeGraph', 'eyJ0eXBlIjogInNldHRpbmdzIiwgInByb3BzIjogeyJlZGdlIjogeyJ3aWR0aCI6IDF9fX0K');</script>\n",
       "    "
      ],
      "text/plain": [
       "<IPython.core.display.HTML object>"
      ]
     },
     "metadata": {},
     "output_type": "display_data"
    }
   ],
   "source": [
    "#Ajustando propriedades\n",
    "network_js.vertex_scale('focus', 5, 10)\n",
    "network_js.edge_default( width=1)"
   ]
  },
  {
   "cell_type": "code",
   "execution_count": null,
   "id": "e9b1272f",
   "metadata": {},
   "outputs": [],
   "source": []
  }
 ],
 "metadata": {
  "kernelspec": {
   "display_name": "Python 3 (ipykernel)",
   "language": "python",
   "name": "python3"
  },
  "language_info": {
   "codemirror_mode": {
    "name": "ipython",
    "version": 3
   },
   "file_extension": ".py",
   "mimetype": "text/x-python",
   "name": "python",
   "nbconvert_exporter": "python",
   "pygments_lexer": "ipython3",
   "version": "3.10.10"
  }
 },
 "nbformat": 4,
 "nbformat_minor": 5
}
