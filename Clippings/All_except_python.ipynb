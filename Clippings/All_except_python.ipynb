{
 "cells": [
  {
   "cell_type": "markdown",
   "id": "bb488d6b",
   "metadata": {},
   "source": [
    "## Building the graph\n",
    "\n",
    "### Clipping: All except colabs mentioning \"python\"\n",
    "\n",
    "After getting and parsing the data, we need to understand and create metrics that could lead us to our hypothesis and it's impacts."
   ]
  },
  {
   "cell_type": "code",
   "execution_count": 128,
   "id": "12ebbc4f",
   "metadata": {},
   "outputs": [],
   "source": [
    "from netpixi.integration.gt import Graph\n",
    "import pandas as pd\n",
    "import numpy as np\n",
    "\n",
    "g = Graph(directed=False)"
   ]
  },
  {
   "cell_type": "code",
   "execution_count": 129,
   "id": "0f08a11c",
   "metadata": {},
   "outputs": [],
   "source": [
    "data = pd.read_csv(\"../data/colaboration_comments.csv\")"
   ]
  },
  {
   "cell_type": "code",
   "execution_count": 130,
   "id": "1de1e7b6",
   "metadata": {},
   "outputs": [],
   "source": [
    "# Add the source repositories (usually belonging to organizations where users collaborate)\n",
    "data['source'] = list(map(lambda x : x.split(\"https://github.com/\")[-1].split('/')[0],data['URL']))"
   ]
  },
  {
   "cell_type": "code",
   "execution_count": 131,
   "id": "99636e2e",
   "metadata": {},
   "outputs": [],
   "source": [
    "#All except colabs mentioning \"python\"\n",
    "data = data[data['BODY'].notna() & ~data['BODY'].str.lower().apply(lambda x: 'python' in str(x).lower() or 'py' in str(x).lower())]"
   ]
  },
  {
   "cell_type": "code",
   "execution_count": 132,
   "id": "1a6cd505",
   "metadata": {},
   "outputs": [],
   "source": [
    "# Drop columns which we won't use\n",
    "data = data.drop(['COMMIT_ID','COMMENT_ID','URL'],axis=1)"
   ]
  },
  {
   "cell_type": "code",
   "execution_count": 133,
   "id": "8baf9157",
   "metadata": {},
   "outputs": [
    {
     "data": {
      "text/html": [
       "<div>\n",
       "<style scoped>\n",
       "    .dataframe tbody tr th:only-of-type {\n",
       "        vertical-align: middle;\n",
       "    }\n",
       "\n",
       "    .dataframe tbody tr th {\n",
       "        vertical-align: top;\n",
       "    }\n",
       "\n",
       "    .dataframe thead th {\n",
       "        text-align: right;\n",
       "    }\n",
       "</style>\n",
       "<table border=\"1\" class=\"dataframe\">\n",
       "  <thead>\n",
       "    <tr style=\"text-align: right;\">\n",
       "      <th></th>\n",
       "      <th>AUTHOR</th>\n",
       "      <th>CREATED_AT</th>\n",
       "      <th>BODY</th>\n",
       "      <th>source</th>\n",
       "    </tr>\n",
       "  </thead>\n",
       "  <tbody>\n",
       "    <tr>\n",
       "      <th>0</th>\n",
       "      <td>zindlerb</td>\n",
       "      <td>2015-01-01T00:00:08Z</td>\n",
       "      <td>:sparkles: :pray: :sparkles:</td>\n",
       "      <td>selfhub</td>\n",
       "    </tr>\n",
       "    <tr>\n",
       "      <th>1</th>\n",
       "      <td>msabramo</td>\n",
       "      <td>2015-01-01T00:00:53Z</td>\n",
       "      <td>&gt; Can you remove this empty line?\\r\\n\\r\\nDone.</td>\n",
       "      <td>tsuru</td>\n",
       "    </tr>\n",
       "    <tr>\n",
       "      <th>2</th>\n",
       "      <td>myclamm</td>\n",
       "      <td>2015-01-01T00:00:55Z</td>\n",
       "      <td>Thanks man. That's from week 4 of Hack Reactor...</td>\n",
       "      <td>GoldenLions</td>\n",
       "    </tr>\n",
       "    <tr>\n",
       "      <th>3</th>\n",
       "      <td>zindlerb</td>\n",
       "      <td>2015-01-01T00:01:44Z</td>\n",
       "      <td>_.reduce would be more elegant, but your call</td>\n",
       "      <td>selfhub</td>\n",
       "    </tr>\n",
       "    <tr>\n",
       "      <th>4</th>\n",
       "      <td>rwjblue</td>\n",
       "      <td>2015-01-01T00:01:54Z</td>\n",
       "      <td>Tiny nit-pick: can you name this something mea...</td>\n",
       "      <td>emberjs</td>\n",
       "    </tr>\n",
       "    <tr>\n",
       "      <th>...</th>\n",
       "      <td>...</td>\n",
       "      <td>...</td>\n",
       "      <td>...</td>\n",
       "      <td>...</td>\n",
       "    </tr>\n",
       "    <tr>\n",
       "      <th>635297</th>\n",
       "      <td>rings360</td>\n",
       "      <td>2015-02-28T09:59:16Z</td>\n",
       "      <td>Asar Sunny &lt;ring2rings93@gmail.com&gt;</td>\n",
       "      <td>AGV-IIT-KGP</td>\n",
       "    </tr>\n",
       "    <tr>\n",
       "      <th>635298</th>\n",
       "      <td>jeffcarp</td>\n",
       "      <td>2015-02-28T09:59:16Z</td>\n",
       "      <td>Thank you for doing this! Would you mind if I ...</td>\n",
       "      <td>veswill3</td>\n",
       "    </tr>\n",
       "    <tr>\n",
       "      <th>635299</th>\n",
       "      <td>msabramo</td>\n",
       "      <td>2015-02-28T09:59:42Z</td>\n",
       "      <td>Done.</td>\n",
       "      <td>Robpol86</td>\n",
       "    </tr>\n",
       "    <tr>\n",
       "      <th>635300</th>\n",
       "      <td>msabramo</td>\n",
       "      <td>2015-02-28T09:59:52Z</td>\n",
       "      <td>Done.</td>\n",
       "      <td>Robpol86</td>\n",
       "    </tr>\n",
       "    <tr>\n",
       "      <th>635301</th>\n",
       "      <td>janno42</td>\n",
       "      <td>2015-02-28T09:59:54Z</td>\n",
       "      <td>before it didn't matter because i was deleting...</td>\n",
       "      <td>janno42</td>\n",
       "    </tr>\n",
       "  </tbody>\n",
       "</table>\n",
       "<p>614864 rows × 4 columns</p>\n",
       "</div>"
      ],
      "text/plain": [
       "          AUTHOR            CREATED_AT  \\\n",
       "0       zindlerb  2015-01-01T00:00:08Z   \n",
       "1       msabramo  2015-01-01T00:00:53Z   \n",
       "2        myclamm  2015-01-01T00:00:55Z   \n",
       "3       zindlerb  2015-01-01T00:01:44Z   \n",
       "4        rwjblue  2015-01-01T00:01:54Z   \n",
       "...          ...                   ...   \n",
       "635297  rings360  2015-02-28T09:59:16Z   \n",
       "635298  jeffcarp  2015-02-28T09:59:16Z   \n",
       "635299  msabramo  2015-02-28T09:59:42Z   \n",
       "635300  msabramo  2015-02-28T09:59:52Z   \n",
       "635301   janno42  2015-02-28T09:59:54Z   \n",
       "\n",
       "                                                     BODY       source  \n",
       "0                           :sparkles: :pray: :sparkles:       selfhub  \n",
       "1          > Can you remove this empty line?\\r\\n\\r\\nDone.        tsuru  \n",
       "2       Thanks man. That's from week 4 of Hack Reactor...  GoldenLions  \n",
       "3           _.reduce would be more elegant, but your call      selfhub  \n",
       "4       Tiny nit-pick: can you name this something mea...      emberjs  \n",
       "...                                                   ...          ...  \n",
       "635297                Asar Sunny <ring2rings93@gmail.com>  AGV-IIT-KGP  \n",
       "635298  Thank you for doing this! Would you mind if I ...     veswill3  \n",
       "635299                                              Done.     Robpol86  \n",
       "635300                                              Done.     Robpol86  \n",
       "635301  before it didn't matter because i was deleting...      janno42  \n",
       "\n",
       "[614864 rows x 4 columns]"
      ]
     },
     "execution_count": 133,
     "metadata": {},
     "output_type": "execute_result"
    }
   ],
   "source": [
    "#First view of data\n",
    "data"
   ]
  },
  {
   "cell_type": "code",
   "execution_count": 134,
   "id": "a7b5a153",
   "metadata": {},
   "outputs": [
    {
     "data": {
      "text/plain": [
       "AUTHOR\n",
       "houndci             25584\n",
       "nrel-bot             2968\n",
       "bors-servo           2123\n",
       "codeschool-kiddo     1843\n",
       "miabot               1782\n",
       "                    ...  \n",
       "golergka                1\n",
       "golf1052                1\n",
       "golgher                 1\n",
       "goliver79               1\n",
       "iredpath                1\n",
       "Name: source, Length: 62797, dtype: int64"
      ]
     },
     "execution_count": 134,
     "metadata": {},
     "output_type": "execute_result"
    }
   ],
   "source": [
    "#Looking to the total contribuitions for the users in the source repositories\n",
    "total_contributions = data.groupby(['AUTHOR']).count()['source'].sort_values(ascending=False)\n",
    "total_contributions"
   ]
  },
  {
   "cell_type": "code",
   "execution_count": 135,
   "id": "44a6f378",
   "metadata": {},
   "outputs": [
    {
     "data": {
      "text/plain": [
       "count    62797.000000\n",
       "mean         9.791296\n",
       "std        108.432171\n",
       "min          1.000000\n",
       "25%          1.000000\n",
       "50%          2.000000\n",
       "75%          6.000000\n",
       "max      25584.000000\n",
       "Name: source, dtype: float64"
      ]
     },
     "execution_count": 135,
     "metadata": {},
     "output_type": "execute_result"
    }
   ],
   "source": [
    "# As we can see there are many contribuitors who participated much less than the average, we're going to use this to filter \n",
    "# the data: contribuitors who has less contributions than the average will not be considered for the network\n",
    "total_contributions.describe()"
   ]
  },
  {
   "cell_type": "code",
   "execution_count": 136,
   "id": "90f32c0e",
   "metadata": {},
   "outputs": [
    {
     "data": {
      "text/plain": [
       "Index(['mozilla', 'aspnet', 'edx', 'apache', 'rust-lang', 'caskdata',\n",
       "       'GoogleCloudPlatform', 'mozilla-b2g', 'Homebrew', 'NREL',\n",
       "       ...\n",
       "       'x3mSpeedy', 'cityoffortworth', 'GisellaDiaz', 'kategengler', 'scalan',\n",
       "       'SplunkStorm', 'appirio-tech', 'scodec', 'OpenConext', 'nicogarcia'],\n",
       "      dtype='object', name='source', length=5091)"
      ]
     },
     "execution_count": 136,
     "metadata": {},
     "output_type": "execute_result"
    }
   ],
   "source": [
    "#Cleaning the data as explaneid above\n",
    "contribuitors = data.groupby(['source']).count()['AUTHOR'].sort_values(ascending=False)\n",
    "contribuitors_mean = contribuitors.mean()\n",
    "repos_edge = contribuitors[contribuitors>contribuitors_mean]\n",
    "repos_edge.index"
   ]
  },
  {
   "cell_type": "code",
   "execution_count": 137,
   "id": "88f445b5",
   "metadata": {},
   "outputs": [],
   "source": [
    "#filtering\n",
    "data_clean = data[data['source'].isin(repos_edge.index)]"
   ]
  },
  {
   "cell_type": "code",
   "execution_count": 138,
   "id": "7f4fe276",
   "metadata": {},
   "outputs": [
    {
     "data": {
      "text/html": [
       "<div>\n",
       "<style scoped>\n",
       "    .dataframe tbody tr th:only-of-type {\n",
       "        vertical-align: middle;\n",
       "    }\n",
       "\n",
       "    .dataframe tbody tr th {\n",
       "        vertical-align: top;\n",
       "    }\n",
       "\n",
       "    .dataframe thead th {\n",
       "        text-align: right;\n",
       "    }\n",
       "</style>\n",
       "<table border=\"1\" class=\"dataframe\">\n",
       "  <thead>\n",
       "    <tr style=\"text-align: right;\">\n",
       "      <th></th>\n",
       "      <th>AUTHOR</th>\n",
       "      <th>CREATED_AT</th>\n",
       "      <th>BODY</th>\n",
       "      <th>source</th>\n",
       "    </tr>\n",
       "  </thead>\n",
       "  <tbody>\n",
       "    <tr>\n",
       "      <th>0</th>\n",
       "      <td>zindlerb</td>\n",
       "      <td>2015-01-01T00:00:08Z</td>\n",
       "      <td>:sparkles: :pray: :sparkles:</td>\n",
       "      <td>selfhub</td>\n",
       "    </tr>\n",
       "    <tr>\n",
       "      <th>1</th>\n",
       "      <td>msabramo</td>\n",
       "      <td>2015-01-01T00:00:53Z</td>\n",
       "      <td>&gt; Can you remove this empty line?\\r\\n\\r\\nDone.</td>\n",
       "      <td>tsuru</td>\n",
       "    </tr>\n",
       "    <tr>\n",
       "      <th>3</th>\n",
       "      <td>zindlerb</td>\n",
       "      <td>2015-01-01T00:01:44Z</td>\n",
       "      <td>_.reduce would be more elegant, but your call</td>\n",
       "      <td>selfhub</td>\n",
       "    </tr>\n",
       "    <tr>\n",
       "      <th>4</th>\n",
       "      <td>rwjblue</td>\n",
       "      <td>2015-01-01T00:01:54Z</td>\n",
       "      <td>Tiny nit-pick: can you name this something mea...</td>\n",
       "      <td>emberjs</td>\n",
       "    </tr>\n",
       "    <tr>\n",
       "      <th>5</th>\n",
       "      <td>bradenmacdonald</td>\n",
       "      <td>2015-01-01T00:02:33Z</td>\n",
       "      <td>Yeah, I will just remove that. It is always True.</td>\n",
       "      <td>edx</td>\n",
       "    </tr>\n",
       "    <tr>\n",
       "      <th>...</th>\n",
       "      <td>...</td>\n",
       "      <td>...</td>\n",
       "      <td>...</td>\n",
       "      <td>...</td>\n",
       "    </tr>\n",
       "    <tr>\n",
       "      <th>635296</th>\n",
       "      <td>XhmikosR</td>\n",
       "      <td>2015-02-28T09:58:15Z</td>\n",
       "      <td>@kasper93: are you sure [this](https://github....</td>\n",
       "      <td>kasper93</td>\n",
       "    </tr>\n",
       "    <tr>\n",
       "      <th>635297</th>\n",
       "      <td>rings360</td>\n",
       "      <td>2015-02-28T09:59:16Z</td>\n",
       "      <td>Asar Sunny &lt;ring2rings93@gmail.com&gt;</td>\n",
       "      <td>AGV-IIT-KGP</td>\n",
       "    </tr>\n",
       "    <tr>\n",
       "      <th>635299</th>\n",
       "      <td>msabramo</td>\n",
       "      <td>2015-02-28T09:59:42Z</td>\n",
       "      <td>Done.</td>\n",
       "      <td>Robpol86</td>\n",
       "    </tr>\n",
       "    <tr>\n",
       "      <th>635300</th>\n",
       "      <td>msabramo</td>\n",
       "      <td>2015-02-28T09:59:52Z</td>\n",
       "      <td>Done.</td>\n",
       "      <td>Robpol86</td>\n",
       "    </tr>\n",
       "    <tr>\n",
       "      <th>635301</th>\n",
       "      <td>janno42</td>\n",
       "      <td>2015-02-28T09:59:54Z</td>\n",
       "      <td>before it didn't matter because i was deleting...</td>\n",
       "      <td>janno42</td>\n",
       "    </tr>\n",
       "  </tbody>\n",
       "</table>\n",
       "<p>508830 rows × 4 columns</p>\n",
       "</div>"
      ],
      "text/plain": [
       "                 AUTHOR            CREATED_AT  \\\n",
       "0              zindlerb  2015-01-01T00:00:08Z   \n",
       "1              msabramo  2015-01-01T00:00:53Z   \n",
       "3              zindlerb  2015-01-01T00:01:44Z   \n",
       "4               rwjblue  2015-01-01T00:01:54Z   \n",
       "5       bradenmacdonald  2015-01-01T00:02:33Z   \n",
       "...                 ...                   ...   \n",
       "635296         XhmikosR  2015-02-28T09:58:15Z   \n",
       "635297         rings360  2015-02-28T09:59:16Z   \n",
       "635299         msabramo  2015-02-28T09:59:42Z   \n",
       "635300         msabramo  2015-02-28T09:59:52Z   \n",
       "635301          janno42  2015-02-28T09:59:54Z   \n",
       "\n",
       "                                                     BODY       source  \n",
       "0                           :sparkles: :pray: :sparkles:       selfhub  \n",
       "1          > Can you remove this empty line?\\r\\n\\r\\nDone.        tsuru  \n",
       "3           _.reduce would be more elegant, but your call      selfhub  \n",
       "4       Tiny nit-pick: can you name this something mea...      emberjs  \n",
       "5       Yeah, I will just remove that. It is always True.          edx  \n",
       "...                                                   ...          ...  \n",
       "635296  @kasper93: are you sure [this](https://github....     kasper93  \n",
       "635297                Asar Sunny <ring2rings93@gmail.com>  AGV-IIT-KGP  \n",
       "635299                                              Done.     Robpol86  \n",
       "635300                                              Done.     Robpol86  \n",
       "635301  before it didn't matter because i was deleting...      janno42  \n",
       "\n",
       "[508830 rows x 4 columns]"
      ]
     },
     "execution_count": 138,
     "metadata": {},
     "output_type": "execute_result"
    }
   ],
   "source": [
    "data_clean"
   ]
  },
  {
   "cell_type": "markdown",
   "id": "ac21274d",
   "metadata": {},
   "source": [
    "We already have the filter to build the network with a good context to define an edge between two collaborators: \n",
    "\n",
    "**There are an edge between them if they have at least one collaboration in a relevant source**\n",
    "\n",
    "Even so, there many developers who collaborate very little, and we need to adjust our data to maintain only developers with a appropriate average frequency in mass of data to avoid any bias due collators with less interactions than the average of collaborations."
   ]
  },
  {
   "cell_type": "code",
   "execution_count": 139,
   "id": "aeb4b680",
   "metadata": {},
   "outputs": [
    {
     "data": {
      "text/html": [
       "<div>\n",
       "<style scoped>\n",
       "    .dataframe tbody tr th:only-of-type {\n",
       "        vertical-align: middle;\n",
       "    }\n",
       "\n",
       "    .dataframe tbody tr th {\n",
       "        vertical-align: top;\n",
       "    }\n",
       "\n",
       "    .dataframe thead th {\n",
       "        text-align: right;\n",
       "    }\n",
       "</style>\n",
       "<table border=\"1\" class=\"dataframe\">\n",
       "  <thead>\n",
       "    <tr style=\"text-align: right;\">\n",
       "      <th></th>\n",
       "      <th>AUTHOR</th>\n",
       "      <th>CREATED_AT</th>\n",
       "      <th>BODY</th>\n",
       "      <th>source</th>\n",
       "    </tr>\n",
       "  </thead>\n",
       "  <tbody>\n",
       "    <tr>\n",
       "      <th>0</th>\n",
       "      <td>zindlerb</td>\n",
       "      <td>2015-01-01T00:00:08Z</td>\n",
       "      <td>:sparkles: :pray: :sparkles:</td>\n",
       "      <td>selfhub</td>\n",
       "    </tr>\n",
       "    <tr>\n",
       "      <th>1</th>\n",
       "      <td>msabramo</td>\n",
       "      <td>2015-01-01T00:00:53Z</td>\n",
       "      <td>&gt; Can you remove this empty line?\\r\\n\\r\\nDone.</td>\n",
       "      <td>tsuru</td>\n",
       "    </tr>\n",
       "    <tr>\n",
       "      <th>3</th>\n",
       "      <td>zindlerb</td>\n",
       "      <td>2015-01-01T00:01:44Z</td>\n",
       "      <td>_.reduce would be more elegant, but your call</td>\n",
       "      <td>selfhub</td>\n",
       "    </tr>\n",
       "    <tr>\n",
       "      <th>4</th>\n",
       "      <td>rwjblue</td>\n",
       "      <td>2015-01-01T00:01:54Z</td>\n",
       "      <td>Tiny nit-pick: can you name this something mea...</td>\n",
       "      <td>emberjs</td>\n",
       "    </tr>\n",
       "    <tr>\n",
       "      <th>5</th>\n",
       "      <td>bradenmacdonald</td>\n",
       "      <td>2015-01-01T00:02:33Z</td>\n",
       "      <td>Yeah, I will just remove that. It is always True.</td>\n",
       "      <td>edx</td>\n",
       "    </tr>\n",
       "    <tr>\n",
       "      <th>...</th>\n",
       "      <td>...</td>\n",
       "      <td>...</td>\n",
       "      <td>...</td>\n",
       "      <td>...</td>\n",
       "    </tr>\n",
       "    <tr>\n",
       "      <th>635295</th>\n",
       "      <td>Zuhayr</td>\n",
       "      <td>2015-02-28T09:57:23Z</td>\n",
       "      <td>Whoops, good call.</td>\n",
       "      <td>Baystation12</td>\n",
       "    </tr>\n",
       "    <tr>\n",
       "      <th>635296</th>\n",
       "      <td>XhmikosR</td>\n",
       "      <td>2015-02-28T09:58:15Z</td>\n",
       "      <td>@kasper93: are you sure [this](https://github....</td>\n",
       "      <td>kasper93</td>\n",
       "    </tr>\n",
       "    <tr>\n",
       "      <th>635299</th>\n",
       "      <td>msabramo</td>\n",
       "      <td>2015-02-28T09:59:42Z</td>\n",
       "      <td>Done.</td>\n",
       "      <td>Robpol86</td>\n",
       "    </tr>\n",
       "    <tr>\n",
       "      <th>635300</th>\n",
       "      <td>msabramo</td>\n",
       "      <td>2015-02-28T09:59:52Z</td>\n",
       "      <td>Done.</td>\n",
       "      <td>Robpol86</td>\n",
       "    </tr>\n",
       "    <tr>\n",
       "      <th>635301</th>\n",
       "      <td>janno42</td>\n",
       "      <td>2015-02-28T09:59:54Z</td>\n",
       "      <td>before it didn't matter because i was deleting...</td>\n",
       "      <td>janno42</td>\n",
       "    </tr>\n",
       "  </tbody>\n",
       "</table>\n",
       "<p>404063 rows × 4 columns</p>\n",
       "</div>"
      ],
      "text/plain": [
       "                 AUTHOR            CREATED_AT  \\\n",
       "0              zindlerb  2015-01-01T00:00:08Z   \n",
       "1              msabramo  2015-01-01T00:00:53Z   \n",
       "3              zindlerb  2015-01-01T00:01:44Z   \n",
       "4               rwjblue  2015-01-01T00:01:54Z   \n",
       "5       bradenmacdonald  2015-01-01T00:02:33Z   \n",
       "...                 ...                   ...   \n",
       "635295           Zuhayr  2015-02-28T09:57:23Z   \n",
       "635296         XhmikosR  2015-02-28T09:58:15Z   \n",
       "635299         msabramo  2015-02-28T09:59:42Z   \n",
       "635300         msabramo  2015-02-28T09:59:52Z   \n",
       "635301          janno42  2015-02-28T09:59:54Z   \n",
       "\n",
       "                                                     BODY        source  \n",
       "0                           :sparkles: :pray: :sparkles:        selfhub  \n",
       "1          > Can you remove this empty line?\\r\\n\\r\\nDone.         tsuru  \n",
       "3           _.reduce would be more elegant, but your call       selfhub  \n",
       "4       Tiny nit-pick: can you name this something mea...       emberjs  \n",
       "5       Yeah, I will just remove that. It is always True.           edx  \n",
       "...                                                   ...           ...  \n",
       "635295                                 Whoops, good call.  Baystation12  \n",
       "635296  @kasper93: are you sure [this](https://github....      kasper93  \n",
       "635299                                              Done.      Robpol86  \n",
       "635300                                              Done.      Robpol86  \n",
       "635301  before it didn't matter because i was deleting...       janno42  \n",
       "\n",
       "[404063 rows x 4 columns]"
      ]
     },
     "execution_count": 139,
     "metadata": {},
     "output_type": "execute_result"
    }
   ],
   "source": [
    "#Contributions to define an edge\n",
    "edge_contrib = data_clean.groupby(['AUTHOR']).count()['source'].sort_values(ascending=False)\n",
    "#Average contributions\n",
    "average_contrib =edge_contrib.mean()\n",
    "#Filtering\n",
    "above_average_contrib = edge_contrib[edge_contrib>average_contrib]\n",
    "data_clean = data_clean[data_clean['AUTHOR'].isin(above_average_contrib.index)]\n",
    "authors = data_clean.groupby(['AUTHOR']).count()['source'].sort_values(ascending=False)\n",
    "data_clean"
   ]
  },
  {
   "cell_type": "markdown",
   "id": "31fd1211",
   "metadata": {},
   "source": [
    "## Defining focus\n",
    "\n",
    "We now need to define a custom metric to help to define our hypothesis: \n",
    "\n",
    "**As much a developers belong to a community (obtained by cluster coefficient metric), he has focus in the collaborations**\n",
    "\n",
    "That way we need to define the concept of focus. Focus will be understanding in this context by: \n",
    "\n",
    "*Number of developer collaborations considered for edge formation divided per total collaborations in the data, thoughtful by the Number of developer collaborations per the max Number of collaborations of an individual:*\n",
    "\n",
    " $$focus = \\frac{edgeContributions_i}{totalContributions_i}\\cdot\\frac{edgeContributions_i}{maxEdgeContribution}$$\n",
    " \n",
    " This metric is interesting because as define the percentage of relevant contributions to the graph, it takes into account the quantity of the individual contributions of the developer, giving different weights to them, even the  percentage of relevant contributions is similar, deepening the relevance of this metric."
   ]
  },
  {
   "cell_type": "code",
   "execution_count": 140,
   "id": "ed3747af",
   "metadata": {},
   "outputs": [
    {
     "data": {
      "text/plain": [
       "AUTHOR\n",
       "bmuschko       0.000002\n",
       "koriym         0.000002\n",
       "demobox        0.000002\n",
       "davidvossel    0.000002\n",
       "pexcn          0.000002\n",
       "                 ...   \n",
       "bors           0.058942\n",
       "miabot         0.072041\n",
       "bors-servo     0.085826\n",
       "nrel-bot       0.117894\n",
       "houndci        0.966854\n",
       "Name: source, Length: 27880, dtype: float64"
      ]
     },
     "execution_count": 140,
     "metadata": {},
     "output_type": "execute_result"
    }
   ],
   "source": [
    "focus = (edge_contrib/total_contributions)*(edge_contrib/np.max(edge_contrib))\n",
    "focus = focus.dropna().sort_values(ascending=True)\n",
    "focus"
   ]
  },
  {
   "cell_type": "markdown",
   "id": "dbd24c01",
   "metadata": {},
   "source": [
    "## Building the Network properly\n",
    "\n",
    "To the define the network we need to enumerate the collaborators who interact in the same repo by repo, and after it set pairs of developers to create an edge in the network. \n",
    "\n",
    "Concurrently we are defining the focus of each developer."
   ]
  },
  {
   "cell_type": "code",
   "execution_count": 141,
   "id": "fe8bcc4e",
   "metadata": {},
   "outputs": [
    {
     "data": {
      "text/plain": [
       "source\n",
       "01org                                [dawagner, pozdnyakov, rakuco]\n",
       "0xAX                                                         [0xAX]\n",
       "10gen                                                   [behackett]\n",
       "12factor                                       [fernandes, gwmoura]\n",
       "18F               [afeld, cmc333333, gboone, khandelwal, konklon...\n",
       "                                        ...                        \n",
       "zooniverse                                      [camallen, edpaget]\n",
       "zopefoundation                         [mgedmin, msabramo, tseaver]\n",
       "zotero            [adam3smith, aurimasv, dstillman, rmzelle, sim...\n",
       "zxqfox                                 [andrewblond, eGavr, zxqfox]\n",
       "zyndiecate                                             [zyndiecate]\n",
       "Name: AUTHOR, Length: 3839, dtype: object"
      ]
     },
     "execution_count": 141,
     "metadata": {},
     "output_type": "execute_result"
    }
   ],
   "source": [
    "same_repo_colab = data_clean.groupby('source')['AUTHOR'].apply(lambda x: list(np.unique(x)))\n",
    "same_repo_colab"
   ]
  },
  {
   "cell_type": "code",
   "execution_count": 142,
   "id": "ef5ead84",
   "metadata": {},
   "outputs": [],
   "source": [
    "import itertools\n",
    "import warnings\n",
    "warnings.filterwarnings('ignore') \n",
    "\n",
    "g.add_vp('focus')\n",
    "g.add_vp('colabs')\n",
    "for index, row in same_repo_colab.iteritems():\n",
    "    pairs = itertools.combinations(row, 2)\n",
    "    for i,pair in enumerate(pairs):\n",
    "        try:\n",
    "            g.add_vertex(pair[0])\n",
    "            u = g.get_vertex(pair[0])\n",
    "            u['focus'] = focus[pair[0]]\n",
    "            u['colabs'] = int(edge_contrib[pair[0]])\n",
    "        except Exception as inst:\n",
    "            pass\n",
    "        try:\n",
    "            g.add_vertex(pair[1])\n",
    "            v = g.get_vertex(pair[1])\n",
    "            v['focus'] = focus[pair[1]]\n",
    "            v['colabs'] = int(edge_contrib[pair[1]])\n",
    "        except Exception as inst:\n",
    "            pass\n",
    "        finally:\n",
    "            try:\n",
    "                g.add_edge(pair[0],pair[1])\n",
    "            except:\n",
    "                pass"
   ]
  },
  {
   "cell_type": "markdown",
   "id": "6335b33d",
   "metadata": {},
   "source": [
    "#### Number of vertex in the graph"
   ]
  },
  {
   "cell_type": "code",
   "execution_count": 143,
   "id": "3a42b4ef",
   "metadata": {},
   "outputs": [
    {
     "name": "stdout",
     "output_type": "stream",
     "text": [
      "g's number of vertex: 4947\n"
     ]
    }
   ],
   "source": [
    "n = g.num_vertices()\n",
    "print(\"g's number of vertex:\", n)"
   ]
  },
  {
   "cell_type": "markdown",
   "id": "0535bfd6",
   "metadata": {},
   "source": [
    "#### Number of edges in the graph"
   ]
  },
  {
   "cell_type": "code",
   "execution_count": 144,
   "id": "59d444bd",
   "metadata": {},
   "outputs": [
    {
     "name": "stdout",
     "output_type": "stream",
     "text": [
      "g's number of edges: 52366\n"
     ]
    }
   ],
   "source": [
    "m = g.num_edges()\n",
    "print(\"g's number of edges:\", m)"
   ]
  },
  {
   "cell_type": "markdown",
   "id": "dfad626f",
   "metadata": {},
   "source": [
    "#### Density of the graph"
   ]
  },
  {
   "cell_type": "code",
   "execution_count": 145,
   "id": "fb1d2c81",
   "metadata": {},
   "outputs": [
    {
     "data": {
      "text/plain": [
       "12233931"
      ]
     },
     "execution_count": 145,
     "metadata": {},
     "output_type": "execute_result"
    }
   ],
   "source": [
    "if g.is_directed():\n",
    "    max_edges = n * (n - 1)\n",
    "else:\n",
    "    max_edges = n * (n - 1) // 2\n",
    "max_edges"
   ]
  },
  {
   "cell_type": "code",
   "execution_count": 146,
   "id": "d388dcbb",
   "metadata": {},
   "outputs": [
    {
     "name": "stdout",
     "output_type": "stream",
     "text": [
      "Density is 0.004280390334063516\n"
     ]
    }
   ],
   "source": [
    "d = m / max_edges\n",
    "d\n",
    "print(f'Density is {d}')"
   ]
  },
  {
   "cell_type": "markdown",
   "id": "e76885fb",
   "metadata": {},
   "source": [
    "### Analyzing the graph\n",
    "\n",
    "After obtained the general data of the graph, we need to create insights by regression details which describes better if our hypothesis will be confirmed or not."
   ]
  },
  {
   "cell_type": "code",
   "execution_count": 147,
   "id": "75c50ee5",
   "metadata": {},
   "outputs": [],
   "source": [
    "import seaborn as sns\n",
    "from netpixi.integration.gt import *\n",
    "from regression.integration.gt import *"
   ]
  },
  {
   "cell_type": "code",
   "execution_count": 148,
   "id": "7376383e",
   "metadata": {},
   "outputs": [
    {
     "data": {
      "text/html": [
       "<div>\n",
       "<style scoped>\n",
       "    .dataframe tbody tr th:only-of-type {\n",
       "        vertical-align: middle;\n",
       "    }\n",
       "\n",
       "    .dataframe tbody tr th {\n",
       "        vertical-align: top;\n",
       "    }\n",
       "\n",
       "    .dataframe thead th {\n",
       "        text-align: right;\n",
       "    }\n",
       "</style>\n",
       "<table border=\"1\" class=\"dataframe\">\n",
       "  <thead>\n",
       "    <tr style=\"text-align: right;\">\n",
       "      <th></th>\n",
       "      <th>focus</th>\n",
       "      <th>colabs</th>\n",
       "    </tr>\n",
       "    <tr>\n",
       "      <th>id</th>\n",
       "      <th></th>\n",
       "      <th></th>\n",
       "    </tr>\n",
       "  </thead>\n",
       "  <tbody>\n",
       "    <tr>\n",
       "      <th>dawagner</th>\n",
       "      <td>0.000770</td>\n",
       "      <td>20</td>\n",
       "    </tr>\n",
       "    <tr>\n",
       "      <th>pozdnyakov</th>\n",
       "      <td>0.002832</td>\n",
       "      <td>72</td>\n",
       "    </tr>\n",
       "    <tr>\n",
       "      <th>rakuco</th>\n",
       "      <td>0.001183</td>\n",
       "      <td>32</td>\n",
       "    </tr>\n",
       "    <tr>\n",
       "      <th>fernandes</th>\n",
       "      <td>0.001500</td>\n",
       "      <td>39</td>\n",
       "    </tr>\n",
       "    <tr>\n",
       "      <th>gwmoura</th>\n",
       "      <td>0.000695</td>\n",
       "      <td>19</td>\n",
       "    </tr>\n",
       "  </tbody>\n",
       "</table>\n",
       "</div>"
      ],
      "text/plain": [
       "               focus  colabs\n",
       "id                          \n",
       "dawagner    0.000770      20\n",
       "pozdnyakov  0.002832      72\n",
       "rakuco      0.001183      32\n",
       "fernandes   0.001500      39\n",
       "gwmoura     0.000695      19"
      ]
     },
     "execution_count": 148,
     "metadata": {},
     "output_type": "execute_result"
    }
   ],
   "source": [
    "data = gt_data(g)\n",
    "data.head(5)"
   ]
  },
  {
   "cell_type": "markdown",
   "id": "da3d37e7",
   "metadata": {},
   "source": [
    "##### Adding clustering and degree metrics"
   ]
  },
  {
   "cell_type": "code",
   "execution_count": 149,
   "id": "36112486",
   "metadata": {},
   "outputs": [
    {
     "data": {
      "text/html": [
       "<div>\n",
       "<style scoped>\n",
       "    .dataframe tbody tr th:only-of-type {\n",
       "        vertical-align: middle;\n",
       "    }\n",
       "\n",
       "    .dataframe tbody tr th {\n",
       "        vertical-align: top;\n",
       "    }\n",
       "\n",
       "    .dataframe thead th {\n",
       "        text-align: right;\n",
       "    }\n",
       "</style>\n",
       "<table border=\"1\" class=\"dataframe\">\n",
       "  <thead>\n",
       "    <tr style=\"text-align: right;\">\n",
       "      <th></th>\n",
       "      <th>focus</th>\n",
       "      <th>colabs</th>\n",
       "      <th>clustering</th>\n",
       "      <th>degree</th>\n",
       "    </tr>\n",
       "  </thead>\n",
       "  <tbody>\n",
       "    <tr>\n",
       "      <th>count</th>\n",
       "      <td>4947.000000</td>\n",
       "      <td>4947.000000</td>\n",
       "      <td>4947.000000</td>\n",
       "      <td>4947.000000</td>\n",
       "    </tr>\n",
       "    <tr>\n",
       "      <th>mean</th>\n",
       "      <td>0.002946</td>\n",
       "      <td>75.336365</td>\n",
       "      <td>0.770065</td>\n",
       "      <td>0.004280</td>\n",
       "    </tr>\n",
       "    <tr>\n",
       "      <th>std</th>\n",
       "      <td>0.014299</td>\n",
       "      <td>365.308336</td>\n",
       "      <td>0.362289</td>\n",
       "      <td>0.006353</td>\n",
       "    </tr>\n",
       "    <tr>\n",
       "      <th>min</th>\n",
       "      <td>0.000317</td>\n",
       "      <td>19.000000</td>\n",
       "      <td>0.000000</td>\n",
       "      <td>0.000202</td>\n",
       "    </tr>\n",
       "    <tr>\n",
       "      <th>25%</th>\n",
       "      <td>0.001012</td>\n",
       "      <td>27.000000</td>\n",
       "      <td>0.641690</td>\n",
       "      <td>0.000607</td>\n",
       "    </tr>\n",
       "    <tr>\n",
       "      <th>50%</th>\n",
       "      <td>0.001614</td>\n",
       "      <td>42.000000</td>\n",
       "      <td>1.000000</td>\n",
       "      <td>0.001415</td>\n",
       "    </tr>\n",
       "    <tr>\n",
       "      <th>75%</th>\n",
       "      <td>0.002951</td>\n",
       "      <td>75.500000</td>\n",
       "      <td>1.000000</td>\n",
       "      <td>0.004852</td>\n",
       "    </tr>\n",
       "    <tr>\n",
       "      <th>max</th>\n",
       "      <td>0.966854</td>\n",
       "      <td>24736.000000</td>\n",
       "      <td>1.000000</td>\n",
       "      <td>0.076021</td>\n",
       "    </tr>\n",
       "  </tbody>\n",
       "</table>\n",
       "</div>"
      ],
      "text/plain": [
       "             focus        colabs   clustering       degree\n",
       "count  4947.000000   4947.000000  4947.000000  4947.000000\n",
       "mean      0.002946     75.336365     0.770065     0.004280\n",
       "std       0.014299    365.308336     0.362289     0.006353\n",
       "min       0.000317     19.000000     0.000000     0.000202\n",
       "25%       0.001012     27.000000     0.641690     0.000607\n",
       "50%       0.001614     42.000000     1.000000     0.001415\n",
       "75%       0.002951     75.500000     1.000000     0.004852\n",
       "max       0.966854  24736.000000     1.000000     0.076021"
      ]
     },
     "execution_count": 149,
     "metadata": {},
     "output_type": "execute_result"
    }
   ],
   "source": [
    "from graph_tool import clustering\n",
    "\n",
    "lc = clustering.local_clustering(g)\n",
    "g.add_vp('clustering', lc)\n",
    "dc = gt_total_degree(g)\n",
    "g.add_vp('degree', dc)\n",
    "data = gt_data(g)\n",
    "data.describe()"
   ]
  },
  {
   "cell_type": "code",
   "execution_count": 150,
   "id": "9ab4cebe",
   "metadata": {},
   "outputs": [
    {
     "data": {
      "text/html": [
       "<div>\n",
       "<style scoped>\n",
       "    .dataframe tbody tr th:only-of-type {\n",
       "        vertical-align: middle;\n",
       "    }\n",
       "\n",
       "    .dataframe tbody tr th {\n",
       "        vertical-align: top;\n",
       "    }\n",
       "\n",
       "    .dataframe thead th {\n",
       "        text-align: right;\n",
       "    }\n",
       "</style>\n",
       "<table border=\"1\" class=\"dataframe\">\n",
       "  <thead>\n",
       "    <tr style=\"text-align: right;\">\n",
       "      <th></th>\n",
       "      <th>degree_count</th>\n",
       "    </tr>\n",
       "  </thead>\n",
       "  <tbody>\n",
       "    <tr>\n",
       "      <th>count</th>\n",
       "      <td>4947.000000</td>\n",
       "    </tr>\n",
       "    <tr>\n",
       "      <th>mean</th>\n",
       "      <td>21.170811</td>\n",
       "    </tr>\n",
       "    <tr>\n",
       "      <th>std</th>\n",
       "      <td>31.424338</td>\n",
       "    </tr>\n",
       "    <tr>\n",
       "      <th>min</th>\n",
       "      <td>1.000000</td>\n",
       "    </tr>\n",
       "    <tr>\n",
       "      <th>25%</th>\n",
       "      <td>3.000000</td>\n",
       "    </tr>\n",
       "    <tr>\n",
       "      <th>50%</th>\n",
       "      <td>7.000000</td>\n",
       "    </tr>\n",
       "    <tr>\n",
       "      <th>75%</th>\n",
       "      <td>24.000000</td>\n",
       "    </tr>\n",
       "    <tr>\n",
       "      <th>max</th>\n",
       "      <td>376.000000</td>\n",
       "    </tr>\n",
       "  </tbody>\n",
       "</table>\n",
       "</div>"
      ],
      "text/plain": [
       "       degree_count\n",
       "count   4947.000000\n",
       "mean      21.170811\n",
       "std       31.424338\n",
       "min        1.000000\n",
       "25%        3.000000\n",
       "50%        7.000000\n",
       "75%       24.000000\n",
       "max      376.000000"
      ]
     },
     "execution_count": 150,
     "metadata": {},
     "output_type": "execute_result"
    }
   ],
   "source": [
    "degrees = []\n",
    "for v in g.all_vertices():\n",
    "    degrees.append(v.total_degree())\n",
    "data['degree_count'] = degrees\n",
    "data['degree_count'].describe().to_frame()"
   ]
  },
  {
   "cell_type": "code",
   "execution_count": 151,
   "id": "3e868744",
   "metadata": {},
   "outputs": [
    {
     "data": {
      "text/plain": [
       "<AxesSubplot: xlabel='degree_count', ylabel='Count'>"
      ]
     },
     "execution_count": 151,
     "metadata": {},
     "output_type": "execute_result"
    },
    {
     "data": {
      "image/png": "[encoded data removed]",
      "text/plain": [
       "<Figure size 640x480 with 1 Axes>"
      ]
     },
     "metadata": {},
     "output_type": "display_data"
    }
   ],
   "source": [
    "sns.histplot(data['degree_count'])"
   ]
  },
  {
   "cell_type": "markdown",
   "id": "46acd71c",
   "metadata": {},
   "source": [
    "#### Dropping the outliers (colabs > 1000)\n",
    "\n",
    "As we can see above there collaborators who are much higher than the collaborations, and much of them are bot's accounts (e.g *houndci* and *nrel-bot*). For this, we're removing them for the analysis."
   ]
  },
  {
   "cell_type": "code",
   "execution_count": 152,
   "id": "599f26e0",
   "metadata": {},
   "outputs": [],
   "source": [
    "selRows = data[data['colabs'] > 400].index\n",
    "data = data.drop(selRows,axis=0)"
   ]
  },
  {
   "cell_type": "markdown",
   "id": "16439770",
   "metadata": {},
   "source": [
    "### Normalizing focus\n",
    "\n",
    "After removing the outliers we need to normalize the focus metric to properly give insights about the data."
   ]
  },
  {
   "cell_type": "code",
   "execution_count": 153,
   "id": "0974e5b8",
   "metadata": {},
   "outputs": [],
   "source": [
    "x = data['focus']\n",
    "x_norm = (x-np.min(x))/(np.max(x)-np.min(x)) + 1e-10 #For log issues in the next cells\n",
    "data['focus'] = x_norm"
   ]
  },
  {
   "cell_type": "code",
   "execution_count": 154,
   "id": "00cf02c4",
   "metadata": {},
   "outputs": [
    {
     "data": {
      "text/html": [
       "<div>\n",
       "<style scoped>\n",
       "    .dataframe tbody tr th:only-of-type {\n",
       "        vertical-align: middle;\n",
       "    }\n",
       "\n",
       "    .dataframe tbody tr th {\n",
       "        vertical-align: top;\n",
       "    }\n",
       "\n",
       "    .dataframe thead th {\n",
       "        text-align: right;\n",
       "    }\n",
       "</style>\n",
       "<table border=\"1\" class=\"dataframe\">\n",
       "  <thead>\n",
       "    <tr style=\"text-align: right;\">\n",
       "      <th></th>\n",
       "      <th>degree</th>\n",
       "    </tr>\n",
       "  </thead>\n",
       "  <tbody>\n",
       "    <tr>\n",
       "      <th>count</th>\n",
       "      <td>4882.000000</td>\n",
       "    </tr>\n",
       "    <tr>\n",
       "      <th>mean</th>\n",
       "      <td>0.004205</td>\n",
       "    </tr>\n",
       "    <tr>\n",
       "      <th>std</th>\n",
       "      <td>0.006191</td>\n",
       "    </tr>\n",
       "    <tr>\n",
       "      <th>min</th>\n",
       "      <td>0.000202</td>\n",
       "    </tr>\n",
       "    <tr>\n",
       "      <th>25%</th>\n",
       "      <td>0.000607</td>\n",
       "    </tr>\n",
       "    <tr>\n",
       "      <th>50%</th>\n",
       "      <td>0.001415</td>\n",
       "    </tr>\n",
       "    <tr>\n",
       "      <th>75%</th>\n",
       "      <td>0.004852</td>\n",
       "    </tr>\n",
       "    <tr>\n",
       "      <th>max</th>\n",
       "      <td>0.040437</td>\n",
       "    </tr>\n",
       "  </tbody>\n",
       "</table>\n",
       "</div>"
      ],
      "text/plain": [
       "            degree\n",
       "count  4882.000000\n",
       "mean      0.004205\n",
       "std       0.006191\n",
       "min       0.000202\n",
       "25%       0.000607\n",
       "50%       0.001415\n",
       "75%       0.004852\n",
       "max       0.040437"
      ]
     },
     "execution_count": 154,
     "metadata": {},
     "output_type": "execute_result"
    }
   ],
   "source": [
    "data['degree'].describe().to_frame()"
   ]
  },
  {
   "cell_type": "code",
   "execution_count": 155,
   "id": "5f233e7f",
   "metadata": {},
   "outputs": [
    {
     "data": {
      "text/html": [
       "<div>\n",
       "<style scoped>\n",
       "    .dataframe tbody tr th:only-of-type {\n",
       "        vertical-align: middle;\n",
       "    }\n",
       "\n",
       "    .dataframe tbody tr th {\n",
       "        vertical-align: top;\n",
       "    }\n",
       "\n",
       "    .dataframe thead th {\n",
       "        text-align: right;\n",
       "    }\n",
       "</style>\n",
       "<table border=\"1\" class=\"dataframe\">\n",
       "  <thead>\n",
       "    <tr style=\"text-align: right;\">\n",
       "      <th></th>\n",
       "      <th>focus</th>\n",
       "    </tr>\n",
       "  </thead>\n",
       "  <tbody>\n",
       "    <tr>\n",
       "      <th>count</th>\n",
       "      <td>4.882000e+03</td>\n",
       "    </tr>\n",
       "    <tr>\n",
       "      <th>mean</th>\n",
       "      <td>1.362739e-01</td>\n",
       "    </tr>\n",
       "    <tr>\n",
       "      <th>std</th>\n",
       "      <td>1.462076e-01</td>\n",
       "    </tr>\n",
       "    <tr>\n",
       "      <th>min</th>\n",
       "      <td>1.000000e-10</td>\n",
       "    </tr>\n",
       "    <tr>\n",
       "      <th>25%</th>\n",
       "      <td>4.476596e-02</td>\n",
       "    </tr>\n",
       "    <tr>\n",
       "      <th>50%</th>\n",
       "      <td>8.133679e-02</td>\n",
       "    </tr>\n",
       "    <tr>\n",
       "      <th>75%</th>\n",
       "      <td>1.632872e-01</td>\n",
       "    </tr>\n",
       "    <tr>\n",
       "      <th>max</th>\n",
       "      <td>1.000000e+00</td>\n",
       "    </tr>\n",
       "  </tbody>\n",
       "</table>\n",
       "</div>"
      ],
      "text/plain": [
       "              focus\n",
       "count  4.882000e+03\n",
       "mean   1.362739e-01\n",
       "std    1.462076e-01\n",
       "min    1.000000e-10\n",
       "25%    4.476596e-02\n",
       "50%    8.133679e-02\n",
       "75%    1.632872e-01\n",
       "max    1.000000e+00"
      ]
     },
     "execution_count": 155,
     "metadata": {},
     "output_type": "execute_result"
    }
   ],
   "source": [
    "data['focus'].describe().to_frame()"
   ]
  },
  {
   "cell_type": "markdown",
   "id": "2a923183",
   "metadata": {},
   "source": [
    "### Regression "
   ]
  },
  {
   "cell_type": "code",
   "execution_count": 156,
   "id": "cb2b21be",
   "metadata": {},
   "outputs": [
    {
     "data": {
      "text/plain": [
       "<AxesSubplot: xlabel='focus', ylabel='Count'>"
      ]
     },
     "execution_count": 156,
     "metadata": {},
     "output_type": "execute_result"
    },
    {
     "data": {
      "image/png": "[encoded data removed]",
      "text/plain": [
       "<Figure size 640x480 with 1 Axes>"
      ]
     },
     "metadata": {},
     "output_type": "display_data"
    }
   ],
   "source": [
    "sns.histplot(data['focus'])"
   ]
  },
  {
   "cell_type": "code",
   "execution_count": 157,
   "id": "72b75297",
   "metadata": {},
   "outputs": [
    {
     "data": {
      "text/plain": [
       "<AxesSubplot: xlabel='degree', ylabel='Count'>"
      ]
     },
     "execution_count": 157,
     "metadata": {},
     "output_type": "execute_result"
    },
    {
     "data": {
      "image/png": "[encoded data removed]",
      "text/plain": [
       "<Figure size 640x480 with 1 Axes>"
      ]
     },
     "metadata": {},
     "output_type": "display_data"
    }
   ],
   "source": [
    "sns.histplot(data['degree'])"
   ]
  },
  {
   "cell_type": "code",
   "execution_count": 158,
   "id": "82e480fc",
   "metadata": {},
   "outputs": [],
   "source": [
    "import seaborn as sns\n",
    "import regression as reg\n",
    "\n",
    "from scipy import stats\n",
    "from matplotlib import pyplot as plt"
   ]
  },
  {
   "cell_type": "code",
   "execution_count": 159,
   "id": "f04c58a3",
   "metadata": {},
   "outputs": [
    {
     "data": {
      "image/png": "[encoded data removed]",
      "text/plain": [
       "<Figure size 640x480 with 1 Axes>"
      ]
     },
     "metadata": {},
     "output_type": "display_data"
    }
   ],
   "source": [
    "sns.scatterplot(x=data['clustering'], y=np.log(data['focus']));"
   ]
  },
  {
   "cell_type": "code",
   "execution_count": 160,
   "id": "812c9170",
   "metadata": {},
   "outputs": [
    {
     "data": {
      "text/html": [
       "<div>\n",
       "<style scoped>\n",
       "    .dataframe tbody tr th:only-of-type {\n",
       "        vertical-align: middle;\n",
       "    }\n",
       "\n",
       "    .dataframe tbody tr th {\n",
       "        vertical-align: top;\n",
       "    }\n",
       "\n",
       "    .dataframe thead th {\n",
       "        text-align: right;\n",
       "    }\n",
       "</style>\n",
       "<table border=\"1\" class=\"dataframe\">\n",
       "  <thead>\n",
       "    <tr style=\"text-align: right;\">\n",
       "      <th></th>\n",
       "      <th>focus</th>\n",
       "      <th>colabs</th>\n",
       "      <th>clustering</th>\n",
       "      <th>degree</th>\n",
       "      <th>degree_count</th>\n",
       "    </tr>\n",
       "    <tr>\n",
       "      <th>id</th>\n",
       "      <th></th>\n",
       "      <th></th>\n",
       "      <th></th>\n",
       "      <th></th>\n",
       "      <th></th>\n",
       "    </tr>\n",
       "  </thead>\n",
       "  <tbody>\n",
       "    <tr>\n",
       "      <th>cahrens</th>\n",
       "      <td>1.000000e+00</td>\n",
       "      <td>391</td>\n",
       "      <td>1.000000</td>\n",
       "      <td>0.014962</td>\n",
       "      <td>74</td>\n",
       "    </tr>\n",
       "    <tr>\n",
       "      <th>yishaigalatzer</th>\n",
       "      <td>9.973901e-01</td>\n",
       "      <td>390</td>\n",
       "      <td>1.000000</td>\n",
       "      <td>0.008492</td>\n",
       "      <td>42</td>\n",
       "    </tr>\n",
       "    <tr>\n",
       "      <th>jzaefferer</th>\n",
       "      <td>9.869504e-01</td>\n",
       "      <td>386</td>\n",
       "      <td>0.652308</td>\n",
       "      <td>0.005257</td>\n",
       "      <td>26</td>\n",
       "    </tr>\n",
       "    <tr>\n",
       "      <th>DanielRosenwasser</th>\n",
       "      <td>9.791475e-01</td>\n",
       "      <td>385</td>\n",
       "      <td>1.000000</td>\n",
       "      <td>0.004650</td>\n",
       "      <td>23</td>\n",
       "    </tr>\n",
       "    <tr>\n",
       "      <th>tde-banana-odoo</th>\n",
       "      <td>9.765106e-01</td>\n",
       "      <td>382</td>\n",
       "      <td>1.000000</td>\n",
       "      <td>0.006066</td>\n",
       "      <td>30</td>\n",
       "    </tr>\n",
       "    <tr>\n",
       "      <th>...</th>\n",
       "      <td>...</td>\n",
       "      <td>...</td>\n",
       "      <td>...</td>\n",
       "      <td>...</td>\n",
       "      <td>...</td>\n",
       "    </tr>\n",
       "    <tr>\n",
       "      <th>lexware</th>\n",
       "      <td>7.733180e-03</td>\n",
       "      <td>20</td>\n",
       "      <td>0.842857</td>\n",
       "      <td>0.004246</td>\n",
       "      <td>21</td>\n",
       "    </tr>\n",
       "    <tr>\n",
       "      <th>neobuddy89</th>\n",
       "      <td>7.229036e-03</td>\n",
       "      <td>19</td>\n",
       "      <td>0.000000</td>\n",
       "      <td>0.000404</td>\n",
       "      <td>2</td>\n",
       "    </tr>\n",
       "    <tr>\n",
       "      <th>adamralph</th>\n",
       "      <td>7.229036e-03</td>\n",
       "      <td>19</td>\n",
       "      <td>1.000000</td>\n",
       "      <td>0.001213</td>\n",
       "      <td>6</td>\n",
       "    </tr>\n",
       "    <tr>\n",
       "      <th>sagikazarmark</th>\n",
       "      <td>6.437285e-03</td>\n",
       "      <td>19</td>\n",
       "      <td>0.805556</td>\n",
       "      <td>0.001820</td>\n",
       "      <td>9</td>\n",
       "    </tr>\n",
       "    <tr>\n",
       "      <th>stoeffel</th>\n",
       "      <td>1.000000e-10</td>\n",
       "      <td>19</td>\n",
       "      <td>0.571429</td>\n",
       "      <td>0.001415</td>\n",
       "      <td>7</td>\n",
       "    </tr>\n",
       "  </tbody>\n",
       "</table>\n",
       "<p>4882 rows × 5 columns</p>\n",
       "</div>"
      ],
      "text/plain": [
       "                          focus  colabs  clustering    degree  degree_count\n",
       "id                                                                         \n",
       "cahrens            1.000000e+00     391    1.000000  0.014962            74\n",
       "yishaigalatzer     9.973901e-01     390    1.000000  0.008492            42\n",
       "jzaefferer         9.869504e-01     386    0.652308  0.005257            26\n",
       "DanielRosenwasser  9.791475e-01     385    1.000000  0.004650            23\n",
       "tde-banana-odoo    9.765106e-01     382    1.000000  0.006066            30\n",
       "...                         ...     ...         ...       ...           ...\n",
       "lexware            7.733180e-03      20    0.842857  0.004246            21\n",
       "neobuddy89         7.229036e-03      19    0.000000  0.000404             2\n",
       "adamralph          7.229036e-03      19    1.000000  0.001213             6\n",
       "sagikazarmark      6.437285e-03      19    0.805556  0.001820             9\n",
       "stoeffel           1.000000e-10      19    0.571429  0.001415             7\n",
       "\n",
       "[4882 rows x 5 columns]"
      ]
     },
     "execution_count": 160,
     "metadata": {},
     "output_type": "execute_result"
    }
   ],
   "source": [
    "data.sort_values(by=\"focus\",ascending=False)"
   ]
  },
  {
   "cell_type": "markdown",
   "id": "c79617dd",
   "metadata": {},
   "source": [
    "### Residuals"
   ]
  },
  {
   "cell_type": "code",
   "execution_count": 161,
   "id": "fb99bdd3",
   "metadata": {},
   "outputs": [],
   "source": [
    "result = reg.linear(data=data, formula='focus ~ clustering')"
   ]
  },
  {
   "cell_type": "code",
   "execution_count": 162,
   "id": "a0775e9d",
   "metadata": {},
   "outputs": [
    {
     "data": {
      "text/html": [
       "<table class=\"simpletable\">\n",
       "<caption>OLS Regression Results</caption>\n",
       "<tr>\n",
       "  <th>Dep. Variable:</th>          <td>focus</td>      <th>  R-squared:         </th> <td>   0.003</td>\n",
       "</tr>\n",
       "<tr>\n",
       "  <th>Model:</th>                   <td>OLS</td>       <th>  Adj. R-squared:    </th> <td>   0.003</td>\n",
       "</tr>\n",
       "<tr>\n",
       "  <th>Method:</th>             <td>Least Squares</td>  <th>  F-statistic:       </th> <td>   13.42</td>\n",
       "</tr>\n",
       "<tr>\n",
       "  <th>Date:</th>             <td>Thu, 08 Jun 2023</td> <th>  Prob (F-statistic):</th> <td>0.000252</td>\n",
       "</tr>\n",
       "<tr>\n",
       "  <th>Time:</th>                 <td>19:26:16</td>     <th>  Log-Likelihood:    </th> <td>  2466.7</td>\n",
       "</tr>\n",
       "<tr>\n",
       "  <th>No. Observations:</th>      <td>  4882</td>      <th>  AIC:               </th> <td>  -4929.</td>\n",
       "</tr>\n",
       "<tr>\n",
       "  <th>Df Residuals:</th>          <td>  4880</td>      <th>  BIC:               </th> <td>  -4916.</td>\n",
       "</tr>\n",
       "<tr>\n",
       "  <th>Df Model:</th>              <td>     1</td>      <th>                     </th>     <td> </td>   \n",
       "</tr>\n",
       "<tr>\n",
       "  <th>Covariance Type:</th>      <td>nonrobust</td>    <th>                     </th>     <td> </td>   \n",
       "</tr>\n",
       "</table>\n",
       "<table class=\"simpletable\">\n",
       "<tr>\n",
       "       <td></td>         <th>coef</th>     <th>std err</th>      <th>t</th>      <th>P>|t|</th>  <th>[0.025</th>    <th>0.975]</th>  \n",
       "</tr>\n",
       "<tr>\n",
       "  <th>Intercept</th>  <td>    0.1200</td> <td>    0.005</td> <td>   24.459</td> <td> 0.000</td> <td>    0.110</td> <td>    0.130</td>\n",
       "</tr>\n",
       "<tr>\n",
       "  <th>clustering</th> <td>    0.0211</td> <td>    0.006</td> <td>    3.663</td> <td> 0.000</td> <td>    0.010</td> <td>    0.032</td>\n",
       "</tr>\n",
       "</table>\n",
       "<table class=\"simpletable\">\n",
       "<tr>\n",
       "  <th>Omnibus:</th>       <td>2569.052</td> <th>  Durbin-Watson:     </th> <td>   1.808</td> \n",
       "</tr>\n",
       "<tr>\n",
       "  <th>Prob(Omnibus):</th>  <td> 0.000</td>  <th>  Jarque-Bera (JB):  </th> <td>16642.616</td>\n",
       "</tr>\n",
       "<tr>\n",
       "  <th>Skew:</th>           <td> 2.504</td>  <th>  Prob(JB):          </th> <td>    0.00</td> \n",
       "</tr>\n",
       "<tr>\n",
       "  <th>Kurtosis:</th>       <td>10.533</td>  <th>  Cond. No.          </th> <td>    4.54</td> \n",
       "</tr>\n",
       "</table><br/><br/>Notes:<br/>[1] Standard Errors assume that the covariance matrix of the errors is correctly specified."
      ],
      "text/plain": [
       "<class 'statsmodels.iolib.summary.Summary'>\n",
       "\"\"\"\n",
       "                            OLS Regression Results                            \n",
       "==============================================================================\n",
       "Dep. Variable:                  focus   R-squared:                       0.003\n",
       "Model:                            OLS   Adj. R-squared:                  0.003\n",
       "Method:                 Least Squares   F-statistic:                     13.42\n",
       "Date:                Thu, 08 Jun 2023   Prob (F-statistic):           0.000252\n",
       "Time:                        19:26:16   Log-Likelihood:                 2466.7\n",
       "No. Observations:                4882   AIC:                            -4929.\n",
       "Df Residuals:                    4880   BIC:                            -4916.\n",
       "Df Model:                           1                                         \n",
       "Covariance Type:            nonrobust                                         \n",
       "==============================================================================\n",
       "                 coef    std err          t      P>|t|      [0.025      0.975]\n",
       "------------------------------------------------------------------------------\n",
       "Intercept      0.1200      0.005     24.459      0.000       0.110       0.130\n",
       "clustering     0.0211      0.006      3.663      0.000       0.010       0.032\n",
       "==============================================================================\n",
       "Omnibus:                     2569.052   Durbin-Watson:                   1.808\n",
       "Prob(Omnibus):                  0.000   Jarque-Bera (JB):            16642.616\n",
       "Skew:                           2.504   Prob(JB):                         0.00\n",
       "Kurtosis:                      10.533   Cond. No.                         4.54\n",
       "==============================================================================\n",
       "\n",
       "Notes:\n",
       "[1] Standard Errors assume that the covariance matrix of the errors is correctly specified.\n",
       "\"\"\""
      ]
     },
     "execution_count": 162,
     "metadata": {},
     "output_type": "execute_result"
    }
   ],
   "source": [
    "result.summary()"
   ]
  },
  {
   "cell_type": "code",
   "execution_count": 163,
   "id": "3e13992f",
   "metadata": {},
   "outputs": [
    {
     "data": {
      "text/html": [
       "<style type=\"text/css\">\n",
       "</style>\n",
       "<table id=\"T_ff177\">\n",
       "  <thead>\n",
       "    <tr>\n",
       "      <th id=\"T_ff177_level0_col0\" class=\"col_heading level0 col0\" >variable</th>\n",
       "      <th id=\"T_ff177_level0_col1\" class=\"col_heading level0 col1\" >coefficient</th>\n",
       "      <th id=\"T_ff177_level0_col2\" class=\"col_heading level0 col2\" >std error</th>\n",
       "      <th id=\"T_ff177_level0_col3\" class=\"col_heading level0 col3\" >p-value</th>\n",
       "    </tr>\n",
       "  </thead>\n",
       "  <tbody>\n",
       "    <tr>\n",
       "      <td id=\"T_ff177_row0_col0\" class=\"data row0 col0\" >clustering</td>\n",
       "      <td id=\"T_ff177_row0_col1\" class=\"data row0 col1\" >0.021101</td>\n",
       "      <td id=\"T_ff177_row0_col2\" class=\"data row0 col2\" >0.005760</td>\n",
       "      <td id=\"T_ff177_row0_col3\" class=\"data row0 col3\" >0.000252</td>\n",
       "    </tr>\n",
       "  </tbody>\n",
       "</table>\n"
      ],
      "text/plain": [
       "<pandas.io.formats.style.Styler at 0x7f8056777430>"
      ]
     },
     "execution_count": 163,
     "metadata": {},
     "output_type": "execute_result"
    }
   ],
   "source": [
    "result.micro_summary()"
   ]
  },
  {
   "cell_type": "code",
   "execution_count": 164,
   "id": "6f99a5f1",
   "metadata": {},
   "outputs": [
    {
     "data": {
      "image/png": "[encoded data removed]",
      "text/plain": [
       "<Figure size 1280x480 with 2 Axes>"
      ]
     },
     "metadata": {},
     "output_type": "display_data"
    }
   ],
   "source": [
    "result.plot_residuals()"
   ]
  },
  {
   "cell_type": "markdown",
   "id": "e8c5cea9",
   "metadata": {},
   "source": [
    "#### \"Massaging\" the data\n",
    "\n",
    "As we can see, the distribution of residuals is not good as we want, because the residuals has not a randomic and normal distribution to give the give the necessary confidence to the model. \n",
    "\n",
    "Because of this, we can apply a logaritmic scale to the focus to get a better shape and use the degree as control variable (which means the quantity of neighbors of the vertex)."
   ]
  },
  {
   "cell_type": "code",
   "execution_count": 165,
   "id": "2ba3840b",
   "metadata": {},
   "outputs": [],
   "source": [
    "result = reg.linear(data=data, formula='np.log(focus) ~ clustering + degree')"
   ]
  },
  {
   "cell_type": "code",
   "execution_count": 166,
   "id": "bb9e641e",
   "metadata": {},
   "outputs": [
    {
     "data": {
      "text/html": [
       "<table class=\"simpletable\">\n",
       "<caption>OLS Regression Results</caption>\n",
       "<tr>\n",
       "  <th>Dep. Variable:</th>      <td>np.log(focus)</td>  <th>  R-squared:         </th> <td>   0.017</td> \n",
       "</tr>\n",
       "<tr>\n",
       "  <th>Model:</th>                   <td>OLS</td>       <th>  Adj. R-squared:    </th> <td>   0.017</td> \n",
       "</tr>\n",
       "<tr>\n",
       "  <th>Method:</th>             <td>Least Squares</td>  <th>  F-statistic:       </th> <td>   43.23</td> \n",
       "</tr>\n",
       "<tr>\n",
       "  <th>Date:</th>             <td>Thu, 08 Jun 2023</td> <th>  Prob (F-statistic):</th> <td>2.45e-19</td> \n",
       "</tr>\n",
       "<tr>\n",
       "  <th>Time:</th>                 <td>19:26:17</td>     <th>  Log-Likelihood:    </th> <td> -6495.4</td> \n",
       "</tr>\n",
       "<tr>\n",
       "  <th>No. Observations:</th>      <td>  4882</td>      <th>  AIC:               </th> <td>1.300e+04</td>\n",
       "</tr>\n",
       "<tr>\n",
       "  <th>Df Residuals:</th>          <td>  4879</td>      <th>  BIC:               </th> <td>1.302e+04</td>\n",
       "</tr>\n",
       "<tr>\n",
       "  <th>Df Model:</th>              <td>     2</td>      <th>                     </th>     <td> </td>    \n",
       "</tr>\n",
       "<tr>\n",
       "  <th>Covariance Type:</th>      <td>nonrobust</td>    <th>                     </th>     <td> </td>    \n",
       "</tr>\n",
       "</table>\n",
       "<table class=\"simpletable\">\n",
       "<tr>\n",
       "       <td></td>         <th>coef</th>     <th>std err</th>      <th>t</th>      <th>P>|t|</th>  <th>[0.025</th>    <th>0.975]</th>  \n",
       "</tr>\n",
       "<tr>\n",
       "  <th>Intercept</th>  <td>   -2.5760</td> <td>    0.031</td> <td>  -82.983</td> <td> 0.000</td> <td>   -2.637</td> <td>   -2.515</td>\n",
       "</tr>\n",
       "<tr>\n",
       "  <th>clustering</th> <td>    0.1271</td> <td>    0.037</td> <td>    3.464</td> <td> 0.001</td> <td>    0.055</td> <td>    0.199</td>\n",
       "</tr>\n",
       "<tr>\n",
       "  <th>degree</th>     <td>   16.9714</td> <td>    2.149</td> <td>    7.896</td> <td> 0.000</td> <td>   12.757</td> <td>   21.185</td>\n",
       "</tr>\n",
       "</table>\n",
       "<table class=\"simpletable\">\n",
       "<tr>\n",
       "  <th>Omnibus:</th>       <td>3101.691</td> <th>  Durbin-Watson:     </th>  <td>   1.842</td> \n",
       "</tr>\n",
       "<tr>\n",
       "  <th>Prob(Omnibus):</th>  <td> 0.000</td>  <th>  Jarque-Bera (JB):  </th> <td>533812.138</td>\n",
       "</tr>\n",
       "<tr>\n",
       "  <th>Skew:</th>           <td>-2.011</td>  <th>  Prob(JB):          </th>  <td>    0.00</td> \n",
       "</tr>\n",
       "<tr>\n",
       "  <th>Kurtosis:</th>       <td>54.069</td>  <th>  Cond. No.          </th>  <td>    210.</td> \n",
       "</tr>\n",
       "</table><br/><br/>Notes:<br/>[1] Standard Errors assume that the covariance matrix of the errors is correctly specified."
      ],
      "text/plain": [
       "<class 'statsmodels.iolib.summary.Summary'>\n",
       "\"\"\"\n",
       "                            OLS Regression Results                            \n",
       "==============================================================================\n",
       "Dep. Variable:          np.log(focus)   R-squared:                       0.017\n",
       "Model:                            OLS   Adj. R-squared:                  0.017\n",
       "Method:                 Least Squares   F-statistic:                     43.23\n",
       "Date:                Thu, 08 Jun 2023   Prob (F-statistic):           2.45e-19\n",
       "Time:                        19:26:17   Log-Likelihood:                -6495.4\n",
       "No. Observations:                4882   AIC:                         1.300e+04\n",
       "Df Residuals:                    4879   BIC:                         1.302e+04\n",
       "Df Model:                           2                                         \n",
       "Covariance Type:            nonrobust                                         \n",
       "==============================================================================\n",
       "                 coef    std err          t      P>|t|      [0.025      0.975]\n",
       "------------------------------------------------------------------------------\n",
       "Intercept     -2.5760      0.031    -82.983      0.000      -2.637      -2.515\n",
       "clustering     0.1271      0.037      3.464      0.001       0.055       0.199\n",
       "degree        16.9714      2.149      7.896      0.000      12.757      21.185\n",
       "==============================================================================\n",
       "Omnibus:                     3101.691   Durbin-Watson:                   1.842\n",
       "Prob(Omnibus):                  0.000   Jarque-Bera (JB):           533812.138\n",
       "Skew:                          -2.011   Prob(JB):                         0.00\n",
       "Kurtosis:                      54.069   Cond. No.                         210.\n",
       "==============================================================================\n",
       "\n",
       "Notes:\n",
       "[1] Standard Errors assume that the covariance matrix of the errors is correctly specified.\n",
       "\"\"\""
      ]
     },
     "execution_count": 166,
     "metadata": {},
     "output_type": "execute_result"
    }
   ],
   "source": [
    "result.summary()"
   ]
  },
  {
   "cell_type": "code",
   "execution_count": 167,
   "id": "0289d85e",
   "metadata": {},
   "outputs": [
    {
     "data": {
      "text/html": [
       "<style type=\"text/css\">\n",
       "</style>\n",
       "<table id=\"T_801f4\">\n",
       "  <thead>\n",
       "    <tr>\n",
       "      <th id=\"T_801f4_level0_col0\" class=\"col_heading level0 col0\" >variable</th>\n",
       "      <th id=\"T_801f4_level0_col1\" class=\"col_heading level0 col1\" >coefficient</th>\n",
       "      <th id=\"T_801f4_level0_col2\" class=\"col_heading level0 col2\" >std error</th>\n",
       "      <th id=\"T_801f4_level0_col3\" class=\"col_heading level0 col3\" >p-value</th>\n",
       "    </tr>\n",
       "  </thead>\n",
       "  <tbody>\n",
       "    <tr>\n",
       "      <td id=\"T_801f4_row0_col0\" class=\"data row0 col0\" >clustering</td>\n",
       "      <td id=\"T_801f4_row0_col1\" class=\"data row0 col1\" >0.127065</td>\n",
       "      <td id=\"T_801f4_row0_col2\" class=\"data row0 col2\" >0.036679</td>\n",
       "      <td id=\"T_801f4_row0_col3\" class=\"data row0 col3\" >0.000536</td>\n",
       "    </tr>\n",
       "    <tr>\n",
       "      <td id=\"T_801f4_row1_col0\" class=\"data row1 col0\" >degree</td>\n",
       "      <td id=\"T_801f4_row1_col1\" class=\"data row1 col1\" >16.971370</td>\n",
       "      <td id=\"T_801f4_row1_col2\" class=\"data row1 col2\" >2.149473</td>\n",
       "      <td id=\"T_801f4_row1_col3\" class=\"data row1 col3\" >0.000000</td>\n",
       "    </tr>\n",
       "  </tbody>\n",
       "</table>\n"
      ],
      "text/plain": [
       "<pandas.io.formats.style.Styler at 0x7f8060e7d330>"
      ]
     },
     "execution_count": 167,
     "metadata": {},
     "output_type": "execute_result"
    }
   ],
   "source": [
    "result.micro_summary()"
   ]
  },
  {
   "cell_type": "code",
   "execution_count": 168,
   "id": "8f5f4bbd",
   "metadata": {},
   "outputs": [
    {
     "data": {
      "image/png": "[encoded data removed]",
      "text/plain": [
       "<Figure size 1280x480 with 2 Axes>"
      ]
     },
     "metadata": {},
     "output_type": "display_data"
    }
   ],
   "source": [
    "result.plot_residuals()"
   ]
  },
  {
   "cell_type": "markdown",
   "id": "15462d91",
   "metadata": {},
   "source": [
    "## Saving the graph"
   ]
  },
  {
   "cell_type": "code",
   "execution_count": 169,
   "id": "2c0b7e8b",
   "metadata": {},
   "outputs": [],
   "source": [
    "import netpixi"
   ]
  },
  {
   "cell_type": "code",
   "execution_count": 170,
   "id": "d382824e",
   "metadata": {},
   "outputs": [],
   "source": [
    "gt_save(g, '../networks/colabs_except_python.net.gz')"
   ]
  }
 ],
 "metadata": {
  "kernelspec": {
   "display_name": "Python 3 (ipykernel)",
   "language": "python",
   "name": "python3"
  },
  "language_info": {
   "codemirror_mode": {
    "name": "ipython",
    "version": 3
   },
   "file_extension": ".py",
   "mimetype": "text/x-python",
   "name": "python",
   "nbconvert_exporter": "python",
   "pygments_lexer": "ipython3",
   "version": "3.10.10"
  }
 },
 "nbformat": 4,
 "nbformat_minor": 5
}
