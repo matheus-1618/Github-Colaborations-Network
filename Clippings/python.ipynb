{
 "cells": [
  {
   "cell_type": "markdown",
   "id": "bb488d6b",
   "metadata": {},
   "source": [
    "## Building the graph\n",
    "\n",
    "### Clipping: Considerating only Python mentions\n",
    "\n",
    "After getting and parsing the data, we need to understand and create metrics that could lead us to our hypothesis and it's impacts."
   ]
  },
  {
   "cell_type": "code",
   "execution_count": 85,
   "id": "12ebbc4f",
   "metadata": {},
   "outputs": [],
   "source": [
    "from netpixi.integration.gt import Graph\n",
    "import pandas as pd\n",
    "import numpy as np\n",
    "\n",
    "g = Graph(directed=False)"
   ]
  },
  {
   "cell_type": "code",
   "execution_count": 86,
   "id": "0f08a11c",
   "metadata": {},
   "outputs": [],
   "source": [
    "data = pd.read_csv(\"../data/colaboration_comments.csv\")"
   ]
  },
  {
   "cell_type": "code",
   "execution_count": 87,
   "id": "1de1e7b6",
   "metadata": {},
   "outputs": [],
   "source": [
    "# Add the source repositories (usually belonging to organizations where users collaborate)\n",
    "data['source'] = list(map(lambda x : x.split(\"https://github.com/\")[-1].split('/')[0],data['URL']))"
   ]
  },
  {
   "cell_type": "code",
   "execution_count": 88,
   "id": "99636e2e",
   "metadata": {},
   "outputs": [],
   "source": [
    "#Only Python mentions\n",
    "data = data[data['BODY'].notna() & data['BODY'].str.lower().str.contains('python|py')]"
   ]
  },
  {
   "cell_type": "code",
   "execution_count": 89,
   "id": "1a6cd505",
   "metadata": {},
   "outputs": [],
   "source": [
    "# Drop columns which we won't use\n",
    "data = data.drop(['COMMIT_ID','COMMENT_ID','URL'],axis=1)"
   ]
  },
  {
   "cell_type": "code",
   "execution_count": 90,
   "id": "8baf9157",
   "metadata": {},
   "outputs": [
    {
     "data": {
      "text/html": [
       "<div>\n",
       "<style scoped>\n",
       "    .dataframe tbody tr th:only-of-type {\n",
       "        vertical-align: middle;\n",
       "    }\n",
       "\n",
       "    .dataframe tbody tr th {\n",
       "        vertical-align: top;\n",
       "    }\n",
       "\n",
       "    .dataframe thead th {\n",
       "        text-align: right;\n",
       "    }\n",
       "</style>\n",
       "<table border=\"1\" class=\"dataframe\">\n",
       "  <thead>\n",
       "    <tr style=\"text-align: right;\">\n",
       "      <th></th>\n",
       "      <th>AUTHOR</th>\n",
       "      <th>CREATED_AT</th>\n",
       "      <th>BODY</th>\n",
       "      <th>source</th>\n",
       "    </tr>\n",
       "  </thead>\n",
       "  <tbody>\n",
       "    <tr>\n",
       "      <th>19</th>\n",
       "      <td>CarlosX</td>\n",
       "      <td>2015-01-01T00:12:02Z</td>\n",
       "      <td>Happy new year! xD</td>\n",
       "      <td>Arctium</td>\n",
       "    </tr>\n",
       "    <tr>\n",
       "      <th>23</th>\n",
       "      <td>foosel</td>\n",
       "      <td>2015-01-01T00:13:42Z</td>\n",
       "      <td>The new app api keys are documented [here](htt...</td>\n",
       "      <td>alexrj</td>\n",
       "    </tr>\n",
       "    <tr>\n",
       "      <th>50</th>\n",
       "      <td>j2sol</td>\n",
       "      <td>2015-01-01T00:26:09Z</td>\n",
       "      <td>Looks like copypasta. a2dissite_binary in the ...</td>\n",
       "      <td>blueboxgroup</td>\n",
       "    </tr>\n",
       "    <tr>\n",
       "      <th>171</th>\n",
       "      <td>arrmo</td>\n",
       "      <td>2015-01-01T01:12:06Z</td>\n",
       "      <td>Hi,\\r\\n\\r\\nFor some reason I just got notified...</td>\n",
       "      <td>snazy2000</td>\n",
       "    </tr>\n",
       "    <tr>\n",
       "      <th>208</th>\n",
       "      <td>ldo</td>\n",
       "      <td>2015-01-01T01:26:19Z</td>\n",
       "      <td>Unnecessary. Callers already check `PyErr_Occu...</td>\n",
       "      <td>reubenhwk</td>\n",
       "    </tr>\n",
       "    <tr>\n",
       "      <th>...</th>\n",
       "      <td>...</td>\n",
       "      <td>...</td>\n",
       "      <td>...</td>\n",
       "      <td>...</td>\n",
       "    </tr>\n",
       "    <tr>\n",
       "      <th>634935</th>\n",
       "      <td>kuba</td>\n",
       "      <td>2015-02-28T07:31:52Z</td>\n",
       "      <td>For the time being I follow the policy that on...</td>\n",
       "      <td>letsencrypt</td>\n",
       "    </tr>\n",
       "    <tr>\n",
       "      <th>635048</th>\n",
       "      <td>DoumanAsh</td>\n",
       "      <td>2015-02-28T08:24:43Z</td>\n",
       "      <td>Maybe it would be more right just to store con...</td>\n",
       "      <td>pmzqla</td>\n",
       "    </tr>\n",
       "    <tr>\n",
       "      <th>635058</th>\n",
       "      <td>ahmedre</td>\n",
       "      <td>2015-02-28T08:28:40Z</td>\n",
       "      <td>this is possibly a hack - open to suggestions ...</td>\n",
       "      <td>square</td>\n",
       "    </tr>\n",
       "    <tr>\n",
       "      <th>635180</th>\n",
       "      <td>ace2nutzer</td>\n",
       "      <td>2015-02-28T09:06:51Z</td>\n",
       "      <td>thank u....\\r\\n\\r\\nroot@codinap:/ # cat /proc/...</td>\n",
       "      <td>ace2nutzer</td>\n",
       "    </tr>\n",
       "    <tr>\n",
       "      <th>635221</th>\n",
       "      <td>RaMMicHaeL</td>\n",
       "      <td>2015-02-28T09:24:03Z</td>\n",
       "      <td>Yes, you're right. My bad. Sorry for saying no...</td>\n",
       "      <td>TsudaKageyu</td>\n",
       "    </tr>\n",
       "  </tbody>\n",
       "</table>\n",
       "<p>20436 rows × 4 columns</p>\n",
       "</div>"
      ],
      "text/plain": [
       "            AUTHOR            CREATED_AT  \\\n",
       "19         CarlosX  2015-01-01T00:12:02Z   \n",
       "23          foosel  2015-01-01T00:13:42Z   \n",
       "50           j2sol  2015-01-01T00:26:09Z   \n",
       "171          arrmo  2015-01-01T01:12:06Z   \n",
       "208            ldo  2015-01-01T01:26:19Z   \n",
       "...            ...                   ...   \n",
       "634935        kuba  2015-02-28T07:31:52Z   \n",
       "635048   DoumanAsh  2015-02-28T08:24:43Z   \n",
       "635058     ahmedre  2015-02-28T08:28:40Z   \n",
       "635180  ace2nutzer  2015-02-28T09:06:51Z   \n",
       "635221  RaMMicHaeL  2015-02-28T09:24:03Z   \n",
       "\n",
       "                                                     BODY        source  \n",
       "19                                     Happy new year! xD       Arctium  \n",
       "23      The new app api keys are documented [here](htt...        alexrj  \n",
       "50      Looks like copypasta. a2dissite_binary in the ...  blueboxgroup  \n",
       "171     Hi,\\r\\n\\r\\nFor some reason I just got notified...     snazy2000  \n",
       "208     Unnecessary. Callers already check `PyErr_Occu...     reubenhwk  \n",
       "...                                                   ...           ...  \n",
       "634935  For the time being I follow the policy that on...   letsencrypt  \n",
       "635048  Maybe it would be more right just to store con...        pmzqla  \n",
       "635058  this is possibly a hack - open to suggestions ...        square  \n",
       "635180  thank u....\\r\\n\\r\\nroot@codinap:/ # cat /proc/...    ace2nutzer  \n",
       "635221  Yes, you're right. My bad. Sorry for saying no...   TsudaKageyu  \n",
       "\n",
       "[20436 rows x 4 columns]"
      ]
     },
     "execution_count": 90,
     "metadata": {},
     "output_type": "execute_result"
    }
   ],
   "source": [
    "#First view of data\n",
    "data"
   ]
  },
  {
   "cell_type": "code",
   "execution_count": 91,
   "id": "a7b5a153",
   "metadata": {},
   "outputs": [
    {
     "data": {
      "text/plain": [
       "AUTHOR\n",
       "jirikuncar         1385\n",
       "mister-roboto       484\n",
       "biocad-teamcity     135\n",
       "kaplun              126\n",
       "linthubot           100\n",
       "                   ... \n",
       "kenzierocks           1\n",
       "cemak                 1\n",
       "kentonv               1\n",
       "kenshinx              1\n",
       "007lva                1\n",
       "Name: source, Length: 7627, dtype: int64"
      ]
     },
     "execution_count": 91,
     "metadata": {},
     "output_type": "execute_result"
    }
   ],
   "source": [
    "#Looking to the total contribuitions for the users in the source repositories\n",
    "total_contributions = data.groupby(['AUTHOR']).count()['source'].sort_values(ascending=False)\n",
    "total_contributions"
   ]
  },
  {
   "cell_type": "code",
   "execution_count": 92,
   "id": "44a6f378",
   "metadata": {},
   "outputs": [
    {
     "data": {
      "text/plain": [
       "count    7627.000000\n",
       "mean        2.679428\n",
       "std        17.398302\n",
       "min         1.000000\n",
       "25%         1.000000\n",
       "50%         1.000000\n",
       "75%         2.000000\n",
       "max      1385.000000\n",
       "Name: source, dtype: float64"
      ]
     },
     "execution_count": 92,
     "metadata": {},
     "output_type": "execute_result"
    }
   ],
   "source": [
    "# As we can see there are many contribuitors who participated much less than the average, we're going to use this to filter \n",
    "# the data: contribuitors who has less contributions than the average will not be considered for the network\n",
    "total_contributions.describe()"
   ]
  },
  {
   "cell_type": "code",
   "execution_count": 93,
   "id": "90f32c0e",
   "metadata": {},
   "outputs": [
    {
     "data": {
      "text/plain": [
       "Index(['jirikuncar', 'plone', 'edx', 'mozilla', 'apache', 'hpcugent',\n",
       "       'scikit-learn', 'bartvm', 'django', 'Stanford-Online',\n",
       "       ...\n",
       "       'OpenELEC', 'ilv', 'the-tcpdump-group', 'kangaroo', 'gauravmittal1995',\n",
       "       'bitcoin', 'bloomberg', 'squerb', 'theanh90', 'theatlantic'],\n",
       "      dtype='object', name='source', length=716)"
      ]
     },
     "execution_count": 93,
     "metadata": {},
     "output_type": "execute_result"
    }
   ],
   "source": [
    "#Cleaning the data as explaneid above\n",
    "contribuitors = data.groupby(['source']).count()['AUTHOR'].sort_values(ascending=False)\n",
    "contribuitors_mean = contribuitors.mean()\n",
    "repos_edge = contribuitors[contribuitors>contribuitors_mean]\n",
    "repos_edge.index"
   ]
  },
  {
   "cell_type": "code",
   "execution_count": 94,
   "id": "88f445b5",
   "metadata": {},
   "outputs": [],
   "source": [
    "#filtering\n",
    "data_clean = data[data['source'].isin(repos_edge.index)]"
   ]
  },
  {
   "cell_type": "code",
   "execution_count": 95,
   "id": "7f4fe276",
   "metadata": {},
   "outputs": [
    {
     "data": {
      "text/html": [
       "<div>\n",
       "<style scoped>\n",
       "    .dataframe tbody tr th:only-of-type {\n",
       "        vertical-align: middle;\n",
       "    }\n",
       "\n",
       "    .dataframe tbody tr th {\n",
       "        vertical-align: top;\n",
       "    }\n",
       "\n",
       "    .dataframe thead th {\n",
       "        text-align: right;\n",
       "    }\n",
       "</style>\n",
       "<table border=\"1\" class=\"dataframe\">\n",
       "  <thead>\n",
       "    <tr style=\"text-align: right;\">\n",
       "      <th></th>\n",
       "      <th>AUTHOR</th>\n",
       "      <th>CREATED_AT</th>\n",
       "      <th>BODY</th>\n",
       "      <th>source</th>\n",
       "    </tr>\n",
       "  </thead>\n",
       "  <tbody>\n",
       "    <tr>\n",
       "      <th>50</th>\n",
       "      <td>j2sol</td>\n",
       "      <td>2015-01-01T00:26:09Z</td>\n",
       "      <td>Looks like copypasta. a2dissite_binary in the ...</td>\n",
       "      <td>blueboxgroup</td>\n",
       "    </tr>\n",
       "    <tr>\n",
       "      <th>260</th>\n",
       "      <td>berkerpeksag</td>\n",
       "      <td>2015-01-01T01:43:01Z</td>\n",
       "      <td>I'd start with `$ PYTHONPATH=. python ...` here.</td>\n",
       "      <td>spotify</td>\n",
       "    </tr>\n",
       "    <tr>\n",
       "      <th>301</th>\n",
       "      <td>pbrunet</td>\n",
       "      <td>2015-01-01T10:02:12Z</td>\n",
       "      <td>I think you should make it recursive once the ...</td>\n",
       "      <td>serge-sans-paille</td>\n",
       "    </tr>\n",
       "    <tr>\n",
       "      <th>323</th>\n",
       "      <td>CyberShadow</td>\n",
       "      <td>2015-01-01T10:14:42Z</td>\n",
       "      <td>I wasn't thinking of C++ iterators when I chos...</td>\n",
       "      <td>D-Programming-Language</td>\n",
       "    </tr>\n",
       "    <tr>\n",
       "      <th>463</th>\n",
       "      <td>Minecrell</td>\n",
       "      <td>2015-01-01T11:42:11Z</td>\n",
       "      <td>This has to be an immutable map, you can eithe...</td>\n",
       "      <td>SpongePowered</td>\n",
       "    </tr>\n",
       "    <tr>\n",
       "      <th>...</th>\n",
       "      <td>...</td>\n",
       "      <td>...</td>\n",
       "      <td>...</td>\n",
       "      <td>...</td>\n",
       "    </tr>\n",
       "    <tr>\n",
       "      <th>634853</th>\n",
       "      <td>konklone</td>\n",
       "      <td>2015-02-28T06:53:59Z</td>\n",
       "      <td>Django does have an idea of what environment i...</td>\n",
       "      <td>18F</td>\n",
       "    </tr>\n",
       "    <tr>\n",
       "      <th>634880</th>\n",
       "      <td>NTaylorMullen</td>\n",
       "      <td>2015-02-28T07:04:39Z</td>\n",
       "      <td>Hmmm, should our `CopyTo`s be clearing the con...</td>\n",
       "      <td>aspnet</td>\n",
       "    </tr>\n",
       "    <tr>\n",
       "      <th>634882</th>\n",
       "      <td>NTaylorMullen</td>\n",
       "      <td>2015-02-28T07:05:28Z</td>\n",
       "      <td>Depending on the result of this conversation: ...</td>\n",
       "      <td>aspnet</td>\n",
       "    </tr>\n",
       "    <tr>\n",
       "      <th>634935</th>\n",
       "      <td>kuba</td>\n",
       "      <td>2015-02-28T07:31:52Z</td>\n",
       "      <td>For the time being I follow the policy that on...</td>\n",
       "      <td>letsencrypt</td>\n",
       "    </tr>\n",
       "    <tr>\n",
       "      <th>635058</th>\n",
       "      <td>ahmedre</td>\n",
       "      <td>2015-02-28T08:28:40Z</td>\n",
       "      <td>this is possibly a hack - open to suggestions ...</td>\n",
       "      <td>square</td>\n",
       "    </tr>\n",
       "  </tbody>\n",
       "</table>\n",
       "<p>14333 rows × 4 columns</p>\n",
       "</div>"
      ],
      "text/plain": [
       "               AUTHOR            CREATED_AT  \\\n",
       "50              j2sol  2015-01-01T00:26:09Z   \n",
       "260      berkerpeksag  2015-01-01T01:43:01Z   \n",
       "301           pbrunet  2015-01-01T10:02:12Z   \n",
       "323       CyberShadow  2015-01-01T10:14:42Z   \n",
       "463         Minecrell  2015-01-01T11:42:11Z   \n",
       "...               ...                   ...   \n",
       "634853       konklone  2015-02-28T06:53:59Z   \n",
       "634880  NTaylorMullen  2015-02-28T07:04:39Z   \n",
       "634882  NTaylorMullen  2015-02-28T07:05:28Z   \n",
       "634935           kuba  2015-02-28T07:31:52Z   \n",
       "635058        ahmedre  2015-02-28T08:28:40Z   \n",
       "\n",
       "                                                     BODY  \\\n",
       "50      Looks like copypasta. a2dissite_binary in the ...   \n",
       "260      I'd start with `$ PYTHONPATH=. python ...` here.   \n",
       "301     I think you should make it recursive once the ...   \n",
       "323     I wasn't thinking of C++ iterators when I chos...   \n",
       "463     This has to be an immutable map, you can eithe...   \n",
       "...                                                   ...   \n",
       "634853  Django does have an idea of what environment i...   \n",
       "634880  Hmmm, should our `CopyTo`s be clearing the con...   \n",
       "634882  Depending on the result of this conversation: ...   \n",
       "634935  For the time being I follow the policy that on...   \n",
       "635058  this is possibly a hack - open to suggestions ...   \n",
       "\n",
       "                        source  \n",
       "50                blueboxgroup  \n",
       "260                    spotify  \n",
       "301          serge-sans-paille  \n",
       "323     D-Programming-Language  \n",
       "463              SpongePowered  \n",
       "...                        ...  \n",
       "634853                     18F  \n",
       "634880                  aspnet  \n",
       "634882                  aspnet  \n",
       "634935             letsencrypt  \n",
       "635058                  square  \n",
       "\n",
       "[14333 rows x 4 columns]"
      ]
     },
     "execution_count": 95,
     "metadata": {},
     "output_type": "execute_result"
    }
   ],
   "source": [
    "data_clean"
   ]
  },
  {
   "cell_type": "markdown",
   "id": "ac21274d",
   "metadata": {},
   "source": [
    "We already have the filter to build the network with a good context to define an edge between two collaborators: \n",
    "\n",
    "**There are an edge between them if they have at least one collaboration in a relevant source**\n",
    "\n",
    "Even so, there many developers who collaborate very little, and we need to adjust our data to maintain only developers with a appropriate average frequency in mass of data to avoid any bias due collators with less interactions than the average of collaborations."
   ]
  },
  {
   "cell_type": "code",
   "execution_count": 96,
   "id": "aeb4b680",
   "metadata": {},
   "outputs": [
    {
     "data": {
      "text/html": [
       "<div>\n",
       "<style scoped>\n",
       "    .dataframe tbody tr th:only-of-type {\n",
       "        vertical-align: middle;\n",
       "    }\n",
       "\n",
       "    .dataframe tbody tr th {\n",
       "        vertical-align: top;\n",
       "    }\n",
       "\n",
       "    .dataframe thead th {\n",
       "        text-align: right;\n",
       "    }\n",
       "</style>\n",
       "<table border=\"1\" class=\"dataframe\">\n",
       "  <thead>\n",
       "    <tr style=\"text-align: right;\">\n",
       "      <th></th>\n",
       "      <th>AUTHOR</th>\n",
       "      <th>CREATED_AT</th>\n",
       "      <th>BODY</th>\n",
       "      <th>source</th>\n",
       "    </tr>\n",
       "  </thead>\n",
       "  <tbody>\n",
       "    <tr>\n",
       "      <th>50</th>\n",
       "      <td>j2sol</td>\n",
       "      <td>2015-01-01T00:26:09Z</td>\n",
       "      <td>Looks like copypasta. a2dissite_binary in the ...</td>\n",
       "      <td>blueboxgroup</td>\n",
       "    </tr>\n",
       "    <tr>\n",
       "      <th>260</th>\n",
       "      <td>berkerpeksag</td>\n",
       "      <td>2015-01-01T01:43:01Z</td>\n",
       "      <td>I'd start with `$ PYTHONPATH=. python ...` here.</td>\n",
       "      <td>spotify</td>\n",
       "    </tr>\n",
       "    <tr>\n",
       "      <th>301</th>\n",
       "      <td>pbrunet</td>\n",
       "      <td>2015-01-01T10:02:12Z</td>\n",
       "      <td>I think you should make it recursive once the ...</td>\n",
       "      <td>serge-sans-paille</td>\n",
       "    </tr>\n",
       "    <tr>\n",
       "      <th>499</th>\n",
       "      <td>ragv</td>\n",
       "      <td>2015-01-01T12:01:10Z</td>\n",
       "      <td>hmm... the inner `try ... except` works along ...</td>\n",
       "      <td>scikit-learn</td>\n",
       "    </tr>\n",
       "    <tr>\n",
       "      <th>506</th>\n",
       "      <td>aktech</td>\n",
       "      <td>2015-01-01T12:04:52Z</td>\n",
       "      <td>is_real Fixed here:\\r\\nhttps://github.com/symp...</td>\n",
       "      <td>sympy</td>\n",
       "    </tr>\n",
       "    <tr>\n",
       "      <th>...</th>\n",
       "      <td>...</td>\n",
       "      <td>...</td>\n",
       "      <td>...</td>\n",
       "      <td>...</td>\n",
       "    </tr>\n",
       "    <tr>\n",
       "      <th>634753</th>\n",
       "      <td>NTaylorMullen</td>\n",
       "      <td>2015-02-28T06:17:48Z</td>\n",
       "      <td>no need to cast, it is an `ITextWriterCopyable`</td>\n",
       "      <td>aspnet</td>\n",
       "    </tr>\n",
       "    <tr>\n",
       "      <th>634814</th>\n",
       "      <td>davies</td>\n",
       "      <td>2015-02-28T06:40:14Z</td>\n",
       "      <td>Good point, I will change it back.\\r\\n\\r\\nShou...</td>\n",
       "      <td>amplab-extras</td>\n",
       "    </tr>\n",
       "    <tr>\n",
       "      <th>634880</th>\n",
       "      <td>NTaylorMullen</td>\n",
       "      <td>2015-02-28T07:04:39Z</td>\n",
       "      <td>Hmmm, should our `CopyTo`s be clearing the con...</td>\n",
       "      <td>aspnet</td>\n",
       "    </tr>\n",
       "    <tr>\n",
       "      <th>634882</th>\n",
       "      <td>NTaylorMullen</td>\n",
       "      <td>2015-02-28T07:05:28Z</td>\n",
       "      <td>Depending on the result of this conversation: ...</td>\n",
       "      <td>aspnet</td>\n",
       "    </tr>\n",
       "    <tr>\n",
       "      <th>634935</th>\n",
       "      <td>kuba</td>\n",
       "      <td>2015-02-28T07:31:52Z</td>\n",
       "      <td>For the time being I follow the policy that on...</td>\n",
       "      <td>letsencrypt</td>\n",
       "    </tr>\n",
       "  </tbody>\n",
       "</table>\n",
       "<p>9454 rows × 4 columns</p>\n",
       "</div>"
      ],
      "text/plain": [
       "               AUTHOR            CREATED_AT  \\\n",
       "50              j2sol  2015-01-01T00:26:09Z   \n",
       "260      berkerpeksag  2015-01-01T01:43:01Z   \n",
       "301           pbrunet  2015-01-01T10:02:12Z   \n",
       "499              ragv  2015-01-01T12:01:10Z   \n",
       "506            aktech  2015-01-01T12:04:52Z   \n",
       "...               ...                   ...   \n",
       "634753  NTaylorMullen  2015-02-28T06:17:48Z   \n",
       "634814         davies  2015-02-28T06:40:14Z   \n",
       "634880  NTaylorMullen  2015-02-28T07:04:39Z   \n",
       "634882  NTaylorMullen  2015-02-28T07:05:28Z   \n",
       "634935           kuba  2015-02-28T07:31:52Z   \n",
       "\n",
       "                                                     BODY             source  \n",
       "50      Looks like copypasta. a2dissite_binary in the ...       blueboxgroup  \n",
       "260      I'd start with `$ PYTHONPATH=. python ...` here.            spotify  \n",
       "301     I think you should make it recursive once the ...  serge-sans-paille  \n",
       "499     hmm... the inner `try ... except` works along ...       scikit-learn  \n",
       "506     is_real Fixed here:\\r\\nhttps://github.com/symp...              sympy  \n",
       "...                                                   ...                ...  \n",
       "634753    no need to cast, it is an `ITextWriterCopyable`             aspnet  \n",
       "634814  Good point, I will change it back.\\r\\n\\r\\nShou...      amplab-extras  \n",
       "634880  Hmmm, should our `CopyTo`s be clearing the con...             aspnet  \n",
       "634882  Depending on the result of this conversation: ...             aspnet  \n",
       "634935  For the time being I follow the policy that on...        letsencrypt  \n",
       "\n",
       "[9454 rows x 4 columns]"
      ]
     },
     "execution_count": 96,
     "metadata": {},
     "output_type": "execute_result"
    }
   ],
   "source": [
    "#Contributions to define an edge\n",
    "edge_contrib = data_clean.groupby(['AUTHOR']).count()['source'].sort_values(ascending=False)\n",
    "#Average contributions\n",
    "average_contrib =edge_contrib.mean()\n",
    "#Filtering\n",
    "above_average_contrib = edge_contrib[edge_contrib>average_contrib]\n",
    "data_clean = data_clean[data_clean['AUTHOR'].isin(above_average_contrib.index)]\n",
    "authors = data_clean.groupby(['AUTHOR']).count()['source'].sort_values(ascending=False)\n",
    "data_clean"
   ]
  },
  {
   "cell_type": "markdown",
   "id": "31fd1211",
   "metadata": {},
   "source": [
    "## Defining focus\n",
    "\n",
    "We now need to define a custom metric to help to define our hypothesis: \n",
    "\n",
    "**As much a developers belong to a community (obtained by cluster coefficient metric), he has focus in the collaborations**\n",
    "\n",
    "That way we need to define the concept of focus. Focus will be understanding in this context by: \n",
    "\n",
    "*Number of developer collaborations considered for edge formation divided per total collaborations in the data, thoughtful by the Number of developer collaborations per the max Number of collaborations of an individual:*\n",
    "\n",
    " $$focus = \\frac{edgeContributions_i}{totalContributions_i}\\cdot\\frac{edgeContributions_i}{maxEdgeContribution}$$\n",
    " \n",
    " This metric is interesting because as define the percentage of relevant contributions to the graph, it takes into account the quantity of the individual contributions of the developer, giving different weights to them, even the  percentage of relevant contributions is similar, deepening the relevance of this metric."
   ]
  },
  {
   "cell_type": "code",
   "execution_count": 97,
   "id": "ed3747af",
   "metadata": {},
   "outputs": [
    {
     "data": {
      "text/plain": [
       "AUTHOR\n",
       "rszalski           0.000080\n",
       "addyosmani         0.000120\n",
       "M4rtinK            0.000120\n",
       "Zopieux            0.000145\n",
       "arthurvr           0.000181\n",
       "                     ...   \n",
       "boegel             0.068642\n",
       "kaplun             0.091040\n",
       "biocad-teamcity    0.097543\n",
       "mister-roboto      0.349711\n",
       "jirikuncar         0.999278\n",
       "Name: source, Length: 3520, dtype: float64"
      ]
     },
     "execution_count": 97,
     "metadata": {},
     "output_type": "execute_result"
    }
   ],
   "source": [
    "focus = (edge_contrib/total_contributions)*(edge_contrib/np.max(edge_contrib))\n",
    "focus = focus.dropna().sort_values(ascending=True)\n",
    "focus"
   ]
  },
  {
   "cell_type": "markdown",
   "id": "dbd24c01",
   "metadata": {},
   "source": [
    "## Building the Network properly\n",
    "\n",
    "To the define the network we need to enumerate the collaborators who interact in the same repo by repo, and after it set pairs of developers to create an edge in the network. \n",
    "\n",
    "Concurrently we are defining the focus of each developer."
   ]
  },
  {
   "cell_type": "code",
   "execution_count": 98,
   "id": "fe8bcc4e",
   "metadata": {},
   "outputs": [
    {
     "data": {
      "text/plain": [
       "source\n",
       "18F               [cmc333333, khandelwal, mbland]\n",
       "4teamwork                                  [jone]\n",
       "Abjad                   [josiah-wolf-oberholtzer]\n",
       "Azure                                     [ogail]\n",
       "BVLC                                    [longjon]\n",
       "                               ...               \n",
       "zathras-crypto                   [zathras-crypto]\n",
       "zendframework                        [samsonasik]\n",
       "zestedesavoir                             [firm1]\n",
       "zmactep                         [biocad-teamcity]\n",
       "zopefoundation      [davisagli, mgedmin, tseaver]\n",
       "Name: AUTHOR, Length: 446, dtype: object"
      ]
     },
     "execution_count": 98,
     "metadata": {},
     "output_type": "execute_result"
    }
   ],
   "source": [
    "same_repo_colab = data_clean.groupby('source')['AUTHOR'].apply(lambda x: list(np.unique(x)))\n",
    "same_repo_colab"
   ]
  },
  {
   "cell_type": "code",
   "execution_count": 99,
   "id": "ef5ead84",
   "metadata": {},
   "outputs": [],
   "source": [
    "import itertools\n",
    "import warnings\n",
    "warnings.filterwarnings('ignore') \n",
    "\n",
    "g.add_vp('focus')\n",
    "g.add_vp('colabs')\n",
    "for index, row in same_repo_colab.iteritems():\n",
    "    pairs = itertools.combinations(row, 2)\n",
    "    for i,pair in enumerate(pairs):\n",
    "        try:\n",
    "            g.add_vertex(pair[0])\n",
    "            u = g.get_vertex(pair[0])\n",
    "            u['focus'] = focus[pair[0]]\n",
    "            u['colabs'] = int(edge_contrib[pair[0]])\n",
    "        except Exception as inst:\n",
    "            pass\n",
    "        try:\n",
    "            g.add_vertex(pair[1])\n",
    "            v = g.get_vertex(pair[1])\n",
    "            v['focus'] = focus[pair[1]]\n",
    "            v['colabs'] = int(edge_contrib[pair[1]])\n",
    "        except Exception as inst:\n",
    "            pass\n",
    "        finally:\n",
    "            try:\n",
    "                g.add_edge(pair[0],pair[1])\n",
    "            except:\n",
    "                pass"
   ]
  },
  {
   "cell_type": "markdown",
   "id": "6335b33d",
   "metadata": {},
   "source": [
    "#### Number of vertex in the graph"
   ]
  },
  {
   "cell_type": "code",
   "execution_count": 100,
   "id": "3a42b4ef",
   "metadata": {},
   "outputs": [
    {
     "name": "stdout",
     "output_type": "stream",
     "text": [
      "g's number of vertex: 521\n"
     ]
    }
   ],
   "source": [
    "n = g.num_vertices()\n",
    "print(\"g's number of vertex:\", n)"
   ]
  },
  {
   "cell_type": "markdown",
   "id": "0535bfd6",
   "metadata": {},
   "source": [
    "#### Number of edges in the graph"
   ]
  },
  {
   "cell_type": "code",
   "execution_count": 101,
   "id": "59d444bd",
   "metadata": {},
   "outputs": [
    {
     "name": "stdout",
     "output_type": "stream",
     "text": [
      "g's number of edges: 1995\n"
     ]
    }
   ],
   "source": [
    "m = g.num_edges()\n",
    "print(\"g's number of edges:\", m)"
   ]
  },
  {
   "cell_type": "markdown",
   "id": "dfad626f",
   "metadata": {},
   "source": [
    "#### Density of the graph"
   ]
  },
  {
   "cell_type": "code",
   "execution_count": 102,
   "id": "fb1d2c81",
   "metadata": {},
   "outputs": [
    {
     "data": {
      "text/plain": [
       "135460"
      ]
     },
     "execution_count": 102,
     "metadata": {},
     "output_type": "execute_result"
    }
   ],
   "source": [
    "if g.is_directed():\n",
    "    max_edges = n * (n - 1)\n",
    "else:\n",
    "    max_edges = n * (n - 1) // 2\n",
    "max_edges"
   ]
  },
  {
   "cell_type": "code",
   "execution_count": 103,
   "id": "d388dcbb",
   "metadata": {},
   "outputs": [
    {
     "name": "stdout",
     "output_type": "stream",
     "text": [
      "Density is 0.014727594861951868\n"
     ]
    }
   ],
   "source": [
    "d = m / max_edges\n",
    "d\n",
    "print(f'Density is {d}')"
   ]
  },
  {
   "cell_type": "markdown",
   "id": "e76885fb",
   "metadata": {},
   "source": [
    "### Analyzing the graph\n",
    "\n",
    "After obtained the general data of the graph, we need to create insights by regression details which describes better if our hypothesis will be confirmed or not."
   ]
  },
  {
   "cell_type": "code",
   "execution_count": 104,
   "id": "75c50ee5",
   "metadata": {},
   "outputs": [],
   "source": [
    "import seaborn as sns\n",
    "from netpixi.integration.gt import *\n",
    "from regression.integration.gt import *"
   ]
  },
  {
   "cell_type": "code",
   "execution_count": 105,
   "id": "7376383e",
   "metadata": {},
   "outputs": [
    {
     "data": {
      "text/html": [
       "<div>\n",
       "<style scoped>\n",
       "    .dataframe tbody tr th:only-of-type {\n",
       "        vertical-align: middle;\n",
       "    }\n",
       "\n",
       "    .dataframe tbody tr th {\n",
       "        vertical-align: top;\n",
       "    }\n",
       "\n",
       "    .dataframe thead th {\n",
       "        text-align: right;\n",
       "    }\n",
       "</style>\n",
       "<table border=\"1\" class=\"dataframe\">\n",
       "  <thead>\n",
       "    <tr style=\"text-align: right;\">\n",
       "      <th></th>\n",
       "      <th>focus</th>\n",
       "      <th>colabs</th>\n",
       "    </tr>\n",
       "    <tr>\n",
       "      <th>id</th>\n",
       "      <th></th>\n",
       "      <th></th>\n",
       "    </tr>\n",
       "  </thead>\n",
       "  <tbody>\n",
       "    <tr>\n",
       "      <th>cmc333333</th>\n",
       "      <td>0.011561</td>\n",
       "      <td>16</td>\n",
       "    </tr>\n",
       "    <tr>\n",
       "      <th>khandelwal</th>\n",
       "      <td>0.003613</td>\n",
       "      <td>5</td>\n",
       "    </tr>\n",
       "    <tr>\n",
       "      <th>mbland</th>\n",
       "      <td>0.003613</td>\n",
       "      <td>5</td>\n",
       "    </tr>\n",
       "    <tr>\n",
       "      <th>egabancho</th>\n",
       "      <td>0.004335</td>\n",
       "      <td>6</td>\n",
       "    </tr>\n",
       "    <tr>\n",
       "      <th>invenio-developers</th>\n",
       "      <td>0.007225</td>\n",
       "      <td>10</td>\n",
       "    </tr>\n",
       "  </tbody>\n",
       "</table>\n",
       "</div>"
      ],
      "text/plain": [
       "                       focus  colabs\n",
       "id                                  \n",
       "cmc333333           0.011561      16\n",
       "khandelwal          0.003613       5\n",
       "mbland              0.003613       5\n",
       "egabancho           0.004335       6\n",
       "invenio-developers  0.007225      10"
      ]
     },
     "execution_count": 105,
     "metadata": {},
     "output_type": "execute_result"
    }
   ],
   "source": [
    "data = gt_data(g)\n",
    "data.head(5)"
   ]
  },
  {
   "cell_type": "markdown",
   "id": "da3d37e7",
   "metadata": {},
   "source": [
    "##### Adding clustering and degree metrics"
   ]
  },
  {
   "cell_type": "code",
   "execution_count": 106,
   "id": "36112486",
   "metadata": {},
   "outputs": [
    {
     "data": {
      "text/html": [
       "<div>\n",
       "<style scoped>\n",
       "    .dataframe tbody tr th:only-of-type {\n",
       "        vertical-align: middle;\n",
       "    }\n",
       "\n",
       "    .dataframe tbody tr th {\n",
       "        vertical-align: top;\n",
       "    }\n",
       "\n",
       "    .dataframe thead th {\n",
       "        text-align: right;\n",
       "    }\n",
       "</style>\n",
       "<table border=\"1\" class=\"dataframe\">\n",
       "  <thead>\n",
       "    <tr style=\"text-align: right;\">\n",
       "      <th></th>\n",
       "      <th>focus</th>\n",
       "      <th>colabs</th>\n",
       "      <th>clustering</th>\n",
       "      <th>degree</th>\n",
       "    </tr>\n",
       "  </thead>\n",
       "  <tbody>\n",
       "    <tr>\n",
       "      <th>count</th>\n",
       "      <td>521.000000</td>\n",
       "      <td>521.000000</td>\n",
       "      <td>521.000000</td>\n",
       "      <td>521.000000</td>\n",
       "    </tr>\n",
       "    <tr>\n",
       "      <th>mean</th>\n",
       "      <td>0.010581</td>\n",
       "      <td>15.095969</td>\n",
       "      <td>0.685460</td>\n",
       "      <td>0.014728</td>\n",
       "    </tr>\n",
       "    <tr>\n",
       "      <th>std</th>\n",
       "      <td>0.046552</td>\n",
       "      <td>64.488956</td>\n",
       "      <td>0.432989</td>\n",
       "      <td>0.018063</td>\n",
       "    </tr>\n",
       "    <tr>\n",
       "      <th>min</th>\n",
       "      <td>0.002007</td>\n",
       "      <td>5.000000</td>\n",
       "      <td>0.000000</td>\n",
       "      <td>0.001923</td>\n",
       "    </tr>\n",
       "    <tr>\n",
       "      <th>25%</th>\n",
       "      <td>0.004335</td>\n",
       "      <td>6.000000</td>\n",
       "      <td>0.000000</td>\n",
       "      <td>0.001923</td>\n",
       "    </tr>\n",
       "    <tr>\n",
       "      <th>50%</th>\n",
       "      <td>0.005780</td>\n",
       "      <td>8.000000</td>\n",
       "      <td>1.000000</td>\n",
       "      <td>0.007692</td>\n",
       "    </tr>\n",
       "    <tr>\n",
       "      <th>75%</th>\n",
       "      <td>0.009393</td>\n",
       "      <td>13.000000</td>\n",
       "      <td>1.000000</td>\n",
       "      <td>0.015385</td>\n",
       "    </tr>\n",
       "    <tr>\n",
       "      <th>max</th>\n",
       "      <td>0.999278</td>\n",
       "      <td>1384.000000</td>\n",
       "      <td>1.000000</td>\n",
       "      <td>0.075000</td>\n",
       "    </tr>\n",
       "  </tbody>\n",
       "</table>\n",
       "</div>"
      ],
      "text/plain": [
       "            focus       colabs  clustering      degree\n",
       "count  521.000000   521.000000  521.000000  521.000000\n",
       "mean     0.010581    15.095969    0.685460    0.014728\n",
       "std      0.046552    64.488956    0.432989    0.018063\n",
       "min      0.002007     5.000000    0.000000    0.001923\n",
       "25%      0.004335     6.000000    0.000000    0.001923\n",
       "50%      0.005780     8.000000    1.000000    0.007692\n",
       "75%      0.009393    13.000000    1.000000    0.015385\n",
       "max      0.999278  1384.000000    1.000000    0.075000"
      ]
     },
     "execution_count": 106,
     "metadata": {},
     "output_type": "execute_result"
    }
   ],
   "source": [
    "from graph_tool import clustering\n",
    "\n",
    "lc = clustering.local_clustering(g)\n",
    "g.add_vp('clustering', lc)\n",
    "dc = gt_total_degree(g)\n",
    "g.add_vp('degree', dc)\n",
    "data = gt_data(g)\n",
    "data.describe()"
   ]
  },
  {
   "cell_type": "code",
   "execution_count": 107,
   "id": "9ab4cebe",
   "metadata": {},
   "outputs": [
    {
     "data": {
      "text/html": [
       "<div>\n",
       "<style scoped>\n",
       "    .dataframe tbody tr th:only-of-type {\n",
       "        vertical-align: middle;\n",
       "    }\n",
       "\n",
       "    .dataframe tbody tr th {\n",
       "        vertical-align: top;\n",
       "    }\n",
       "\n",
       "    .dataframe thead th {\n",
       "        text-align: right;\n",
       "    }\n",
       "</style>\n",
       "<table border=\"1\" class=\"dataframe\">\n",
       "  <thead>\n",
       "    <tr style=\"text-align: right;\">\n",
       "      <th></th>\n",
       "      <th>degree_count</th>\n",
       "    </tr>\n",
       "  </thead>\n",
       "  <tbody>\n",
       "    <tr>\n",
       "      <th>count</th>\n",
       "      <td>521.000000</td>\n",
       "    </tr>\n",
       "    <tr>\n",
       "      <th>mean</th>\n",
       "      <td>7.658349</td>\n",
       "    </tr>\n",
       "    <tr>\n",
       "      <th>std</th>\n",
       "      <td>9.392835</td>\n",
       "    </tr>\n",
       "    <tr>\n",
       "      <th>min</th>\n",
       "      <td>1.000000</td>\n",
       "    </tr>\n",
       "    <tr>\n",
       "      <th>25%</th>\n",
       "      <td>1.000000</td>\n",
       "    </tr>\n",
       "    <tr>\n",
       "      <th>50%</th>\n",
       "      <td>4.000000</td>\n",
       "    </tr>\n",
       "    <tr>\n",
       "      <th>75%</th>\n",
       "      <td>8.000000</td>\n",
       "    </tr>\n",
       "    <tr>\n",
       "      <th>max</th>\n",
       "      <td>39.000000</td>\n",
       "    </tr>\n",
       "  </tbody>\n",
       "</table>\n",
       "</div>"
      ],
      "text/plain": [
       "       degree_count\n",
       "count    521.000000\n",
       "mean       7.658349\n",
       "std        9.392835\n",
       "min        1.000000\n",
       "25%        1.000000\n",
       "50%        4.000000\n",
       "75%        8.000000\n",
       "max       39.000000"
      ]
     },
     "execution_count": 107,
     "metadata": {},
     "output_type": "execute_result"
    }
   ],
   "source": [
    "degrees = []\n",
    "for v in g.all_vertices():\n",
    "    degrees.append(v.total_degree())\n",
    "data['degree_count'] = degrees\n",
    "data['degree_count'].describe().to_frame()"
   ]
  },
  {
   "cell_type": "code",
   "execution_count": 108,
   "id": "3e868744",
   "metadata": {},
   "outputs": [
    {
     "data": {
      "text/plain": [
       "<AxesSubplot: xlabel='degree_count', ylabel='Count'>"
      ]
     },
     "execution_count": 108,
     "metadata": {},
     "output_type": "execute_result"
    },
    {
     "data": {
      "image/png": "[encoded data removed]",
      "text/plain": [
       "<Figure size 640x480 with 1 Axes>"
      ]
     },
     "metadata": {},
     "output_type": "display_data"
    }
   ],
   "source": [
    "sns.histplot(data['degree_count'])"
   ]
  },
  {
   "cell_type": "markdown",
   "id": "46acd71c",
   "metadata": {},
   "source": [
    "#### Dropping the outliers (colabs > 1000)\n",
    "\n",
    "As we can see above there collaborators who are much higher than the collaborations, and much of them are bot's accounts (e.g *houndci* and *nrel-bot*). For this, we're removing them for the analysis."
   ]
  },
  {
   "cell_type": "code",
   "execution_count": 109,
   "id": "599f26e0",
   "metadata": {},
   "outputs": [],
   "source": [
    "selRows = data[data['colabs'] > 400].index\n",
    "data = data.drop(selRows,axis=0)"
   ]
  },
  {
   "cell_type": "markdown",
   "id": "16439770",
   "metadata": {},
   "source": [
    "### Normalizing focus\n",
    "\n",
    "After removing the outliers we need to normalize the focus metric to properly give insights about the data."
   ]
  },
  {
   "cell_type": "code",
   "execution_count": 110,
   "id": "0974e5b8",
   "metadata": {},
   "outputs": [],
   "source": [
    "x = data['focus']\n",
    "x_norm = (x-np.min(x))/(np.max(x)-np.min(x)) + 1e-10 #For log issues in the next cells\n",
    "data['focus'] = x_norm"
   ]
  },
  {
   "cell_type": "code",
   "execution_count": 111,
   "id": "00cf02c4",
   "metadata": {},
   "outputs": [
    {
     "data": {
      "text/html": [
       "<div>\n",
       "<style scoped>\n",
       "    .dataframe tbody tr th:only-of-type {\n",
       "        vertical-align: middle;\n",
       "    }\n",
       "\n",
       "    .dataframe tbody tr th {\n",
       "        vertical-align: top;\n",
       "    }\n",
       "\n",
       "    .dataframe thead th {\n",
       "        text-align: right;\n",
       "    }\n",
       "</style>\n",
       "<table border=\"1\" class=\"dataframe\">\n",
       "  <thead>\n",
       "    <tr style=\"text-align: right;\">\n",
       "      <th></th>\n",
       "      <th>degree</th>\n",
       "    </tr>\n",
       "  </thead>\n",
       "  <tbody>\n",
       "    <tr>\n",
       "      <th>count</th>\n",
       "      <td>519.000000</td>\n",
       "    </tr>\n",
       "    <tr>\n",
       "      <th>mean</th>\n",
       "      <td>0.014740</td>\n",
       "    </tr>\n",
       "    <tr>\n",
       "      <th>std</th>\n",
       "      <td>0.018095</td>\n",
       "    </tr>\n",
       "    <tr>\n",
       "      <th>min</th>\n",
       "      <td>0.001923</td>\n",
       "    </tr>\n",
       "    <tr>\n",
       "      <th>25%</th>\n",
       "      <td>0.001923</td>\n",
       "    </tr>\n",
       "    <tr>\n",
       "      <th>50%</th>\n",
       "      <td>0.007692</td>\n",
       "    </tr>\n",
       "    <tr>\n",
       "      <th>75%</th>\n",
       "      <td>0.015385</td>\n",
       "    </tr>\n",
       "    <tr>\n",
       "      <th>max</th>\n",
       "      <td>0.075000</td>\n",
       "    </tr>\n",
       "  </tbody>\n",
       "</table>\n",
       "</div>"
      ],
      "text/plain": [
       "           degree\n",
       "count  519.000000\n",
       "mean     0.014740\n",
       "std      0.018095\n",
       "min      0.001923\n",
       "25%      0.001923\n",
       "50%      0.007692\n",
       "75%      0.015385\n",
       "max      0.075000"
      ]
     },
     "execution_count": 111,
     "metadata": {},
     "output_type": "execute_result"
    }
   ],
   "source": [
    "data['degree'].describe().to_frame()"
   ]
  },
  {
   "cell_type": "code",
   "execution_count": 112,
   "id": "5f233e7f",
   "metadata": {},
   "outputs": [
    {
     "data": {
      "text/html": [
       "<div>\n",
       "<style scoped>\n",
       "    .dataframe tbody tr th:only-of-type {\n",
       "        vertical-align: middle;\n",
       "    }\n",
       "\n",
       "    .dataframe tbody tr th {\n",
       "        vertical-align: top;\n",
       "    }\n",
       "\n",
       "    .dataframe thead th {\n",
       "        text-align: right;\n",
       "    }\n",
       "</style>\n",
       "<table border=\"1\" class=\"dataframe\">\n",
       "  <thead>\n",
       "    <tr style=\"text-align: right;\">\n",
       "      <th></th>\n",
       "      <th>focus</th>\n",
       "    </tr>\n",
       "  </thead>\n",
       "  <tbody>\n",
       "    <tr>\n",
       "      <th>count</th>\n",
       "      <td>5.190000e+02</td>\n",
       "    </tr>\n",
       "    <tr>\n",
       "      <th>mean</th>\n",
       "      <td>6.756622e-02</td>\n",
       "    </tr>\n",
       "    <tr>\n",
       "      <th>std</th>\n",
       "      <td>8.684014e-02</td>\n",
       "    </tr>\n",
       "    <tr>\n",
       "      <th>min</th>\n",
       "      <td>1.000000e-10</td>\n",
       "    </tr>\n",
       "    <tr>\n",
       "      <th>25%</th>\n",
       "      <td>2.614968e-02</td>\n",
       "    </tr>\n",
       "    <tr>\n",
       "      <th>50%</th>\n",
       "      <td>4.238052e-02</td>\n",
       "    </tr>\n",
       "    <tr>\n",
       "      <th>75%</th>\n",
       "      <td>7.614646e-02</td>\n",
       "    </tr>\n",
       "    <tr>\n",
       "      <th>max</th>\n",
       "      <td>1.000000e+00</td>\n",
       "    </tr>\n",
       "  </tbody>\n",
       "</table>\n",
       "</div>"
      ],
      "text/plain": [
       "              focus\n",
       "count  5.190000e+02\n",
       "mean   6.756622e-02\n",
       "std    8.684014e-02\n",
       "min    1.000000e-10\n",
       "25%    2.614968e-02\n",
       "50%    4.238052e-02\n",
       "75%    7.614646e-02\n",
       "max    1.000000e+00"
      ]
     },
     "execution_count": 112,
     "metadata": {},
     "output_type": "execute_result"
    }
   ],
   "source": [
    "data['focus'].describe().to_frame()"
   ]
  },
  {
   "cell_type": "markdown",
   "id": "2a923183",
   "metadata": {},
   "source": [
    "### Regression "
   ]
  },
  {
   "cell_type": "code",
   "execution_count": 113,
   "id": "cb2b21be",
   "metadata": {},
   "outputs": [
    {
     "data": {
      "text/plain": [
       "<AxesSubplot: xlabel='focus', ylabel='Count'>"
      ]
     },
     "execution_count": 113,
     "metadata": {},
     "output_type": "execute_result"
    },
    {
     "data": {
      "image/png": "[encoded data removed]",
      "text/plain": [
       "<Figure size 640x480 with 1 Axes>"
      ]
     },
     "metadata": {},
     "output_type": "display_data"
    }
   ],
   "source": [
    "sns.histplot(data['focus'])"
   ]
  },
  {
   "cell_type": "code",
   "execution_count": 114,
   "id": "72b75297",
   "metadata": {},
   "outputs": [
    {
     "data": {
      "text/plain": [
       "<AxesSubplot: xlabel='degree', ylabel='Count'>"
      ]
     },
     "execution_count": 114,
     "metadata": {},
     "output_type": "execute_result"
    },
    {
     "data": {
      "image/png": "[encoded data removed]",
      "text/plain": [
       "<Figure size 640x480 with 1 Axes>"
      ]
     },
     "metadata": {},
     "output_type": "display_data"
    }
   ],
   "source": [
    "sns.histplot(data['degree'])"
   ]
  },
  {
   "cell_type": "code",
   "execution_count": 115,
   "id": "82e480fc",
   "metadata": {},
   "outputs": [],
   "source": [
    "import seaborn as sns\n",
    "import regression as reg\n",
    "\n",
    "from scipy import stats\n",
    "from matplotlib import pyplot as plt"
   ]
  },
  {
   "cell_type": "code",
   "execution_count": 116,
   "id": "f04c58a3",
   "metadata": {},
   "outputs": [
    {
     "data": {
      "image/png": "[encoded data removed]",
      "text/plain": [
       "<Figure size 640x480 with 1 Axes>"
      ]
     },
     "metadata": {},
     "output_type": "display_data"
    }
   ],
   "source": [
    "sns.scatterplot(x=data['clustering'], y=np.log(data['focus']));"
   ]
  },
  {
   "cell_type": "code",
   "execution_count": 117,
   "id": "812c9170",
   "metadata": {},
   "outputs": [
    {
     "data": {
      "text/html": [
       "<div>\n",
       "<style scoped>\n",
       "    .dataframe tbody tr th:only-of-type {\n",
       "        vertical-align: middle;\n",
       "    }\n",
       "\n",
       "    .dataframe tbody tr th {\n",
       "        vertical-align: top;\n",
       "    }\n",
       "\n",
       "    .dataframe thead th {\n",
       "        text-align: right;\n",
       "    }\n",
       "</style>\n",
       "<table border=\"1\" class=\"dataframe\">\n",
       "  <thead>\n",
       "    <tr style=\"text-align: right;\">\n",
       "      <th></th>\n",
       "      <th>focus</th>\n",
       "      <th>colabs</th>\n",
       "      <th>clustering</th>\n",
       "      <th>degree</th>\n",
       "      <th>degree_count</th>\n",
       "    </tr>\n",
       "    <tr>\n",
       "      <th>id</th>\n",
       "      <th></th>\n",
       "      <th></th>\n",
       "      <th></th>\n",
       "      <th></th>\n",
       "      <th></th>\n",
       "    </tr>\n",
       "  </thead>\n",
       "  <tbody>\n",
       "    <tr>\n",
       "      <th>kaplun</th>\n",
       "      <td>1.000000e+00</td>\n",
       "      <td>126</td>\n",
       "      <td>1.000000</td>\n",
       "      <td>0.013462</td>\n",
       "      <td>7</td>\n",
       "    </tr>\n",
       "    <tr>\n",
       "      <th>boegel</th>\n",
       "      <td>7.484220e-01</td>\n",
       "      <td>95</td>\n",
       "      <td>1.000000</td>\n",
       "      <td>0.005769</td>\n",
       "      <td>3</td>\n",
       "    </tr>\n",
       "    <tr>\n",
       "      <th>stvstnfrd</th>\n",
       "      <td>7.484220e-01</td>\n",
       "      <td>95</td>\n",
       "      <td>0.889483</td>\n",
       "      <td>0.065385</td>\n",
       "      <td>34</td>\n",
       "    </tr>\n",
       "    <tr>\n",
       "      <th>bartvm</th>\n",
       "      <td>6.113294e-01</td>\n",
       "      <td>81</td>\n",
       "      <td>0.600000</td>\n",
       "      <td>0.011538</td>\n",
       "      <td>6</td>\n",
       "    </tr>\n",
       "    <tr>\n",
       "      <th>jeromekelleher</th>\n",
       "      <td>3.832281e-01</td>\n",
       "      <td>50</td>\n",
       "      <td>0.000000</td>\n",
       "      <td>0.001923</td>\n",
       "      <td>1</td>\n",
       "    </tr>\n",
       "    <tr>\n",
       "      <th>...</th>\n",
       "      <td>...</td>\n",
       "      <td>...</td>\n",
       "      <td>...</td>\n",
       "      <td>...</td>\n",
       "      <td>...</td>\n",
       "    </tr>\n",
       "    <tr>\n",
       "      <th>bgruening</th>\n",
       "      <td>6.440809e-03</td>\n",
       "      <td>5</td>\n",
       "      <td>0.000000</td>\n",
       "      <td>0.001923</td>\n",
       "      <td>1</td>\n",
       "    </tr>\n",
       "    <tr>\n",
       "      <th>MCGallaspy</th>\n",
       "      <td>4.016723e-03</td>\n",
       "      <td>6</td>\n",
       "      <td>0.000000</td>\n",
       "      <td>0.001923</td>\n",
       "      <td>1</td>\n",
       "    </tr>\n",
       "    <tr>\n",
       "      <th>f0k</th>\n",
       "      <td>2.817854e-03</td>\n",
       "      <td>5</td>\n",
       "      <td>1.000000</td>\n",
       "      <td>0.009615</td>\n",
       "      <td>5</td>\n",
       "    </tr>\n",
       "    <tr>\n",
       "      <th>pedrobaeza</th>\n",
       "      <td>2.817854e-03</td>\n",
       "      <td>5</td>\n",
       "      <td>1.000000</td>\n",
       "      <td>0.009615</td>\n",
       "      <td>5</td>\n",
       "    </tr>\n",
       "    <tr>\n",
       "      <th>sbourdeauducq</th>\n",
       "      <td>1.000000e-10</td>\n",
       "      <td>5</td>\n",
       "      <td>0.000000</td>\n",
       "      <td>0.001923</td>\n",
       "      <td>1</td>\n",
       "    </tr>\n",
       "  </tbody>\n",
       "</table>\n",
       "<p>519 rows × 5 columns</p>\n",
       "</div>"
      ],
      "text/plain": [
       "                       focus  colabs  clustering    degree  degree_count\n",
       "id                                                                      \n",
       "kaplun          1.000000e+00     126    1.000000  0.013462             7\n",
       "boegel          7.484220e-01      95    1.000000  0.005769             3\n",
       "stvstnfrd       7.484220e-01      95    0.889483  0.065385            34\n",
       "bartvm          6.113294e-01      81    0.600000  0.011538             6\n",
       "jeromekelleher  3.832281e-01      50    0.000000  0.001923             1\n",
       "...                      ...     ...         ...       ...           ...\n",
       "bgruening       6.440809e-03       5    0.000000  0.001923             1\n",
       "MCGallaspy      4.016723e-03       6    0.000000  0.001923             1\n",
       "f0k             2.817854e-03       5    1.000000  0.009615             5\n",
       "pedrobaeza      2.817854e-03       5    1.000000  0.009615             5\n",
       "sbourdeauducq   1.000000e-10       5    0.000000  0.001923             1\n",
       "\n",
       "[519 rows x 5 columns]"
      ]
     },
     "execution_count": 117,
     "metadata": {},
     "output_type": "execute_result"
    }
   ],
   "source": [
    "data.sort_values(by=\"focus\",ascending=False)"
   ]
  },
  {
   "cell_type": "markdown",
   "id": "c79617dd",
   "metadata": {},
   "source": [
    "### Residuals"
   ]
  },
  {
   "cell_type": "code",
   "execution_count": 118,
   "id": "fb99bdd3",
   "metadata": {},
   "outputs": [],
   "source": [
    "result = reg.linear(data=data, formula='focus ~ clustering')"
   ]
  },
  {
   "cell_type": "code",
   "execution_count": 119,
   "id": "a0775e9d",
   "metadata": {},
   "outputs": [
    {
     "data": {
      "text/html": [
       "<table class=\"simpletable\">\n",
       "<caption>OLS Regression Results</caption>\n",
       "<tr>\n",
       "  <th>Dep. Variable:</th>          <td>focus</td>      <th>  R-squared:         </th> <td>   0.005</td>\n",
       "</tr>\n",
       "<tr>\n",
       "  <th>Model:</th>                   <td>OLS</td>       <th>  Adj. R-squared:    </th> <td>   0.003</td>\n",
       "</tr>\n",
       "<tr>\n",
       "  <th>Method:</th>             <td>Least Squares</td>  <th>  F-statistic:       </th> <td>   2.645</td>\n",
       "</tr>\n",
       "<tr>\n",
       "  <th>Date:</th>             <td>Thu, 08 Jun 2023</td> <th>  Prob (F-statistic):</th>  <td> 0.105</td> \n",
       "</tr>\n",
       "<tr>\n",
       "  <th>Time:</th>                 <td>19:51:35</td>     <th>  Log-Likelihood:    </th> <td>  533.67</td>\n",
       "</tr>\n",
       "<tr>\n",
       "  <th>No. Observations:</th>      <td>   519</td>      <th>  AIC:               </th> <td>  -1063.</td>\n",
       "</tr>\n",
       "<tr>\n",
       "  <th>Df Residuals:</th>          <td>   517</td>      <th>  BIC:               </th> <td>  -1055.</td>\n",
       "</tr>\n",
       "<tr>\n",
       "  <th>Df Model:</th>              <td>     1</td>      <th>                     </th>     <td> </td>   \n",
       "</tr>\n",
       "<tr>\n",
       "  <th>Covariance Type:</th>      <td>nonrobust</td>    <th>                     </th>     <td> </td>   \n",
       "</tr>\n",
       "</table>\n",
       "<table class=\"simpletable\">\n",
       "<tr>\n",
       "       <td></td>         <th>coef</th>     <th>std err</th>      <th>t</th>      <th>P>|t|</th>  <th>[0.025</th>    <th>0.975]</th>  \n",
       "</tr>\n",
       "<tr>\n",
       "  <th>Intercept</th>  <td>    0.0578</td> <td>    0.007</td> <td>    8.117</td> <td> 0.000</td> <td>    0.044</td> <td>    0.072</td>\n",
       "</tr>\n",
       "<tr>\n",
       "  <th>clustering</th> <td>    0.0143</td> <td>    0.009</td> <td>    1.626</td> <td> 0.105</td> <td>   -0.003</td> <td>    0.032</td>\n",
       "</tr>\n",
       "</table>\n",
       "<table class=\"simpletable\">\n",
       "<tr>\n",
       "  <th>Omnibus:</th>       <td>592.150</td> <th>  Durbin-Watson:     </th> <td>   1.902</td> \n",
       "</tr>\n",
       "<tr>\n",
       "  <th>Prob(Omnibus):</th> <td> 0.000</td>  <th>  Jarque-Bera (JB):  </th> <td>40529.683</td>\n",
       "</tr>\n",
       "<tr>\n",
       "  <th>Skew:</th>          <td> 5.354</td>  <th>  Prob(JB):          </th> <td>    0.00</td> \n",
       "</tr>\n",
       "<tr>\n",
       "  <th>Kurtosis:</th>      <td>44.947</td>  <th>  Cond. No.          </th> <td>    3.54</td> \n",
       "</tr>\n",
       "</table><br/><br/>Notes:<br/>[1] Standard Errors assume that the covariance matrix of the errors is correctly specified."
      ],
      "text/plain": [
       "<class 'statsmodels.iolib.summary.Summary'>\n",
       "\"\"\"\n",
       "                            OLS Regression Results                            \n",
       "==============================================================================\n",
       "Dep. Variable:                  focus   R-squared:                       0.005\n",
       "Model:                            OLS   Adj. R-squared:                  0.003\n",
       "Method:                 Least Squares   F-statistic:                     2.645\n",
       "Date:                Thu, 08 Jun 2023   Prob (F-statistic):              0.105\n",
       "Time:                        19:51:35   Log-Likelihood:                 533.67\n",
       "No. Observations:                 519   AIC:                            -1063.\n",
       "Df Residuals:                     517   BIC:                            -1055.\n",
       "Df Model:                           1                                         \n",
       "Covariance Type:            nonrobust                                         \n",
       "==============================================================================\n",
       "                 coef    std err          t      P>|t|      [0.025      0.975]\n",
       "------------------------------------------------------------------------------\n",
       "Intercept      0.0578      0.007      8.117      0.000       0.044       0.072\n",
       "clustering     0.0143      0.009      1.626      0.105      -0.003       0.032\n",
       "==============================================================================\n",
       "Omnibus:                      592.150   Durbin-Watson:                   1.902\n",
       "Prob(Omnibus):                  0.000   Jarque-Bera (JB):            40529.683\n",
       "Skew:                           5.354   Prob(JB):                         0.00\n",
       "Kurtosis:                      44.947   Cond. No.                         3.54\n",
       "==============================================================================\n",
       "\n",
       "Notes:\n",
       "[1] Standard Errors assume that the covariance matrix of the errors is correctly specified.\n",
       "\"\"\""
      ]
     },
     "execution_count": 119,
     "metadata": {},
     "output_type": "execute_result"
    }
   ],
   "source": [
    "result.summary()"
   ]
  },
  {
   "cell_type": "code",
   "execution_count": 120,
   "id": "3e13992f",
   "metadata": {},
   "outputs": [
    {
     "data": {
      "text/html": [
       "<style type=\"text/css\">\n",
       "</style>\n",
       "<table id=\"T_7ddf5\">\n",
       "  <thead>\n",
       "    <tr>\n",
       "      <th id=\"T_7ddf5_level0_col0\" class=\"col_heading level0 col0\" >variable</th>\n",
       "      <th id=\"T_7ddf5_level0_col1\" class=\"col_heading level0 col1\" >coefficient</th>\n",
       "      <th id=\"T_7ddf5_level0_col2\" class=\"col_heading level0 col2\" >std error</th>\n",
       "      <th id=\"T_7ddf5_level0_col3\" class=\"col_heading level0 col3\" >p-value</th>\n",
       "    </tr>\n",
       "  </thead>\n",
       "  <tbody>\n",
       "    <tr>\n",
       "      <td id=\"T_7ddf5_row0_col0\" class=\"data row0 col0\" >clustering</td>\n",
       "      <td id=\"T_7ddf5_row0_col1\" class=\"data row0 col1\" >0.014288</td>\n",
       "      <td id=\"T_7ddf5_row0_col2\" class=\"data row0 col2\" >0.008786</td>\n",
       "      <td id=\"T_7ddf5_row0_col3\" class=\"data row0 col3\" >0.104507</td>\n",
       "    </tr>\n",
       "  </tbody>\n",
       "</table>\n"
      ],
      "text/plain": [
       "<pandas.io.formats.style.Styler at 0x7f619ca686a0>"
      ]
     },
     "execution_count": 120,
     "metadata": {},
     "output_type": "execute_result"
    }
   ],
   "source": [
    "result.micro_summary()"
   ]
  },
  {
   "cell_type": "code",
   "execution_count": 121,
   "id": "6f99a5f1",
   "metadata": {},
   "outputs": [
    {
     "data": {
      "image/png": "[encoded data removed]",
      "text/plain": [
       "<Figure size 1280x480 with 2 Axes>"
      ]
     },
     "metadata": {},
     "output_type": "display_data"
    }
   ],
   "source": [
    "result.plot_residuals()"
   ]
  },
  {
   "cell_type": "markdown",
   "id": "e8c5cea9",
   "metadata": {},
   "source": [
    "#### \"Massaging\" the data\n",
    "\n",
    "As we can see, the distribution of residuals is not good as we want, because the residuals has not a randomic and normal distribution to give the give the necessary confidence to the model. \n",
    "\n",
    "Because of this, we can apply a logaritmic scale to the focus to get a better shape and use the degree as control variable (which means the quantity of neighbors of the vertex)."
   ]
  },
  {
   "cell_type": "code",
   "execution_count": 122,
   "id": "2ba3840b",
   "metadata": {},
   "outputs": [],
   "source": [
    "result = reg.linear(data=data, formula='np.log(focus) ~ clustering + degree')"
   ]
  },
  {
   "cell_type": "code",
   "execution_count": 123,
   "id": "bb9e641e",
   "metadata": {},
   "outputs": [
    {
     "data": {
      "text/html": [
       "<table class=\"simpletable\">\n",
       "<caption>OLS Regression Results</caption>\n",
       "<tr>\n",
       "  <th>Dep. Variable:</th>      <td>np.log(focus)</td>  <th>  R-squared:         </th> <td>   0.020</td>\n",
       "</tr>\n",
       "<tr>\n",
       "  <th>Model:</th>                   <td>OLS</td>       <th>  Adj. R-squared:    </th> <td>   0.016</td>\n",
       "</tr>\n",
       "<tr>\n",
       "  <th>Method:</th>             <td>Least Squares</td>  <th>  F-statistic:       </th> <td>   5.147</td>\n",
       "</tr>\n",
       "<tr>\n",
       "  <th>Date:</th>             <td>Thu, 08 Jun 2023</td> <th>  Prob (F-statistic):</th>  <td>0.00612</td>\n",
       "</tr>\n",
       "<tr>\n",
       "  <th>Time:</th>                 <td>19:51:36</td>     <th>  Log-Likelihood:    </th> <td> -837.19</td>\n",
       "</tr>\n",
       "<tr>\n",
       "  <th>No. Observations:</th>      <td>   519</td>      <th>  AIC:               </th> <td>   1680.</td>\n",
       "</tr>\n",
       "<tr>\n",
       "  <th>Df Residuals:</th>          <td>   516</td>      <th>  BIC:               </th> <td>   1693.</td>\n",
       "</tr>\n",
       "<tr>\n",
       "  <th>Df Model:</th>              <td>     2</td>      <th>                     </th>     <td> </td>   \n",
       "</tr>\n",
       "<tr>\n",
       "  <th>Covariance Type:</th>      <td>nonrobust</td>    <th>                     </th>     <td> </td>   \n",
       "</tr>\n",
       "</table>\n",
       "<table class=\"simpletable\">\n",
       "<tr>\n",
       "       <td></td>         <th>coef</th>     <th>std err</th>      <th>t</th>      <th>P>|t|</th>  <th>[0.025</th>    <th>0.975]</th>  \n",
       "</tr>\n",
       "<tr>\n",
       "  <th>Intercept</th>  <td>   -3.3841</td> <td>    0.101</td> <td>  -33.561</td> <td> 0.000</td> <td>   -3.582</td> <td>   -3.186</td>\n",
       "</tr>\n",
       "<tr>\n",
       "  <th>clustering</th> <td>    0.2229</td> <td>    0.133</td> <td>    1.677</td> <td> 0.094</td> <td>   -0.038</td> <td>    0.484</td>\n",
       "</tr>\n",
       "<tr>\n",
       "  <th>degree</th>     <td>    6.0997</td> <td>    3.186</td> <td>    1.914</td> <td> 0.056</td> <td>   -0.160</td> <td>   12.359</td>\n",
       "</tr>\n",
       "</table>\n",
       "<table class=\"simpletable\">\n",
       "<tr>\n",
       "  <th>Omnibus:</th>       <td>786.801</td> <th>  Durbin-Watson:     </th>  <td>   1.901</td> \n",
       "</tr>\n",
       "<tr>\n",
       "  <th>Prob(Omnibus):</th> <td> 0.000</td>  <th>  Jarque-Bera (JB):  </th> <td>371342.134</td>\n",
       "</tr>\n",
       "<tr>\n",
       "  <th>Skew:</th>          <td>-8.035</td>  <th>  Prob(JB):          </th>  <td>    0.00</td> \n",
       "</tr>\n",
       "<tr>\n",
       "  <th>Kurtosis:</th>      <td>133.052</td> <th>  Cond. No.          </th>  <td>    73.8</td> \n",
       "</tr>\n",
       "</table><br/><br/>Notes:<br/>[1] Standard Errors assume that the covariance matrix of the errors is correctly specified."
      ],
      "text/plain": [
       "<class 'statsmodels.iolib.summary.Summary'>\n",
       "\"\"\"\n",
       "                            OLS Regression Results                            \n",
       "==============================================================================\n",
       "Dep. Variable:          np.log(focus)   R-squared:                       0.020\n",
       "Model:                            OLS   Adj. R-squared:                  0.016\n",
       "Method:                 Least Squares   F-statistic:                     5.147\n",
       "Date:                Thu, 08 Jun 2023   Prob (F-statistic):            0.00612\n",
       "Time:                        19:51:36   Log-Likelihood:                -837.19\n",
       "No. Observations:                 519   AIC:                             1680.\n",
       "Df Residuals:                     516   BIC:                             1693.\n",
       "Df Model:                           2                                         \n",
       "Covariance Type:            nonrobust                                         \n",
       "==============================================================================\n",
       "                 coef    std err          t      P>|t|      [0.025      0.975]\n",
       "------------------------------------------------------------------------------\n",
       "Intercept     -3.3841      0.101    -33.561      0.000      -3.582      -3.186\n",
       "clustering     0.2229      0.133      1.677      0.094      -0.038       0.484\n",
       "degree         6.0997      3.186      1.914      0.056      -0.160      12.359\n",
       "==============================================================================\n",
       "Omnibus:                      786.801   Durbin-Watson:                   1.901\n",
       "Prob(Omnibus):                  0.000   Jarque-Bera (JB):           371342.134\n",
       "Skew:                          -8.035   Prob(JB):                         0.00\n",
       "Kurtosis:                     133.052   Cond. No.                         73.8\n",
       "==============================================================================\n",
       "\n",
       "Notes:\n",
       "[1] Standard Errors assume that the covariance matrix of the errors is correctly specified.\n",
       "\"\"\""
      ]
     },
     "execution_count": 123,
     "metadata": {},
     "output_type": "execute_result"
    }
   ],
   "source": [
    "result.summary()"
   ]
  },
  {
   "cell_type": "code",
   "execution_count": 124,
   "id": "0289d85e",
   "metadata": {},
   "outputs": [
    {
     "data": {
      "text/html": [
       "<style type=\"text/css\">\n",
       "</style>\n",
       "<table id=\"T_ad0bd\">\n",
       "  <thead>\n",
       "    <tr>\n",
       "      <th id=\"T_ad0bd_level0_col0\" class=\"col_heading level0 col0\" >variable</th>\n",
       "      <th id=\"T_ad0bd_level0_col1\" class=\"col_heading level0 col1\" >coefficient</th>\n",
       "      <th id=\"T_ad0bd_level0_col2\" class=\"col_heading level0 col2\" >std error</th>\n",
       "      <th id=\"T_ad0bd_level0_col3\" class=\"col_heading level0 col3\" >p-value</th>\n",
       "    </tr>\n",
       "  </thead>\n",
       "  <tbody>\n",
       "    <tr>\n",
       "      <td id=\"T_ad0bd_row0_col0\" class=\"data row0 col0\" >clustering</td>\n",
       "      <td id=\"T_ad0bd_row0_col1\" class=\"data row0 col1\" >0.222930</td>\n",
       "      <td id=\"T_ad0bd_row0_col2\" class=\"data row0 col2\" >0.132973</td>\n",
       "      <td id=\"T_ad0bd_row0_col3\" class=\"data row0 col3\" >0.094244</td>\n",
       "    </tr>\n",
       "    <tr>\n",
       "      <td id=\"T_ad0bd_row1_col0\" class=\"data row1 col0\" >degree</td>\n",
       "      <td id=\"T_ad0bd_row1_col1\" class=\"data row1 col1\" >6.099706</td>\n",
       "      <td id=\"T_ad0bd_row1_col2\" class=\"data row1 col2\" >3.186241</td>\n",
       "      <td id=\"T_ad0bd_row1_col3\" class=\"data row1 col3\" >0.056123</td>\n",
       "    </tr>\n",
       "  </tbody>\n",
       "</table>\n"
      ],
      "text/plain": [
       "<pandas.io.formats.style.Styler at 0x7f61ad6bdb40>"
      ]
     },
     "execution_count": 124,
     "metadata": {},
     "output_type": "execute_result"
    }
   ],
   "source": [
    "result.micro_summary()"
   ]
  },
  {
   "cell_type": "code",
   "execution_count": 125,
   "id": "8f5f4bbd",
   "metadata": {},
   "outputs": [
    {
     "data": {
      "image/png": "[encoded data removed]",
      "text/plain": [
       "<Figure size 1280x480 with 2 Axes>"
      ]
     },
     "metadata": {},
     "output_type": "display_data"
    }
   ],
   "source": [
    "result.plot_residuals()"
   ]
  },
  {
   "cell_type": "markdown",
   "id": "15462d91",
   "metadata": {},
   "source": [
    "## Saving the graph"
   ]
  },
  {
   "cell_type": "code",
   "execution_count": 83,
   "id": "2c0b7e8b",
   "metadata": {},
   "outputs": [],
   "source": [
    "import netpixi"
   ]
  },
  {
   "cell_type": "code",
   "execution_count": 84,
   "id": "d382824e",
   "metadata": {},
   "outputs": [],
   "source": [
    "gt_save(g, '../networks/colabs_python.net.gz')"
   ]
  }
 ],
 "metadata": {
  "kernelspec": {
   "display_name": "Python 3 (ipykernel)",
   "language": "python",
   "name": "python3"
  },
  "language_info": {
   "codemirror_mode": {
    "name": "ipython",
    "version": 3
   },
   "file_extension": ".py",
   "mimetype": "text/x-python",
   "name": "python",
   "nbconvert_exporter": "python",
   "pygments_lexer": "ipython3",
   "version": "3.10.10"
  }
 },
 "nbformat": 4,
 "nbformat_minor": 5
}
