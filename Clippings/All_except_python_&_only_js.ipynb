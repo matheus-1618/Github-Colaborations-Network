{
 "cells": [
  {
   "cell_type": "markdown",
   "id": "bb488d6b",
   "metadata": {},
   "source": [
    "## Building the graph\n",
    "\n",
    "### Clipping: All except colabs mentioning \"python\" + Colabs mentioning only \"Javascript\"\n",
    "\n",
    "After getting and parsing the data, we need to understand and create metrics that could lead us to our hypothesis and it's impacts."
   ]
  },
  {
   "cell_type": "code",
   "execution_count": 100,
   "id": "12ebbc4f",
   "metadata": {},
   "outputs": [],
   "source": [
    "from netpixi.integration.gt import Graph\n",
    "import pandas as pd\n",
    "import numpy as np\n",
    "\n",
    "g = Graph(directed=False)"
   ]
  },
  {
   "cell_type": "code",
   "execution_count": 101,
   "id": "0f08a11c",
   "metadata": {},
   "outputs": [],
   "source": [
    "data = pd.read_csv(\"../data/colaboration_comments.csv\")"
   ]
  },
  {
   "cell_type": "code",
   "execution_count": 102,
   "id": "1de1e7b6",
   "metadata": {},
   "outputs": [],
   "source": [
    "# Add the source repositories (usually belonging to organizations where users collaborate)\n",
    "data['source'] = list(map(lambda x : x.split(\"https://github.com/\")[-1].split('/')[0],data['URL']))"
   ]
  },
  {
   "cell_type": "code",
   "execution_count": 103,
   "id": "99636e2e",
   "metadata": {},
   "outputs": [],
   "source": [
    "#All except colabs mentioning \"python\" + Colabs mentioning only \"Javascript\"\n",
    "data = data[data['BODY'].notna() & ~data['BODY'].str.lower().apply(lambda x: 'python' in str(x).lower() or 'py' in str(x).lower())]\n",
    "data = data[data['BODY'].notna() & data['BODY'].str.lower().str.contains('javascript|js',case=False)]"
   ]
  },
  {
   "cell_type": "code",
   "execution_count": 104,
   "id": "1a6cd505",
   "metadata": {},
   "outputs": [],
   "source": [
    "# Drop columns which we won't use\n",
    "data = data.drop(['COMMIT_ID','COMMENT_ID','URL'],axis=1)"
   ]
  },
  {
   "cell_type": "code",
   "execution_count": 105,
   "id": "8baf9157",
   "metadata": {},
   "outputs": [
    {
     "data": {
      "text/html": [
       "<div>\n",
       "<style scoped>\n",
       "    .dataframe tbody tr th:only-of-type {\n",
       "        vertical-align: middle;\n",
       "    }\n",
       "\n",
       "    .dataframe tbody tr th {\n",
       "        vertical-align: top;\n",
       "    }\n",
       "\n",
       "    .dataframe thead th {\n",
       "        text-align: right;\n",
       "    }\n",
       "</style>\n",
       "<table border=\"1\" class=\"dataframe\">\n",
       "  <thead>\n",
       "    <tr style=\"text-align: right;\">\n",
       "      <th></th>\n",
       "      <th>AUTHOR</th>\n",
       "      <th>CREATED_AT</th>\n",
       "      <th>BODY</th>\n",
       "      <th>source</th>\n",
       "    </tr>\n",
       "  </thead>\n",
       "  <tbody>\n",
       "    <tr>\n",
       "      <th>22</th>\n",
       "      <td>orenyk</td>\n",
       "      <td>2015-01-01T00:13:41Z</td>\n",
       "      <td>any reason why we're not excluding `vendor` he...</td>\n",
       "      <td>YaleSTC</td>\n",
       "    </tr>\n",
       "    <tr>\n",
       "      <th>33</th>\n",
       "      <td>jc00ke</td>\n",
       "      <td>2015-01-01T00:18:37Z</td>\n",
       "      <td>```ruby\\r\\nbody = {\\r\\n  name: \"event\",\\r\\n  s...</td>\n",
       "      <td>botandrose</td>\n",
       "    </tr>\n",
       "    <tr>\n",
       "      <th>42</th>\n",
       "      <td>codeschool-kiddo</td>\n",
       "      <td>2015-01-01T00:22:52Z</td>\n",
       "      <td>Looks good! Could you also please mention your...</td>\n",
       "      <td>deadlyvipers</td>\n",
       "    </tr>\n",
       "    <tr>\n",
       "      <th>45</th>\n",
       "      <td>mnquintana</td>\n",
       "      <td>2015-01-01T00:23:59Z</td>\n",
       "      <td>It seemed to be a bug with jshint's globbing -...</td>\n",
       "      <td>YaleSTC</td>\n",
       "    </tr>\n",
       "    <tr>\n",
       "      <th>56</th>\n",
       "      <td>jbrooksuk</td>\n",
       "      <td>2015-01-01T00:29:06Z</td>\n",
       "      <td>Move the JS into start.js please.</td>\n",
       "      <td>Jamesking56</td>\n",
       "    </tr>\n",
       "    <tr>\n",
       "      <th>...</th>\n",
       "      <td>...</td>\n",
       "      <td>...</td>\n",
       "      <td>...</td>\n",
       "      <td>...</td>\n",
       "    </tr>\n",
       "    <tr>\n",
       "      <th>635061</th>\n",
       "      <td>kuba</td>\n",
       "      <td>2015-02-28T08:30:06Z</td>\n",
       "      <td>That's because we want to use `cls.from_valid_...</td>\n",
       "      <td>letsencrypt</td>\n",
       "    </tr>\n",
       "    <tr>\n",
       "      <th>635113</th>\n",
       "      <td>mrjoelkemp</td>\n",
       "      <td>2015-02-28T08:43:50Z</td>\n",
       "      <td>What about 'index.js' as a path? Wouldn't that...</td>\n",
       "      <td>mrjoelkemp</td>\n",
       "    </tr>\n",
       "    <tr>\n",
       "      <th>635126</th>\n",
       "      <td>rexxarM</td>\n",
       "      <td>2015-02-28T08:48:18Z</td>\n",
       "      <td>@kennytm  does iOS support this way to invoke ...</td>\n",
       "      <td>hihex</td>\n",
       "    </tr>\n",
       "    <tr>\n",
       "      <th>635146</th>\n",
       "      <td>kennytm</td>\n",
       "      <td>2015-02-28T08:55:51Z</td>\n",
       "      <td>iOS WebView supports this if the via URL captu...</td>\n",
       "      <td>hihex</td>\n",
       "    </tr>\n",
       "    <tr>\n",
       "      <th>635246</th>\n",
       "      <td>subesokun</td>\n",
       "      <td>2015-02-28T09:33:54Z</td>\n",
       "      <td>Minor code refactoring as discussed in https:/...</td>\n",
       "      <td>subesokun</td>\n",
       "    </tr>\n",
       "  </tbody>\n",
       "</table>\n",
       "<p>16857 rows × 4 columns</p>\n",
       "</div>"
      ],
      "text/plain": [
       "                  AUTHOR            CREATED_AT  \\\n",
       "22                orenyk  2015-01-01T00:13:41Z   \n",
       "33                jc00ke  2015-01-01T00:18:37Z   \n",
       "42      codeschool-kiddo  2015-01-01T00:22:52Z   \n",
       "45            mnquintana  2015-01-01T00:23:59Z   \n",
       "56             jbrooksuk  2015-01-01T00:29:06Z   \n",
       "...                  ...                   ...   \n",
       "635061              kuba  2015-02-28T08:30:06Z   \n",
       "635113        mrjoelkemp  2015-02-28T08:43:50Z   \n",
       "635126           rexxarM  2015-02-28T08:48:18Z   \n",
       "635146           kennytm  2015-02-28T08:55:51Z   \n",
       "635246         subesokun  2015-02-28T09:33:54Z   \n",
       "\n",
       "                                                     BODY        source  \n",
       "22      any reason why we're not excluding `vendor` he...       YaleSTC  \n",
       "33      ```ruby\\r\\nbody = {\\r\\n  name: \"event\",\\r\\n  s...    botandrose  \n",
       "42      Looks good! Could you also please mention your...  deadlyvipers  \n",
       "45      It seemed to be a bug with jshint's globbing -...       YaleSTC  \n",
       "56                     Move the JS into start.js please.    Jamesking56  \n",
       "...                                                   ...           ...  \n",
       "635061  That's because we want to use `cls.from_valid_...   letsencrypt  \n",
       "635113  What about 'index.js' as a path? Wouldn't that...    mrjoelkemp  \n",
       "635126  @kennytm  does iOS support this way to invoke ...         hihex  \n",
       "635146  iOS WebView supports this if the via URL captu...         hihex  \n",
       "635246  Minor code refactoring as discussed in https:/...     subesokun  \n",
       "\n",
       "[16857 rows x 4 columns]"
      ]
     },
     "execution_count": 105,
     "metadata": {},
     "output_type": "execute_result"
    }
   ],
   "source": [
    "#First view of data\n",
    "data"
   ]
  },
  {
   "cell_type": "code",
   "execution_count": 106,
   "id": "a7b5a153",
   "metadata": {},
   "outputs": [
    {
     "data": {
      "text/plain": [
       "AUTHOR\n",
       "codeschool-kiddo    768\n",
       "linthubot           332\n",
       "vladberteanu         60\n",
       "bajtos               58\n",
       "sindresorhus         58\n",
       "                   ... \n",
       "github-tn             1\n",
       "gitblit               1\n",
       "giosh94mhz            1\n",
       "gilmoskowitz          1\n",
       "zzcclp                1\n",
       "Name: source, Length: 6655, dtype: int64"
      ]
     },
     "execution_count": 106,
     "metadata": {},
     "output_type": "execute_result"
    }
   ],
   "source": [
    "#Looking to the total contribuitions for the users in the source repositories\n",
    "total_contributions = data.groupby(['AUTHOR']).count()['source'].sort_values(ascending=False)\n",
    "total_contributions"
   ]
  },
  {
   "cell_type": "code",
   "execution_count": 107,
   "id": "44a6f378",
   "metadata": {},
   "outputs": [
    {
     "data": {
      "text/plain": [
       "count    6655.000000\n",
       "mean        2.532983\n",
       "std        10.835107\n",
       "min         1.000000\n",
       "25%         1.000000\n",
       "50%         1.000000\n",
       "75%         2.000000\n",
       "max       768.000000\n",
       "Name: source, dtype: float64"
      ]
     },
     "execution_count": 107,
     "metadata": {},
     "output_type": "execute_result"
    }
   ],
   "source": [
    "# As we can see there are many contribuitors who participated much less than the average, we're going to use this to filter \n",
    "# the data: contribuitors who has less contributions than the average will not be considered for the network\n",
    "total_contributions.describe()"
   ]
  },
  {
   "cell_type": "code",
   "execution_count": 108,
   "id": "90f32c0e",
   "metadata": {},
   "outputs": [
    {
     "data": {
      "text/plain": [
       "Index(['deadlyvipers', 'mozilla', 'iojs', 'nl5887', 'mozilla-b2g', 'edx',\n",
       "       'angular', 'Wikia', 'jquery', 'jscs-dev',\n",
       "       ...\n",
       "       'josdejong', 'ogawatti', 'webgme', 'SuaveIO', 'Tatoeba', 'mciruzzi',\n",
       "       'Icenium', 'ReadyTalk', '4teamwork', 'mdx-dev'],\n",
       "      dtype='object', name='source', length=858)"
      ]
     },
     "execution_count": 108,
     "metadata": {},
     "output_type": "execute_result"
    }
   ],
   "source": [
    "#Cleaning the data as explaneid above\n",
    "contribuitors = data.groupby(['source']).count()['AUTHOR'].sort_values(ascending=False)\n",
    "contribuitors_mean = contribuitors.mean()\n",
    "repos_edge = contribuitors[contribuitors>contribuitors_mean]\n",
    "repos_edge.index"
   ]
  },
  {
   "cell_type": "code",
   "execution_count": 109,
   "id": "88f445b5",
   "metadata": {},
   "outputs": [],
   "source": [
    "#filtering\n",
    "data_clean = data[data['source'].isin(repos_edge.index)]"
   ]
  },
  {
   "cell_type": "code",
   "execution_count": 110,
   "id": "7f4fe276",
   "metadata": {},
   "outputs": [
    {
     "data": {
      "text/html": [
       "<div>\n",
       "<style scoped>\n",
       "    .dataframe tbody tr th:only-of-type {\n",
       "        vertical-align: middle;\n",
       "    }\n",
       "\n",
       "    .dataframe tbody tr th {\n",
       "        vertical-align: top;\n",
       "    }\n",
       "\n",
       "    .dataframe thead th {\n",
       "        text-align: right;\n",
       "    }\n",
       "</style>\n",
       "<table border=\"1\" class=\"dataframe\">\n",
       "  <thead>\n",
       "    <tr style=\"text-align: right;\">\n",
       "      <th></th>\n",
       "      <th>AUTHOR</th>\n",
       "      <th>CREATED_AT</th>\n",
       "      <th>BODY</th>\n",
       "      <th>source</th>\n",
       "    </tr>\n",
       "  </thead>\n",
       "  <tbody>\n",
       "    <tr>\n",
       "      <th>22</th>\n",
       "      <td>orenyk</td>\n",
       "      <td>2015-01-01T00:13:41Z</td>\n",
       "      <td>any reason why we're not excluding `vendor` he...</td>\n",
       "      <td>YaleSTC</td>\n",
       "    </tr>\n",
       "    <tr>\n",
       "      <th>42</th>\n",
       "      <td>codeschool-kiddo</td>\n",
       "      <td>2015-01-01T00:22:52Z</td>\n",
       "      <td>Looks good! Could you also please mention your...</td>\n",
       "      <td>deadlyvipers</td>\n",
       "    </tr>\n",
       "    <tr>\n",
       "      <th>45</th>\n",
       "      <td>mnquintana</td>\n",
       "      <td>2015-01-01T00:23:59Z</td>\n",
       "      <td>It seemed to be a bug with jshint's globbing -...</td>\n",
       "      <td>YaleSTC</td>\n",
       "    </tr>\n",
       "    <tr>\n",
       "      <th>298</th>\n",
       "      <td>bors-servo</td>\n",
       "      <td>2015-01-01T10:00:43Z</td>\n",
       "      <td>merging yodalee/servo/issue4484-ToJSValConvert...</td>\n",
       "      <td>servo</td>\n",
       "    </tr>\n",
       "    <tr>\n",
       "      <th>299</th>\n",
       "      <td>bors-servo</td>\n",
       "      <td>2015-01-01T10:00:44Z</td>\n",
       "      <td>yodalee/servo/issue4484-ToJSValConvertible-for...</td>\n",
       "      <td>servo</td>\n",
       "    </tr>\n",
       "    <tr>\n",
       "      <th>...</th>\n",
       "      <td>...</td>\n",
       "      <td>...</td>\n",
       "      <td>...</td>\n",
       "      <td>...</td>\n",
       "    </tr>\n",
       "    <tr>\n",
       "      <th>634903</th>\n",
       "      <td>Honry</td>\n",
       "      <td>2015-02-28T07:16:45Z</td>\n",
       "      <td>This step name elusive, here you want to click...</td>\n",
       "      <td>crosswalk-project</td>\n",
       "    </tr>\n",
       "    <tr>\n",
       "      <th>634934</th>\n",
       "      <td>cpq</td>\n",
       "      <td>2015-02-28T07:31:52Z</td>\n",
       "      <td>Dead code removed.\\r\\nJS implementation is wro...</td>\n",
       "      <td>cesanta</td>\n",
       "    </tr>\n",
       "    <tr>\n",
       "      <th>635061</th>\n",
       "      <td>kuba</td>\n",
       "      <td>2015-02-28T08:30:06Z</td>\n",
       "      <td>That's because we want to use `cls.from_valid_...</td>\n",
       "      <td>letsencrypt</td>\n",
       "    </tr>\n",
       "    <tr>\n",
       "      <th>635113</th>\n",
       "      <td>mrjoelkemp</td>\n",
       "      <td>2015-02-28T08:43:50Z</td>\n",
       "      <td>What about 'index.js' as a path? Wouldn't that...</td>\n",
       "      <td>mrjoelkemp</td>\n",
       "    </tr>\n",
       "    <tr>\n",
       "      <th>635246</th>\n",
       "      <td>subesokun</td>\n",
       "      <td>2015-02-28T09:33:54Z</td>\n",
       "      <td>Minor code refactoring as discussed in https:/...</td>\n",
       "      <td>subesokun</td>\n",
       "    </tr>\n",
       "  </tbody>\n",
       "</table>\n",
       "<p>11984 rows × 4 columns</p>\n",
       "</div>"
      ],
      "text/plain": [
       "                  AUTHOR            CREATED_AT  \\\n",
       "22                orenyk  2015-01-01T00:13:41Z   \n",
       "42      codeschool-kiddo  2015-01-01T00:22:52Z   \n",
       "45            mnquintana  2015-01-01T00:23:59Z   \n",
       "298           bors-servo  2015-01-01T10:00:43Z   \n",
       "299           bors-servo  2015-01-01T10:00:44Z   \n",
       "...                  ...                   ...   \n",
       "634903             Honry  2015-02-28T07:16:45Z   \n",
       "634934               cpq  2015-02-28T07:31:52Z   \n",
       "635061              kuba  2015-02-28T08:30:06Z   \n",
       "635113        mrjoelkemp  2015-02-28T08:43:50Z   \n",
       "635246         subesokun  2015-02-28T09:33:54Z   \n",
       "\n",
       "                                                     BODY             source  \n",
       "22      any reason why we're not excluding `vendor` he...            YaleSTC  \n",
       "42      Looks good! Could you also please mention your...       deadlyvipers  \n",
       "45      It seemed to be a bug with jshint's globbing -...            YaleSTC  \n",
       "298     merging yodalee/servo/issue4484-ToJSValConvert...              servo  \n",
       "299     yodalee/servo/issue4484-ToJSValConvertible-for...              servo  \n",
       "...                                                   ...                ...  \n",
       "634903  This step name elusive, here you want to click...  crosswalk-project  \n",
       "634934  Dead code removed.\\r\\nJS implementation is wro...            cesanta  \n",
       "635061  That's because we want to use `cls.from_valid_...        letsencrypt  \n",
       "635113  What about 'index.js' as a path? Wouldn't that...         mrjoelkemp  \n",
       "635246  Minor code refactoring as discussed in https:/...          subesokun  \n",
       "\n",
       "[11984 rows x 4 columns]"
      ]
     },
     "execution_count": 110,
     "metadata": {},
     "output_type": "execute_result"
    }
   ],
   "source": [
    "data_clean"
   ]
  },
  {
   "cell_type": "markdown",
   "id": "ac21274d",
   "metadata": {},
   "source": [
    "We already have the filter to build the network with a good context to define an edge between two collaborators: \n",
    "\n",
    "**There are an edge between them if they have at least one collaboration in a relevant source**\n",
    "\n",
    "Even so, there many developers who collaborate very little, and we need to adjust our data to maintain only developers with a appropriate average frequency in mass of data to avoid any bias due collators with less interactions than the average of collaborations."
   ]
  },
  {
   "cell_type": "code",
   "execution_count": 111,
   "id": "aeb4b680",
   "metadata": {},
   "outputs": [],
   "source": [
    "#Contributions to define an edge\n",
    "edge_contrib = data_clean.groupby(['AUTHOR']).count()['source'].sort_values(ascending=False)\n",
    "#Average contributions\n",
    "average_contrib =edge_contrib.mean()"
   ]
  },
  {
   "cell_type": "markdown",
   "id": "31fd1211",
   "metadata": {},
   "source": [
    "## Defining focus\n",
    "\n",
    "We now need to define a custom metric to help to define our hypothesis: \n",
    "\n",
    "**As much a developers belong to a community (obtained by cluster coefficient metric), he has focus in the collaborations**\n",
    "\n",
    "That way we need to define the concept of focus. Focus will be understanding in this context by: \n",
    "\n",
    "*Number of developer collaborations considered for edge formation divided per total collaborations in the data, thoughtful by the Number of developer collaborations per the max Number of collaborations of an individual:*\n",
    "\n",
    " $$focus = \\frac{edgeContributions_i}{totalContributions_i}\\cdot\\frac{edgeContributions_i}{maxEdgeContribution}$$\n",
    " \n",
    " This metric is interesting because as define the percentage of relevant contributions to the graph, it takes into account the quantity of the individual contributions of the developer, giving different weights to them, even the  percentage of relevant contributions is similar, deepening the relevance of this metric."
   ]
  },
  {
   "cell_type": "code",
   "execution_count": 112,
   "id": "ed3747af",
   "metadata": {},
   "outputs": [
    {
     "data": {
      "text/plain": [
       "AUTHOR\n",
       "shinnn              0.000163\n",
       "phated              0.000260\n",
       "splendido           0.000260\n",
       "swannodette         0.000326\n",
       "bendrucker          0.000326\n",
       "                      ...   \n",
       "sindresorhus        0.070402\n",
       "bajtos              0.070402\n",
       "vladberteanu        0.078125\n",
       "linthubot           0.424514\n",
       "codeschool-kiddo    1.000000\n",
       "Name: source, Length: 3341, dtype: float64"
      ]
     },
     "execution_count": 112,
     "metadata": {},
     "output_type": "execute_result"
    }
   ],
   "source": [
    "focus = (edge_contrib/total_contributions)*(edge_contrib/np.max(edge_contrib))\n",
    "focus = focus.dropna().sort_values(ascending=True)\n",
    "focus"
   ]
  },
  {
   "cell_type": "markdown",
   "id": "dbd24c01",
   "metadata": {},
   "source": [
    "## Building the Network properly\n",
    "\n",
    "To the define the network we need to enumerate the collaborators who interact in the same repo by repo, and after it set pairs of developers to create an edge in the network. \n",
    "\n",
    "Concurrently we are defining the focus of each developer."
   ]
  },
  {
   "cell_type": "code",
   "execution_count": 113,
   "id": "fe8bcc4e",
   "metadata": {},
   "outputs": [
    {
     "data": {
      "text/plain": [
       "source\n",
       "18F             [afeld, cmc333333, konklone, mbland, msecret, ...\n",
       "201-created                                       [bantic, iezer]\n",
       "2600hz                                   [jamesaimonetti, macpie]\n",
       "28msec                                     [dknochen, wcandillon]\n",
       "3y3                                                 [3y3, bajtos]\n",
       "                                      ...                        \n",
       "zhangyaochun                           [ivanzhaowy, zhangyaochun]\n",
       "zlenyk                                                   [Anitka]\n",
       "zooniverse            [aweiksnar, camallen, chrissnyder, edpaget]\n",
       "zotero          [aurimasv, dstillman, fbennett, nemobis, reubo...\n",
       "zxqfox                                            [eGavr, zxqfox]\n",
       "Name: AUTHOR, Length: 858, dtype: object"
      ]
     },
     "execution_count": 113,
     "metadata": {},
     "output_type": "execute_result"
    }
   ],
   "source": [
    "same_repo_colab = data_clean.groupby('source')['AUTHOR'].apply(lambda x: list(np.unique(x)))\n",
    "same_repo_colab"
   ]
  },
  {
   "cell_type": "code",
   "execution_count": 114,
   "id": "ef5ead84",
   "metadata": {},
   "outputs": [],
   "source": [
    "import itertools\n",
    "import warnings\n",
    "warnings.filterwarnings('ignore') \n",
    "\n",
    "g.add_vp('focus')\n",
    "g.add_vp('colabs')\n",
    "for index, row in same_repo_colab.iteritems():\n",
    "    pairs = itertools.combinations(row, 2)\n",
    "    for i,pair in enumerate(pairs):\n",
    "        try:\n",
    "            g.add_vertex(pair[0])\n",
    "            u = g.get_vertex(pair[0])\n",
    "            u['focus'] = focus[pair[0]]\n",
    "            u['colabs'] = int(edge_contrib[pair[0]])\n",
    "        except Exception as inst:\n",
    "            pass\n",
    "        try:\n",
    "            g.add_vertex(pair[1])\n",
    "            v = g.get_vertex(pair[1])\n",
    "            v['focus'] = focus[pair[1]]\n",
    "            v['colabs'] = int(edge_contrib[pair[1]])\n",
    "        except Exception as inst:\n",
    "            pass\n",
    "        finally:\n",
    "            try:\n",
    "                g.add_edge(pair[0],pair[1])\n",
    "            except:\n",
    "                pass"
   ]
  },
  {
   "cell_type": "markdown",
   "id": "6335b33d",
   "metadata": {},
   "source": [
    "#### Number of vertex in the graph"
   ]
  },
  {
   "cell_type": "code",
   "execution_count": 115,
   "id": "3a42b4ef",
   "metadata": {},
   "outputs": [
    {
     "name": "stdout",
     "output_type": "stream",
     "text": [
      "g's number of vertex: 3285\n"
     ]
    }
   ],
   "source": [
    "n = g.num_vertices()\n",
    "print(\"g's number of vertex:\", n)"
   ]
  },
  {
   "cell_type": "markdown",
   "id": "0535bfd6",
   "metadata": {},
   "source": [
    "#### Number of edges in the graph"
   ]
  },
  {
   "cell_type": "code",
   "execution_count": 116,
   "id": "59d444bd",
   "metadata": {},
   "outputs": [
    {
     "name": "stdout",
     "output_type": "stream",
     "text": [
      "g's number of edges: 23735\n"
     ]
    }
   ],
   "source": [
    "m = g.num_edges()\n",
    "print(\"g's number of edges:\", m)"
   ]
  },
  {
   "cell_type": "markdown",
   "id": "dfad626f",
   "metadata": {},
   "source": [
    "#### Density of the graph"
   ]
  },
  {
   "cell_type": "code",
   "execution_count": 117,
   "id": "fb1d2c81",
   "metadata": {},
   "outputs": [
    {
     "data": {
      "text/plain": [
       "5393970"
      ]
     },
     "execution_count": 117,
     "metadata": {},
     "output_type": "execute_result"
    }
   ],
   "source": [
    "if g.is_directed():\n",
    "    max_edges = n * (n - 1)\n",
    "else:\n",
    "    max_edges = n * (n - 1) // 2\n",
    "max_edges"
   ]
  },
  {
   "cell_type": "code",
   "execution_count": 118,
   "id": "d388dcbb",
   "metadata": {},
   "outputs": [
    {
     "name": "stdout",
     "output_type": "stream",
     "text": [
      "Density is 0.004400284020860331\n"
     ]
    }
   ],
   "source": [
    "d = m / max_edges\n",
    "d\n",
    "print(f'Density is {d}')"
   ]
  },
  {
   "cell_type": "markdown",
   "id": "e76885fb",
   "metadata": {},
   "source": [
    "### Analyzing the graph\n",
    "\n",
    "After obtained the general data of the graph, we need to create insights by regression details which describes better if our hypothesis will be confirmed or not."
   ]
  },
  {
   "cell_type": "code",
   "execution_count": 119,
   "id": "75c50ee5",
   "metadata": {},
   "outputs": [],
   "source": [
    "import seaborn as sns\n",
    "from netpixi.integration.gt import *\n",
    "from regression.integration.gt import *"
   ]
  },
  {
   "cell_type": "code",
   "execution_count": 120,
   "id": "7376383e",
   "metadata": {},
   "outputs": [
    {
     "data": {
      "text/html": [
       "<div>\n",
       "<style scoped>\n",
       "    .dataframe tbody tr th:only-of-type {\n",
       "        vertical-align: middle;\n",
       "    }\n",
       "\n",
       "    .dataframe tbody tr th {\n",
       "        vertical-align: top;\n",
       "    }\n",
       "\n",
       "    .dataframe thead th {\n",
       "        text-align: right;\n",
       "    }\n",
       "</style>\n",
       "<table border=\"1\" class=\"dataframe\">\n",
       "  <thead>\n",
       "    <tr style=\"text-align: right;\">\n",
       "      <th></th>\n",
       "      <th>focus</th>\n",
       "      <th>colabs</th>\n",
       "    </tr>\n",
       "    <tr>\n",
       "      <th>id</th>\n",
       "      <th></th>\n",
       "      <th></th>\n",
       "    </tr>\n",
       "  </thead>\n",
       "  <tbody>\n",
       "    <tr>\n",
       "      <th>afeld</th>\n",
       "      <td>0.000868</td>\n",
       "      <td>2</td>\n",
       "    </tr>\n",
       "    <tr>\n",
       "      <th>cmc333333</th>\n",
       "      <td>0.001302</td>\n",
       "      <td>1</td>\n",
       "    </tr>\n",
       "    <tr>\n",
       "      <th>konklone</th>\n",
       "      <td>0.001736</td>\n",
       "      <td>2</td>\n",
       "    </tr>\n",
       "    <tr>\n",
       "      <th>mbland</th>\n",
       "      <td>0.001302</td>\n",
       "      <td>1</td>\n",
       "    </tr>\n",
       "    <tr>\n",
       "      <th>msecret</th>\n",
       "      <td>0.006510</td>\n",
       "      <td>5</td>\n",
       "    </tr>\n",
       "  </tbody>\n",
       "</table>\n",
       "</div>"
      ],
      "text/plain": [
       "              focus  colabs\n",
       "id                         \n",
       "afeld      0.000868       2\n",
       "cmc333333  0.001302       1\n",
       "konklone   0.001736       2\n",
       "mbland     0.001302       1\n",
       "msecret    0.006510       5"
      ]
     },
     "execution_count": 120,
     "metadata": {},
     "output_type": "execute_result"
    }
   ],
   "source": [
    "data = gt_data(g)\n",
    "data.head(5)"
   ]
  },
  {
   "cell_type": "markdown",
   "id": "da3d37e7",
   "metadata": {},
   "source": [
    "##### Adding clustering and degree metrics"
   ]
  },
  {
   "cell_type": "code",
   "execution_count": 121,
   "id": "36112486",
   "metadata": {},
   "outputs": [
    {
     "data": {
      "text/html": [
       "<div>\n",
       "<style scoped>\n",
       "    .dataframe tbody tr th:only-of-type {\n",
       "        vertical-align: middle;\n",
       "    }\n",
       "\n",
       "    .dataframe tbody tr th {\n",
       "        vertical-align: top;\n",
       "    }\n",
       "\n",
       "    .dataframe thead th {\n",
       "        text-align: right;\n",
       "    }\n",
       "</style>\n",
       "<table border=\"1\" class=\"dataframe\">\n",
       "  <thead>\n",
       "    <tr style=\"text-align: right;\">\n",
       "      <th></th>\n",
       "      <th>focus</th>\n",
       "      <th>colabs</th>\n",
       "      <th>clustering</th>\n",
       "      <th>degree</th>\n",
       "    </tr>\n",
       "  </thead>\n",
       "  <tbody>\n",
       "    <tr>\n",
       "      <th>count</th>\n",
       "      <td>3285.000000</td>\n",
       "      <td>3285.000000</td>\n",
       "      <td>3285.000000</td>\n",
       "      <td>3285.000000</td>\n",
       "    </tr>\n",
       "    <tr>\n",
       "      <th>mean</th>\n",
       "      <td>0.004448</td>\n",
       "      <td>3.551294</td>\n",
       "      <td>0.832628</td>\n",
       "      <td>0.004400</td>\n",
       "    </tr>\n",
       "    <tr>\n",
       "      <th>std</th>\n",
       "      <td>0.019706</td>\n",
       "      <td>15.197789</td>\n",
       "      <td>0.355163</td>\n",
       "      <td>0.006915</td>\n",
       "    </tr>\n",
       "    <tr>\n",
       "      <th>min</th>\n",
       "      <td>0.000163</td>\n",
       "      <td>1.000000</td>\n",
       "      <td>0.000000</td>\n",
       "      <td>0.000305</td>\n",
       "    </tr>\n",
       "    <tr>\n",
       "      <th>25%</th>\n",
       "      <td>0.001302</td>\n",
       "      <td>1.000000</td>\n",
       "      <td>1.000000</td>\n",
       "      <td>0.000609</td>\n",
       "    </tr>\n",
       "    <tr>\n",
       "      <th>50%</th>\n",
       "      <td>0.002604</td>\n",
       "      <td>2.000000</td>\n",
       "      <td>1.000000</td>\n",
       "      <td>0.001523</td>\n",
       "    </tr>\n",
       "    <tr>\n",
       "      <th>75%</th>\n",
       "      <td>0.003906</td>\n",
       "      <td>4.000000</td>\n",
       "      <td>1.000000</td>\n",
       "      <td>0.004263</td>\n",
       "    </tr>\n",
       "    <tr>\n",
       "      <th>max</th>\n",
       "      <td>1.000000</td>\n",
       "      <td>768.000000</td>\n",
       "      <td>1.000000</td>\n",
       "      <td>0.046590</td>\n",
       "    </tr>\n",
       "  </tbody>\n",
       "</table>\n",
       "</div>"
      ],
      "text/plain": [
       "             focus       colabs   clustering       degree\n",
       "count  3285.000000  3285.000000  3285.000000  3285.000000\n",
       "mean      0.004448     3.551294     0.832628     0.004400\n",
       "std       0.019706    15.197789     0.355163     0.006915\n",
       "min       0.000163     1.000000     0.000000     0.000305\n",
       "25%       0.001302     1.000000     1.000000     0.000609\n",
       "50%       0.002604     2.000000     1.000000     0.001523\n",
       "75%       0.003906     4.000000     1.000000     0.004263\n",
       "max       1.000000   768.000000     1.000000     0.046590"
      ]
     },
     "execution_count": 121,
     "metadata": {},
     "output_type": "execute_result"
    }
   ],
   "source": [
    "from graph_tool import clustering\n",
    "\n",
    "lc = clustering.local_clustering(g)\n",
    "g.add_vp('clustering', lc)\n",
    "dc = gt_total_degree(g)\n",
    "g.add_vp('degree', dc)\n",
    "data = gt_data(g)\n",
    "data.describe()"
   ]
  },
  {
   "cell_type": "code",
   "execution_count": 122,
   "id": "9ab4cebe",
   "metadata": {},
   "outputs": [
    {
     "data": {
      "text/html": [
       "<div>\n",
       "<style scoped>\n",
       "    .dataframe tbody tr th:only-of-type {\n",
       "        vertical-align: middle;\n",
       "    }\n",
       "\n",
       "    .dataframe tbody tr th {\n",
       "        vertical-align: top;\n",
       "    }\n",
       "\n",
       "    .dataframe thead th {\n",
       "        text-align: right;\n",
       "    }\n",
       "</style>\n",
       "<table border=\"1\" class=\"dataframe\">\n",
       "  <thead>\n",
       "    <tr style=\"text-align: right;\">\n",
       "      <th></th>\n",
       "      <th>degree_count</th>\n",
       "    </tr>\n",
       "  </thead>\n",
       "  <tbody>\n",
       "    <tr>\n",
       "      <th>count</th>\n",
       "      <td>3285.000000</td>\n",
       "    </tr>\n",
       "    <tr>\n",
       "      <th>mean</th>\n",
       "      <td>14.450533</td>\n",
       "    </tr>\n",
       "    <tr>\n",
       "      <th>std</th>\n",
       "      <td>22.708522</td>\n",
       "    </tr>\n",
       "    <tr>\n",
       "      <th>min</th>\n",
       "      <td>1.000000</td>\n",
       "    </tr>\n",
       "    <tr>\n",
       "      <th>25%</th>\n",
       "      <td>2.000000</td>\n",
       "    </tr>\n",
       "    <tr>\n",
       "      <th>50%</th>\n",
       "      <td>5.000000</td>\n",
       "    </tr>\n",
       "    <tr>\n",
       "      <th>75%</th>\n",
       "      <td>14.000000</td>\n",
       "    </tr>\n",
       "    <tr>\n",
       "      <th>max</th>\n",
       "      <td>153.000000</td>\n",
       "    </tr>\n",
       "  </tbody>\n",
       "</table>\n",
       "</div>"
      ],
      "text/plain": [
       "       degree_count\n",
       "count   3285.000000\n",
       "mean      14.450533\n",
       "std       22.708522\n",
       "min        1.000000\n",
       "25%        2.000000\n",
       "50%        5.000000\n",
       "75%       14.000000\n",
       "max      153.000000"
      ]
     },
     "execution_count": 122,
     "metadata": {},
     "output_type": "execute_result"
    }
   ],
   "source": [
    "degrees = []\n",
    "for v in g.all_vertices():\n",
    "    degrees.append(v.total_degree())\n",
    "data['degree_count'] = degrees\n",
    "data['degree_count'].describe().to_frame()"
   ]
  },
  {
   "cell_type": "code",
   "execution_count": 123,
   "id": "3e868744",
   "metadata": {},
   "outputs": [
    {
     "data": {
      "text/plain": [
       "<AxesSubplot: xlabel='degree_count', ylabel='Count'>"
      ]
     },
     "execution_count": 123,
     "metadata": {},
     "output_type": "execute_result"
    },
    {
     "data": {
      "image/png": "[encoded data removed]",
      "text/plain": [
       "<Figure size 640x480 with 1 Axes>"
      ]
     },
     "metadata": {},
     "output_type": "display_data"
    }
   ],
   "source": [
    "sns.histplot(data['degree_count'])"
   ]
  },
  {
   "cell_type": "markdown",
   "id": "46acd71c",
   "metadata": {},
   "source": [
    "#### Dropping the outliers (colabs > 1000)\n",
    "\n",
    "As we can see above there collaborators who are much higher than the collaborations, and much of them are bot's accounts (e.g *houndci* and *nrel-bot*). For this, we're removing them for the analysis."
   ]
  },
  {
   "cell_type": "code",
   "execution_count": 124,
   "id": "599f26e0",
   "metadata": {},
   "outputs": [],
   "source": [
    "selRows = data[data['colabs'] > 400].index\n",
    "data = data.drop(selRows,axis=0)"
   ]
  },
  {
   "cell_type": "markdown",
   "id": "16439770",
   "metadata": {},
   "source": [
    "### Normalizing focus\n",
    "\n",
    "After removing the outliers we need to normalize the focus metric to properly give insights about the data."
   ]
  },
  {
   "cell_type": "code",
   "execution_count": 125,
   "id": "0974e5b8",
   "metadata": {},
   "outputs": [],
   "source": [
    "x = data['focus']\n",
    "x_norm = (x-np.min(x))/(np.max(x)-np.min(x)) + 1e-10 #For log issues in the next cells\n",
    "data['focus'] = x_norm"
   ]
  },
  {
   "cell_type": "code",
   "execution_count": 126,
   "id": "00cf02c4",
   "metadata": {},
   "outputs": [
    {
     "data": {
      "text/html": [
       "<div>\n",
       "<style scoped>\n",
       "    .dataframe tbody tr th:only-of-type {\n",
       "        vertical-align: middle;\n",
       "    }\n",
       "\n",
       "    .dataframe tbody tr th {\n",
       "        vertical-align: top;\n",
       "    }\n",
       "\n",
       "    .dataframe thead th {\n",
       "        text-align: right;\n",
       "    }\n",
       "</style>\n",
       "<table border=\"1\" class=\"dataframe\">\n",
       "  <thead>\n",
       "    <tr style=\"text-align: right;\">\n",
       "      <th></th>\n",
       "      <th>degree</th>\n",
       "    </tr>\n",
       "  </thead>\n",
       "  <tbody>\n",
       "    <tr>\n",
       "      <th>count</th>\n",
       "      <td>3284.000000</td>\n",
       "    </tr>\n",
       "    <tr>\n",
       "      <th>mean</th>\n",
       "      <td>0.004401</td>\n",
       "    </tr>\n",
       "    <tr>\n",
       "      <th>std</th>\n",
       "      <td>0.006916</td>\n",
       "    </tr>\n",
       "    <tr>\n",
       "      <th>min</th>\n",
       "      <td>0.000305</td>\n",
       "    </tr>\n",
       "    <tr>\n",
       "      <th>25%</th>\n",
       "      <td>0.000609</td>\n",
       "    </tr>\n",
       "    <tr>\n",
       "      <th>50%</th>\n",
       "      <td>0.001523</td>\n",
       "    </tr>\n",
       "    <tr>\n",
       "      <th>75%</th>\n",
       "      <td>0.004263</td>\n",
       "    </tr>\n",
       "    <tr>\n",
       "      <th>max</th>\n",
       "      <td>0.046590</td>\n",
       "    </tr>\n",
       "  </tbody>\n",
       "</table>\n",
       "</div>"
      ],
      "text/plain": [
       "            degree\n",
       "count  3284.000000\n",
       "mean      0.004401\n",
       "std       0.006916\n",
       "min       0.000305\n",
       "25%       0.000609\n",
       "50%       0.001523\n",
       "75%       0.004263\n",
       "max       0.046590"
      ]
     },
     "execution_count": 126,
     "metadata": {},
     "output_type": "execute_result"
    }
   ],
   "source": [
    "data['degree'].describe().to_frame()"
   ]
  },
  {
   "cell_type": "code",
   "execution_count": 127,
   "id": "5f233e7f",
   "metadata": {},
   "outputs": [
    {
     "data": {
      "text/html": [
       "<div>\n",
       "<style scoped>\n",
       "    .dataframe tbody tr th:only-of-type {\n",
       "        vertical-align: middle;\n",
       "    }\n",
       "\n",
       "    .dataframe tbody tr th {\n",
       "        vertical-align: top;\n",
       "    }\n",
       "\n",
       "    .dataframe thead th {\n",
       "        text-align: right;\n",
       "    }\n",
       "</style>\n",
       "<table border=\"1\" class=\"dataframe\">\n",
       "  <thead>\n",
       "    <tr style=\"text-align: right;\">\n",
       "      <th></th>\n",
       "      <th>focus</th>\n",
       "    </tr>\n",
       "  </thead>\n",
       "  <tbody>\n",
       "    <tr>\n",
       "      <th>count</th>\n",
       "      <td>3.284000e+03</td>\n",
       "    </tr>\n",
       "    <tr>\n",
       "      <th>mean</th>\n",
       "      <td>9.383088e-03</td>\n",
       "    </tr>\n",
       "    <tr>\n",
       "      <th>std</th>\n",
       "      <td>2.190929e-02</td>\n",
       "    </tr>\n",
       "    <tr>\n",
       "      <th>min</th>\n",
       "      <td>1.000000e-10</td>\n",
       "    </tr>\n",
       "    <tr>\n",
       "      <th>25%</th>\n",
       "      <td>2.684855e-03</td>\n",
       "    </tr>\n",
       "    <tr>\n",
       "      <th>50%</th>\n",
       "      <td>5.753261e-03</td>\n",
       "    </tr>\n",
       "    <tr>\n",
       "      <th>75%</th>\n",
       "      <td>8.821667e-03</td>\n",
       "    </tr>\n",
       "    <tr>\n",
       "      <th>max</th>\n",
       "      <td>1.000000e+00</td>\n",
       "    </tr>\n",
       "  </tbody>\n",
       "</table>\n",
       "</div>"
      ],
      "text/plain": [
       "              focus\n",
       "count  3.284000e+03\n",
       "mean   9.383088e-03\n",
       "std    2.190929e-02\n",
       "min    1.000000e-10\n",
       "25%    2.684855e-03\n",
       "50%    5.753261e-03\n",
       "75%    8.821667e-03\n",
       "max    1.000000e+00"
      ]
     },
     "execution_count": 127,
     "metadata": {},
     "output_type": "execute_result"
    }
   ],
   "source": [
    "data['focus'].describe().to_frame()"
   ]
  },
  {
   "cell_type": "markdown",
   "id": "2a923183",
   "metadata": {},
   "source": [
    "### Regression "
   ]
  },
  {
   "cell_type": "code",
   "execution_count": 128,
   "id": "cb2b21be",
   "metadata": {},
   "outputs": [
    {
     "data": {
      "text/plain": [
       "<AxesSubplot: xlabel='focus', ylabel='Count'>"
      ]
     },
     "execution_count": 128,
     "metadata": {},
     "output_type": "execute_result"
    },
    {
     "data": {
      "image/png": "[encoded data removed]",
      "text/plain": [
       "<Figure size 640x480 with 1 Axes>"
      ]
     },
     "metadata": {},
     "output_type": "display_data"
    }
   ],
   "source": [
    "sns.histplot(data['focus'])"
   ]
  },
  {
   "cell_type": "code",
   "execution_count": 129,
   "id": "72b75297",
   "metadata": {},
   "outputs": [
    {
     "data": {
      "text/plain": [
       "<AxesSubplot: xlabel='degree', ylabel='Count'>"
      ]
     },
     "execution_count": 129,
     "metadata": {},
     "output_type": "execute_result"
    },
    {
     "data": {
      "image/png": "[encoded data removed]",
      "text/plain": [
       "<Figure size 640x480 with 1 Axes>"
      ]
     },
     "metadata": {},
     "output_type": "display_data"
    }
   ],
   "source": [
    "sns.histplot(data['degree'])"
   ]
  },
  {
   "cell_type": "code",
   "execution_count": 130,
   "id": "82e480fc",
   "metadata": {},
   "outputs": [],
   "source": [
    "import seaborn as sns\n",
    "import regression as reg\n",
    "\n",
    "from scipy import stats\n",
    "from matplotlib import pyplot as plt"
   ]
  },
  {
   "cell_type": "code",
   "execution_count": 131,
   "id": "f04c58a3",
   "metadata": {},
   "outputs": [
    {
     "data": {
      "image/png": "[encoded data removed]",
      "text/plain": [
       "<Figure size 640x480 with 1 Axes>"
      ]
     },
     "metadata": {},
     "output_type": "display_data"
    }
   ],
   "source": [
    "sns.scatterplot(x=data['clustering'], y=np.log(data['focus']));"
   ]
  },
  {
   "cell_type": "code",
   "execution_count": 132,
   "id": "812c9170",
   "metadata": {},
   "outputs": [
    {
     "data": {
      "text/html": [
       "<div>\n",
       "<style scoped>\n",
       "    .dataframe tbody tr th:only-of-type {\n",
       "        vertical-align: middle;\n",
       "    }\n",
       "\n",
       "    .dataframe tbody tr th {\n",
       "        vertical-align: top;\n",
       "    }\n",
       "\n",
       "    .dataframe thead th {\n",
       "        text-align: right;\n",
       "    }\n",
       "</style>\n",
       "<table border=\"1\" class=\"dataframe\">\n",
       "  <thead>\n",
       "    <tr style=\"text-align: right;\">\n",
       "      <th></th>\n",
       "      <th>focus</th>\n",
       "      <th>colabs</th>\n",
       "      <th>clustering</th>\n",
       "      <th>degree</th>\n",
       "      <th>degree_count</th>\n",
       "    </tr>\n",
       "    <tr>\n",
       "      <th>id</th>\n",
       "      <th></th>\n",
       "      <th></th>\n",
       "      <th></th>\n",
       "      <th></th>\n",
       "      <th></th>\n",
       "    </tr>\n",
       "  </thead>\n",
       "  <tbody>\n",
       "    <tr>\n",
       "      <th>linthubot</th>\n",
       "      <td>1.000000e+00</td>\n",
       "      <td>329</td>\n",
       "      <td>0.000000</td>\n",
       "      <td>0.000305</td>\n",
       "      <td>1</td>\n",
       "    </tr>\n",
       "    <tr>\n",
       "      <th>vladberteanu</th>\n",
       "      <td>1.837208e-01</td>\n",
       "      <td>60</td>\n",
       "      <td>0.000000</td>\n",
       "      <td>0.000305</td>\n",
       "      <td>1</td>\n",
       "    </tr>\n",
       "    <tr>\n",
       "      <th>sindresorhus</th>\n",
       "      <td>1.655220e-01</td>\n",
       "      <td>56</td>\n",
       "      <td>0.193362</td>\n",
       "      <td>0.030146</td>\n",
       "      <td>99</td>\n",
       "    </tr>\n",
       "    <tr>\n",
       "      <th>bajtos</th>\n",
       "      <td>1.655220e-01</td>\n",
       "      <td>56</td>\n",
       "      <td>0.707991</td>\n",
       "      <td>0.031669</td>\n",
       "      <td>104</td>\n",
       "    </tr>\n",
       "    <tr>\n",
       "      <th>zxqfox</th>\n",
       "      <td>1.382362e-01</td>\n",
       "      <td>48</td>\n",
       "      <td>0.500891</td>\n",
       "      <td>0.010353</td>\n",
       "      <td>34</td>\n",
       "    </tr>\n",
       "    <tr>\n",
       "      <th>...</th>\n",
       "      <td>...</td>\n",
       "      <td>...</td>\n",
       "      <td>...</td>\n",
       "      <td>...</td>\n",
       "      <td>...</td>\n",
       "    </tr>\n",
       "    <tr>\n",
       "      <th>kurko</th>\n",
       "      <td>3.835509e-04</td>\n",
       "      <td>1</td>\n",
       "      <td>1.000000</td>\n",
       "      <td>0.007917</td>\n",
       "      <td>26</td>\n",
       "    </tr>\n",
       "    <tr>\n",
       "      <th>martinklepsch</th>\n",
       "      <td>3.835509e-04</td>\n",
       "      <td>1</td>\n",
       "      <td>0.000000</td>\n",
       "      <td>0.000305</td>\n",
       "      <td>1</td>\n",
       "    </tr>\n",
       "    <tr>\n",
       "      <th>phated</th>\n",
       "      <td>2.301306e-04</td>\n",
       "      <td>1</td>\n",
       "      <td>1.000000</td>\n",
       "      <td>0.000914</td>\n",
       "      <td>3</td>\n",
       "    </tr>\n",
       "    <tr>\n",
       "      <th>splendido</th>\n",
       "      <td>2.301306e-04</td>\n",
       "      <td>1</td>\n",
       "      <td>1.000000</td>\n",
       "      <td>0.003045</td>\n",
       "      <td>10</td>\n",
       "    </tr>\n",
       "    <tr>\n",
       "      <th>shinnn</th>\n",
       "      <td>1.000000e-10</td>\n",
       "      <td>1</td>\n",
       "      <td>1.000000</td>\n",
       "      <td>0.000609</td>\n",
       "      <td>2</td>\n",
       "    </tr>\n",
       "  </tbody>\n",
       "</table>\n",
       "<p>3284 rows × 5 columns</p>\n",
       "</div>"
      ],
      "text/plain": [
       "                      focus  colabs  clustering    degree  degree_count\n",
       "id                                                                     \n",
       "linthubot      1.000000e+00     329    0.000000  0.000305             1\n",
       "vladberteanu   1.837208e-01      60    0.000000  0.000305             1\n",
       "sindresorhus   1.655220e-01      56    0.193362  0.030146            99\n",
       "bajtos         1.655220e-01      56    0.707991  0.031669           104\n",
       "zxqfox         1.382362e-01      48    0.500891  0.010353            34\n",
       "...                     ...     ...         ...       ...           ...\n",
       "kurko          3.835509e-04       1    1.000000  0.007917            26\n",
       "martinklepsch  3.835509e-04       1    0.000000  0.000305             1\n",
       "phated         2.301306e-04       1    1.000000  0.000914             3\n",
       "splendido      2.301306e-04       1    1.000000  0.003045            10\n",
       "shinnn         1.000000e-10       1    1.000000  0.000609             2\n",
       "\n",
       "[3284 rows x 5 columns]"
      ]
     },
     "execution_count": 132,
     "metadata": {},
     "output_type": "execute_result"
    }
   ],
   "source": [
    "data.sort_values(by=\"focus\",ascending=False)"
   ]
  },
  {
   "cell_type": "markdown",
   "id": "c79617dd",
   "metadata": {},
   "source": [
    "### Residuals"
   ]
  },
  {
   "cell_type": "code",
   "execution_count": 133,
   "id": "fb99bdd3",
   "metadata": {},
   "outputs": [],
   "source": [
    "result = reg.linear(data=data, formula='focus ~ clustering')"
   ]
  },
  {
   "cell_type": "code",
   "execution_count": 134,
   "id": "a0775e9d",
   "metadata": {},
   "outputs": [
    {
     "data": {
      "text/html": [
       "<table class=\"simpletable\">\n",
       "<caption>OLS Regression Results</caption>\n",
       "<tr>\n",
       "  <th>Dep. Variable:</th>          <td>focus</td>      <th>  R-squared:         </th>  <td>   0.011</td> \n",
       "</tr>\n",
       "<tr>\n",
       "  <th>Model:</th>                   <td>OLS</td>       <th>  Adj. R-squared:    </th>  <td>   0.011</td> \n",
       "</tr>\n",
       "<tr>\n",
       "  <th>Method:</th>             <td>Least Squares</td>  <th>  F-statistic:       </th>  <td>   36.76</td> \n",
       "</tr>\n",
       "<tr>\n",
       "  <th>Date:</th>             <td>Thu, 08 Jun 2023</td> <th>  Prob (F-statistic):</th>  <td>1.49e-09</td> \n",
       "</tr>\n",
       "<tr>\n",
       "  <th>Time:</th>                 <td>19:15:52</td>     <th>  Log-Likelihood:    </th>  <td>  7906.6</td> \n",
       "</tr>\n",
       "<tr>\n",
       "  <th>No. Observations:</th>      <td>  3284</td>      <th>  AIC:               </th> <td>-1.581e+04</td>\n",
       "</tr>\n",
       "<tr>\n",
       "  <th>Df Residuals:</th>          <td>  3282</td>      <th>  BIC:               </th> <td>-1.580e+04</td>\n",
       "</tr>\n",
       "<tr>\n",
       "  <th>Df Model:</th>              <td>     1</td>      <th>                     </th>      <td> </td>    \n",
       "</tr>\n",
       "<tr>\n",
       "  <th>Covariance Type:</th>      <td>nonrobust</td>    <th>                     </th>      <td> </td>    \n",
       "</tr>\n",
       "</table>\n",
       "<table class=\"simpletable\">\n",
       "<tr>\n",
       "       <td></td>         <th>coef</th>     <th>std err</th>      <th>t</th>      <th>P>|t|</th>  <th>[0.025</th>    <th>0.975]</th>  \n",
       "</tr>\n",
       "<tr>\n",
       "  <th>Intercept</th>  <td>    0.0148</td> <td>    0.001</td> <td>   15.259</td> <td> 0.000</td> <td>    0.013</td> <td>    0.017</td>\n",
       "</tr>\n",
       "<tr>\n",
       "  <th>clustering</th> <td>   -0.0065</td> <td>    0.001</td> <td>   -6.063</td> <td> 0.000</td> <td>   -0.009</td> <td>   -0.004</td>\n",
       "</tr>\n",
       "</table>\n",
       "<table class=\"simpletable\">\n",
       "<tr>\n",
       "  <th>Omnibus:</th>       <td>8545.446</td> <th>  Durbin-Watson:     </th>   <td>   1.941</td>   \n",
       "</tr>\n",
       "<tr>\n",
       "  <th>Prob(Omnibus):</th>  <td> 0.000</td>  <th>  Jarque-Bera (JB):  </th> <td>223580158.232</td>\n",
       "</tr>\n",
       "<tr>\n",
       "  <th>Skew:</th>           <td>29.348</td>  <th>  Prob(JB):          </th>   <td>    0.00</td>   \n",
       "</tr>\n",
       "<tr>\n",
       "  <th>Kurtosis:</th>      <td>1279.916</td> <th>  Cond. No.          </th>   <td>    4.92</td>   \n",
       "</tr>\n",
       "</table><br/><br/>Notes:<br/>[1] Standard Errors assume that the covariance matrix of the errors is correctly specified."
      ],
      "text/plain": [
       "<class 'statsmodels.iolib.summary.Summary'>\n",
       "\"\"\"\n",
       "                            OLS Regression Results                            \n",
       "==============================================================================\n",
       "Dep. Variable:                  focus   R-squared:                       0.011\n",
       "Model:                            OLS   Adj. R-squared:                  0.011\n",
       "Method:                 Least Squares   F-statistic:                     36.76\n",
       "Date:                Thu, 08 Jun 2023   Prob (F-statistic):           1.49e-09\n",
       "Time:                        19:15:52   Log-Likelihood:                 7906.6\n",
       "No. Observations:                3284   AIC:                        -1.581e+04\n",
       "Df Residuals:                    3282   BIC:                        -1.580e+04\n",
       "Df Model:                           1                                         \n",
       "Covariance Type:            nonrobust                                         \n",
       "==============================================================================\n",
       "                 coef    std err          t      P>|t|      [0.025      0.975]\n",
       "------------------------------------------------------------------------------\n",
       "Intercept      0.0148      0.001     15.259      0.000       0.013       0.017\n",
       "clustering    -0.0065      0.001     -6.063      0.000      -0.009      -0.004\n",
       "==============================================================================\n",
       "Omnibus:                     8545.446   Durbin-Watson:                   1.941\n",
       "Prob(Omnibus):                  0.000   Jarque-Bera (JB):        223580158.232\n",
       "Skew:                          29.348   Prob(JB):                         0.00\n",
       "Kurtosis:                    1279.916   Cond. No.                         4.92\n",
       "==============================================================================\n",
       "\n",
       "Notes:\n",
       "[1] Standard Errors assume that the covariance matrix of the errors is correctly specified.\n",
       "\"\"\""
      ]
     },
     "execution_count": 134,
     "metadata": {},
     "output_type": "execute_result"
    }
   ],
   "source": [
    "result.summary()"
   ]
  },
  {
   "cell_type": "code",
   "execution_count": 135,
   "id": "3e13992f",
   "metadata": {},
   "outputs": [
    {
     "data": {
      "text/html": [
       "<style type=\"text/css\">\n",
       "</style>\n",
       "<table id=\"T_28077\">\n",
       "  <thead>\n",
       "    <tr>\n",
       "      <th id=\"T_28077_level0_col0\" class=\"col_heading level0 col0\" >variable</th>\n",
       "      <th id=\"T_28077_level0_col1\" class=\"col_heading level0 col1\" >coefficient</th>\n",
       "      <th id=\"T_28077_level0_col2\" class=\"col_heading level0 col2\" >std error</th>\n",
       "      <th id=\"T_28077_level0_col3\" class=\"col_heading level0 col3\" >p-value</th>\n",
       "    </tr>\n",
       "  </thead>\n",
       "  <tbody>\n",
       "    <tr>\n",
       "      <td id=\"T_28077_row0_col0\" class=\"data row0 col0\" >clustering</td>\n",
       "      <td id=\"T_28077_row0_col1\" class=\"data row0 col1\" >-0.006491</td>\n",
       "      <td id=\"T_28077_row0_col2\" class=\"data row0 col2\" >0.001071</td>\n",
       "      <td id=\"T_28077_row0_col3\" class=\"data row0 col3\" >0.000000</td>\n",
       "    </tr>\n",
       "  </tbody>\n",
       "</table>\n"
      ],
      "text/plain": [
       "<pandas.io.formats.style.Styler at 0x7f0411370490>"
      ]
     },
     "execution_count": 135,
     "metadata": {},
     "output_type": "execute_result"
    }
   ],
   "source": [
    "result.micro_summary()"
   ]
  },
  {
   "cell_type": "code",
   "execution_count": 136,
   "id": "6f99a5f1",
   "metadata": {},
   "outputs": [
    {
     "data": {
      "image/png": "[encoded data removed]",
      "text/plain": [
       "<Figure size 1280x480 with 2 Axes>"
      ]
     },
     "metadata": {},
     "output_type": "display_data"
    }
   ],
   "source": [
    "result.plot_residuals()"
   ]
  },
  {
   "cell_type": "markdown",
   "id": "e8c5cea9",
   "metadata": {},
   "source": [
    "#### \"Massaging\" the data\n",
    "\n",
    "As we can see, the distribution of residuals is not good as we want, because the residuals has not a randomic and normal distribution to give the give the necessary confidence to the model. \n",
    "\n",
    "Because of this, we can apply a logaritmic scale to the focus to get a better shape and use the degree as control variable (which means the quantity of neighbors of the vertex)."
   ]
  },
  {
   "cell_type": "code",
   "execution_count": 137,
   "id": "2ba3840b",
   "metadata": {},
   "outputs": [],
   "source": [
    "result = reg.linear(data=data, formula='np.log(focus) ~ clustering + degree')"
   ]
  },
  {
   "cell_type": "code",
   "execution_count": 138,
   "id": "bb9e641e",
   "metadata": {},
   "outputs": [
    {
     "data": {
      "text/html": [
       "<table class=\"simpletable\">\n",
       "<caption>OLS Regression Results</caption>\n",
       "<tr>\n",
       "  <th>Dep. Variable:</th>      <td>np.log(focus)</td>  <th>  R-squared:         </th> <td>   0.064</td>\n",
       "</tr>\n",
       "<tr>\n",
       "  <th>Model:</th>                   <td>OLS</td>       <th>  Adj. R-squared:    </th> <td>   0.063</td>\n",
       "</tr>\n",
       "<tr>\n",
       "  <th>Method:</th>             <td>Least Squares</td>  <th>  F-statistic:       </th> <td>   111.7</td>\n",
       "</tr>\n",
       "<tr>\n",
       "  <th>Date:</th>             <td>Thu, 08 Jun 2023</td> <th>  Prob (F-statistic):</th> <td>1.12e-47</td>\n",
       "</tr>\n",
       "<tr>\n",
       "  <th>Time:</th>                 <td>19:15:54</td>     <th>  Log-Likelihood:    </th> <td> -4445.3</td>\n",
       "</tr>\n",
       "<tr>\n",
       "  <th>No. Observations:</th>      <td>  3284</td>      <th>  AIC:               </th> <td>   8897.</td>\n",
       "</tr>\n",
       "<tr>\n",
       "  <th>Df Residuals:</th>          <td>  3281</td>      <th>  BIC:               </th> <td>   8915.</td>\n",
       "</tr>\n",
       "<tr>\n",
       "  <th>Df Model:</th>              <td>     2</td>      <th>                     </th>     <td> </td>   \n",
       "</tr>\n",
       "<tr>\n",
       "  <th>Covariance Type:</th>      <td>nonrobust</td>    <th>                     </th>     <td> </td>   \n",
       "</tr>\n",
       "</table>\n",
       "<table class=\"simpletable\">\n",
       "<tr>\n",
       "       <td></td>         <th>coef</th>     <th>std err</th>      <th>t</th>      <th>P>|t|</th>  <th>[0.025</th>    <th>0.975]</th>  \n",
       "</tr>\n",
       "<tr>\n",
       "  <th>Intercept</th>  <td>   -4.8168</td> <td>    0.042</td> <td> -115.333</td> <td> 0.000</td> <td>   -4.899</td> <td>   -4.735</td>\n",
       "</tr>\n",
       "<tr>\n",
       "  <th>clustering</th> <td>   -0.5987</td> <td>    0.047</td> <td>  -12.727</td> <td> 0.000</td> <td>   -0.691</td> <td>   -0.506</td>\n",
       "</tr>\n",
       "<tr>\n",
       "  <th>degree</th>     <td>   24.8460</td> <td>    2.416</td> <td>   10.283</td> <td> 0.000</td> <td>   20.108</td> <td>   29.584</td>\n",
       "</tr>\n",
       "</table>\n",
       "<table class=\"simpletable\">\n",
       "<tr>\n",
       "  <th>Omnibus:</th>       <td>1708.990</td> <th>  Durbin-Watson:     </th>  <td>   1.834</td> \n",
       "</tr>\n",
       "<tr>\n",
       "  <th>Prob(Omnibus):</th>  <td> 0.000</td>  <th>  Jarque-Bera (JB):  </th> <td>199406.220</td>\n",
       "</tr>\n",
       "<tr>\n",
       "  <th>Skew:</th>           <td>-1.493</td>  <th>  Prob(JB):          </th>  <td>    0.00</td> \n",
       "</tr>\n",
       "<tr>\n",
       "  <th>Kurtosis:</th>       <td>41.058</td>  <th>  Cond. No.          </th>  <td>    195.</td> \n",
       "</tr>\n",
       "</table><br/><br/>Notes:<br/>[1] Standard Errors assume that the covariance matrix of the errors is correctly specified."
      ],
      "text/plain": [
       "<class 'statsmodels.iolib.summary.Summary'>\n",
       "\"\"\"\n",
       "                            OLS Regression Results                            \n",
       "==============================================================================\n",
       "Dep. Variable:          np.log(focus)   R-squared:                       0.064\n",
       "Model:                            OLS   Adj. R-squared:                  0.063\n",
       "Method:                 Least Squares   F-statistic:                     111.7\n",
       "Date:                Thu, 08 Jun 2023   Prob (F-statistic):           1.12e-47\n",
       "Time:                        19:15:54   Log-Likelihood:                -4445.3\n",
       "No. Observations:                3284   AIC:                             8897.\n",
       "Df Residuals:                    3281   BIC:                             8915.\n",
       "Df Model:                           2                                         \n",
       "Covariance Type:            nonrobust                                         \n",
       "==============================================================================\n",
       "                 coef    std err          t      P>|t|      [0.025      0.975]\n",
       "------------------------------------------------------------------------------\n",
       "Intercept     -4.8168      0.042   -115.333      0.000      -4.899      -4.735\n",
       "clustering    -0.5987      0.047    -12.727      0.000      -0.691      -0.506\n",
       "degree        24.8460      2.416     10.283      0.000      20.108      29.584\n",
       "==============================================================================\n",
       "Omnibus:                     1708.990   Durbin-Watson:                   1.834\n",
       "Prob(Omnibus):                  0.000   Jarque-Bera (JB):           199406.220\n",
       "Skew:                          -1.493   Prob(JB):                         0.00\n",
       "Kurtosis:                      41.058   Cond. No.                         195.\n",
       "==============================================================================\n",
       "\n",
       "Notes:\n",
       "[1] Standard Errors assume that the covariance matrix of the errors is correctly specified.\n",
       "\"\"\""
      ]
     },
     "execution_count": 138,
     "metadata": {},
     "output_type": "execute_result"
    }
   ],
   "source": [
    "result.summary()"
   ]
  },
  {
   "cell_type": "code",
   "execution_count": 139,
   "id": "0289d85e",
   "metadata": {},
   "outputs": [
    {
     "data": {
      "text/html": [
       "<style type=\"text/css\">\n",
       "</style>\n",
       "<table id=\"T_b37af\">\n",
       "  <thead>\n",
       "    <tr>\n",
       "      <th id=\"T_b37af_level0_col0\" class=\"col_heading level0 col0\" >variable</th>\n",
       "      <th id=\"T_b37af_level0_col1\" class=\"col_heading level0 col1\" >coefficient</th>\n",
       "      <th id=\"T_b37af_level0_col2\" class=\"col_heading level0 col2\" >std error</th>\n",
       "      <th id=\"T_b37af_level0_col3\" class=\"col_heading level0 col3\" >p-value</th>\n",
       "    </tr>\n",
       "  </thead>\n",
       "  <tbody>\n",
       "    <tr>\n",
       "      <td id=\"T_b37af_row0_col0\" class=\"data row0 col0\" >clustering</td>\n",
       "      <td id=\"T_b37af_row0_col1\" class=\"data row0 col1\" >-0.598737</td>\n",
       "      <td id=\"T_b37af_row0_col2\" class=\"data row0 col2\" >0.047045</td>\n",
       "      <td id=\"T_b37af_row0_col3\" class=\"data row0 col3\" >0.000000</td>\n",
       "    </tr>\n",
       "    <tr>\n",
       "      <td id=\"T_b37af_row1_col0\" class=\"data row1 col0\" >degree</td>\n",
       "      <td id=\"T_b37af_row1_col1\" class=\"data row1 col1\" >24.845985</td>\n",
       "      <td id=\"T_b37af_row1_col2\" class=\"data row1 col2\" >2.416268</td>\n",
       "      <td id=\"T_b37af_row1_col3\" class=\"data row1 col3\" >0.000000</td>\n",
       "    </tr>\n",
       "  </tbody>\n",
       "</table>\n"
      ],
      "text/plain": [
       "<pandas.io.formats.style.Styler at 0x7f04261a47f0>"
      ]
     },
     "execution_count": 139,
     "metadata": {},
     "output_type": "execute_result"
    }
   ],
   "source": [
    "result.micro_summary()"
   ]
  },
  {
   "cell_type": "code",
   "execution_count": 140,
   "id": "8f5f4bbd",
   "metadata": {},
   "outputs": [
    {
     "data": {
      "image/png": "[encoded data removed]",
      "text/plain": [
       "<Figure size 1280x480 with 2 Axes>"
      ]
     },
     "metadata": {},
     "output_type": "display_data"
    }
   ],
   "source": [
    "result.plot_residuals()"
   ]
  },
  {
   "cell_type": "markdown",
   "id": "15462d91",
   "metadata": {},
   "source": [
    "## Saving the graph"
   ]
  },
  {
   "cell_type": "code",
   "execution_count": 141,
   "id": "2c0b7e8b",
   "metadata": {},
   "outputs": [],
   "source": [
    "import netpixi"
   ]
  },
  {
   "cell_type": "code",
   "execution_count": 142,
   "id": "d382824e",
   "metadata": {},
   "outputs": [],
   "source": [
    "gt_save(g, '../networks/colabs_except_python_only_js.net.gz')"
   ]
  }
 ],
 "metadata": {
  "kernelspec": {
   "display_name": "Python 3 (ipykernel)",
   "language": "python",
   "name": "python3"
  },
  "language_info": {
   "codemirror_mode": {
    "name": "ipython",
    "version": 3
   },
   "file_extension": ".py",
   "mimetype": "text/x-python",
   "name": "python",
   "nbconvert_exporter": "python",
   "pygments_lexer": "ipython3",
   "version": "3.10.10"
  }
 },
 "nbformat": 4,
 "nbformat_minor": 5
}
