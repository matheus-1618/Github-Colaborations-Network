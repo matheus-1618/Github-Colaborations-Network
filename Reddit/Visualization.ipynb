{
 "cells": [
  {
   "cell_type": "markdown",
   "id": "7223d9ad",
   "metadata": {},
   "source": [
    "## Viewing the network\n",
    "\n",
    "After understading the network metrics, we can see it graphically."
   ]
  },
  {
   "cell_type": "code",
   "execution_count": 2,
   "id": "f2876b73",
   "metadata": {},
   "outputs": [],
   "source": [
    "import netpixi\n",
    "from netpixi.integration.gt import *\n",
    "from regression.integration.gt import *"
   ]
  },
  {
   "cell_type": "markdown",
   "id": "cf010547",
   "metadata": {},
   "source": [
    "## All graph"
   ]
  },
  {
   "cell_type": "code",
   "execution_count": 3,
   "id": "21dc178f",
   "metadata": {},
   "outputs": [],
   "source": [
    "g = gt_load('colabs_reddit.net.gz')"
   ]
  },
  {
   "cell_type": "code",
   "execution_count": 4,
   "id": "cb64e41b",
   "metadata": {},
   "outputs": [
    {
     "data": {
      "text/html": [
       "\n",
       "        <div id=\"mjjYMHowkuUGRThoCfSgq9\"></div>\n",
       "        <script>netpixi.render('mjjYMHowkuUGRThoCfSgq9', 'colabs_sfdp.net.gz', 1.7777777777777777, true, true, false);</script>\n",
       "    "
      ],
      "text/plain": [
       "<IPython.core.display.HTML object>"
      ]
     },
     "metadata": {},
     "output_type": "display_data"
    }
   ],
   "source": [
    "g = gt_clean(g)\n",
    "m = gt_draw.sfdp_layout(g)\n",
    "gt_move(g, m)\n",
    "gt_save(g, 'colabs_sfdp.net.gz')\n",
    "network = netpixi.render('colabs_sfdp.net.gz',infinite=True);"
   ]
  },
  {
   "cell_type": "code",
   "execution_count": 5,
   "id": "9df75bc5",
   "metadata": {},
   "outputs": [
    {
     "data": {
      "text/html": [
       "\n",
       "        <div id=\"bgVw3e9KSNtTeKCYc4aF5D\"></div>\n",
       "        <script>netpixi.call('bgVw3e9KSNtTeKCYc4aF5D', 'mjjYMHowkuUGRThoCfSgq9', 'normalizeGraph', 'eyJ0eXBlIjogInZlcnRleCIsICJwcm9wcyI6IHsic3JjIjogImZvY3VzIiwgIm1pbiI6IDUsICJtYXgiOiAxMH19Cg==');</script>\n",
       "    "
      ],
      "text/plain": [
       "<IPython.core.display.HTML object>"
      ]
     },
     "metadata": {},
     "output_type": "display_data"
    },
    {
     "data": {
      "text/html": [
       "\n",
       "        <div id=\"kSkFkQPzLwq6uYRXg48Y5e\"></div>\n",
       "        <script>netpixi.call('kSkFkQPzLwq6uYRXg48Y5e', 'mjjYMHowkuUGRThoCfSgq9', 'changeGraph', 'eyJ0eXBlIjogInNldHRpbmdzIiwgInByb3BzIjogeyJlZGdlIjogeyJ3aWR0aCI6IDF9fX0K');</script>\n",
       "    "
      ],
      "text/plain": [
       "<IPython.core.display.HTML object>"
      ]
     },
     "metadata": {},
     "output_type": "display_data"
    }
   ],
   "source": [
    "#Ajustando propriedades\n",
    "network.vertex_scale('focus', 5, 10)\n",
    "network.edge_default( width=1)"
   ]
  },
  {
   "cell_type": "markdown",
   "id": "418ae61a",
   "metadata": {},
   "source": [
    "<img src=\"colabs_sfdp.net.gz (2).png\"/>\n",
    "<img src=\"colabs_sfdp.net.gz (3).png\"/>"
   ]
  }
 ],
 "metadata": {
  "kernelspec": {
   "display_name": "Python 3 (ipykernel)",
   "language": "python",
   "name": "python3"
  },
  "language_info": {
   "codemirror_mode": {
    "name": "ipython",
    "version": 3
   },
   "file_extension": ".py",
   "mimetype": "text/x-python",
   "name": "python",
   "nbconvert_exporter": "python",
   "pygments_lexer": "ipython3",
   "version": "3.10.10"
  }
 },
 "nbformat": 4,
 "nbformat_minor": 5
}
