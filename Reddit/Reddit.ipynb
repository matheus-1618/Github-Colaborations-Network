{
 "cells": [
  {
   "cell_type": "markdown",
   "id": "bb488d6b",
   "metadata": {},
   "source": [
    "## Building the graph\n",
    "\n",
    "### Antoher context: Our hypothesis corroborates in a Reddit comments scope?\n",
    "\n",
    "After getting and parsing the data, we need to understand and create metrics that could lead us to our hypothesis and it's impacts."
   ]
  },
  {
   "cell_type": "markdown",
   "id": "5f189173",
   "metadata": {},
   "source": [
    "The data for this analysis can be obtained [here](https://www.kaggle.com/datasets/ehallmar/reddit-comment-score-prediction?select=comments_negative.csv)."
   ]
  },
  {
   "cell_type": "code",
   "execution_count": 2,
   "id": "12ebbc4f",
   "metadata": {},
   "outputs": [
    {
     "data": {
      "text/html": [
       "\n",
       "    <script src=\"/files/netpixi.min.js\"></script>\n"
      ],
      "text/plain": [
       "<IPython.core.display.HTML object>"
      ]
     },
     "metadata": {},
     "output_type": "display_data"
    },
    {
     "name": "stderr",
     "output_type": "stream",
     "text": [
      "<frozen importlib._bootstrap>:914: ImportWarning: VendorImporter.find_spec() not found; falling back to find_module()\n"
     ]
    }
   ],
   "source": [
    "from netpixi.integration.gt import Graph\n",
    "import pandas as pd\n",
    "import numpy as np\n",
    "\n",
    "g = Graph(directed=False)"
   ]
  },
  {
   "cell_type": "markdown",
   "id": "1cb1f077",
   "metadata": {},
   "source": [
    "For this analysis we don't care if the comment is considered positive or negative, we'll drop the data relationed to it, and get only the author and subreddit_id columns."
   ]
  },
  {
   "cell_type": "code",
   "execution_count": 3,
   "id": "0f08a11c",
   "metadata": {},
   "outputs": [],
   "source": [
    "data1 = pd.read_csv(\"archive/comments_negative.csv\")\n",
    "data2 = pd.read_csv(\"archive/comments_positive.csv\")"
   ]
  },
  {
   "cell_type": "code",
   "execution_count": 4,
   "id": "24f7f2c2",
   "metadata": {},
   "outputs": [
    {
     "name": "stdout",
     "output_type": "stream",
     "text": [
      "lines: 4000000\n"
     ]
    }
   ],
   "source": [
    "data = pd.concat([data1, data2])\n",
    "print(f\"lines: {data.shape[0]}\")"
   ]
  },
  {
   "cell_type": "code",
   "execution_count": 5,
   "id": "b6e4c3e0",
   "metadata": {},
   "outputs": [
    {
     "name": "stdout",
     "output_type": "stream",
     "text": [
      "lines: 20000\n"
     ]
    }
   ],
   "source": [
    "data = data.drop([\"parent_id\",\"score\",\"controversiality\",\"parent_link_id\",\"parent_text\",\n",
    "                  \"parent_score\",\"parent_ups\",\"parent_author\",\"parent_controversiality\"],axis=1)\n",
    "data = data.sample(frac=0.005, random_state=42) #only 0.5% of the data(much data available)\n",
    "print(f\"lines: {data.shape[0]}\")"
   ]
  },
  {
   "cell_type": "code",
   "execution_count": 6,
   "id": "a7b5a153",
   "metadata": {},
   "outputs": [
    {
     "data": {
      "text/plain": [
       "author\n",
       "[deleted]              2311\n",
       "andrewsmith1986          16\n",
       "Apostolate               14\n",
       "WarPhalange              12\n",
       "hitlersshit              10\n",
       "                       ... \n",
       "Repeats_You               1\n",
       "Repentia                  1\n",
       "Reptilian_Overlords       1\n",
       "Repyro                    1\n",
       "zzzzcharliezzzz           1\n",
       "Name: subreddit_id, Length: 16213, dtype: int64"
      ]
     },
     "execution_count": 6,
     "metadata": {},
     "output_type": "execute_result"
    }
   ],
   "source": [
    "#Looking to the total contribuitions for the users in the source repositories\n",
    "total_contributions = data.groupby(['author']).count()['subreddit_id'].sort_values(ascending=False)\n",
    "total_contributions"
   ]
  },
  {
   "cell_type": "markdown",
   "id": "96a48cce",
   "metadata": {},
   "source": [
    "There are so many \"authors\" who deleted it's comments, we're going to remove this references."
   ]
  },
  {
   "cell_type": "code",
   "execution_count": 7,
   "id": "5a497fc9",
   "metadata": {},
   "outputs": [],
   "source": [
    "data = data[data['author'] != '[deleted]']"
   ]
  },
  {
   "cell_type": "code",
   "execution_count": 8,
   "id": "e4025082",
   "metadata": {},
   "outputs": [
    {
     "data": {
      "text/plain": [
       "author\n",
       "andrewsmith1986        16\n",
       "Apostolate             14\n",
       "WarPhalange            12\n",
       "hitlersshit            10\n",
       "NoMoreNicksLeft         9\n",
       "                       ..\n",
       "Repeats_You             1\n",
       "Repentia                1\n",
       "Reptilian_Overlords     1\n",
       "Repyro                  1\n",
       "zzzzcharliezzzz         1\n",
       "Name: subreddit_id, Length: 16212, dtype: int64"
      ]
     },
     "execution_count": 8,
     "metadata": {},
     "output_type": "execute_result"
    }
   ],
   "source": [
    "#Looking to the total contribuitions for the users in the source repositories\n",
    "total_contributions = data.groupby(['author']).count()['subreddit_id'].sort_values(ascending=False)\n",
    "total_contributions"
   ]
  },
  {
   "cell_type": "code",
   "execution_count": 9,
   "id": "44a6f378",
   "metadata": {},
   "outputs": [
    {
     "data": {
      "text/plain": [
       "count    16212.000000\n",
       "mean         1.091105\n",
       "std          0.441818\n",
       "min          1.000000\n",
       "25%          1.000000\n",
       "50%          1.000000\n",
       "75%          1.000000\n",
       "max         16.000000\n",
       "Name: subreddit_id, dtype: float64"
      ]
     },
     "execution_count": 9,
     "metadata": {},
     "output_type": "execute_result"
    }
   ],
   "source": [
    "# As we can see there are many contribuitors who participated much less than the average, we're going to use this to filter \n",
    "# the data: contribuitors who has less contributions than the average will not be considered for the network\n",
    "total_contributions.describe()"
   ]
  },
  {
   "cell_type": "code",
   "execution_count": 10,
   "id": "90f32c0e",
   "metadata": {},
   "outputs": [
    {
     "data": {
      "text/plain": [
       "Index(['t5_2qh1i', 't5_2qh33', 't5_2qh0u', 't5_2qh61', 't5_2qh03', 't5_2qzb6',\n",
       "       't5_2cneq', 't5_2qh1e', 't5_2qh13', 't5_6', 't5_2rfxx', 't5_2qqjc',\n",
       "       't5_2s7tt', 't5_2qh2p', 't5_2qmg3', 't5_2qqlo', 't5_2qi58', 't5_2qh16',\n",
       "       't5_2qpp6', 't5_2qh3s', 't5_2qo4s', 't5_mouw', 't5_2qh3l', 't5_2ss5b',\n",
       "       't5_2fwo', 't5_2s580', 't5_2qh1o', 't5_2r9vp', 't5_2r05i', 't5_2qhwp',\n",
       "       't5_2qt55', 't5_2qh3p', 't5_2qjvn', 't5_2r2jt', 't5_2qh1u', 't5_2qiel',\n",
       "       't5_2qhx4', 't5_2sljg', 't5_2qh4w', 't5_2sokh', 't5_2sokd', 't5_2rh4c',\n",
       "       't5_2qlqh', 't5_2sgp1', 't5_2qmeb', 't5_2qhj4', 't5_2qh3v', 't5_2qka0',\n",
       "       't5_2qm9d', 't5_2qh68', 't5_33x33', 't5_2qhk3', 't5_2qm4e', 't5_2qhc8',\n",
       "       't5_2qore', 't5_2s837', 't5_2sqho', 't5_2r9po', 't5_2qn5f', 't5_2to41',\n",
       "       't5_2qh0s', 't5_2qh11', 't5_2ti4h', 't5_2qnts', 't5_2w31t', 't5_2qh4r',\n",
       "       't5_2qio8', 't5_2vizz', 't5_2qiep', 't5_2qhqb', 't5_2qyt6', 't5_2sekm',\n",
       "       't5_2qpol', 't5_2qh72', 't5_2qgzy', 't5_2s30g', 't5_2rjz2', 't5_2qh1f',\n",
       "       't5_2qh63', 't5_2szyo', 't5_2r65t', 't5_2r2o9', 't5_2s5oq', 't5_2qh22',\n",
       "       't5_2vq0w', 't5_2x9xz', 't5_2qh96', 't5_2qh8e', 't5_2r0cn', 't5_2qm7u',\n",
       "       't5_2qh4j', 't5_2rlua', 't5_2rybx', 't5_33726', 't5_2qq5c'],\n",
       "      dtype='object', name='subreddit_id')"
      ]
     },
     "execution_count": 10,
     "metadata": {},
     "output_type": "execute_result"
    }
   ],
   "source": [
    "#Cleaning the data as explaneid above\n",
    "users = data.groupby(['subreddit_id']).count()['author'].sort_values(ascending=False)\n",
    "users_mean = users.mean()\n",
    "subrredit_edge = users[users>users_mean]\n",
    "subrredit_edge.index"
   ]
  },
  {
   "cell_type": "code",
   "execution_count": 11,
   "id": "88f445b5",
   "metadata": {},
   "outputs": [],
   "source": [
    "#filtering\n",
    "data_clean = data[data['subreddit_id'].isin(subrredit_edge.index)]"
   ]
  },
  {
   "cell_type": "code",
   "execution_count": 12,
   "id": "7f4fe276",
   "metadata": {},
   "outputs": [
    {
     "data": {
      "text/html": [
       "<div>\n",
       "<style scoped>\n",
       "    .dataframe tbody tr th:only-of-type {\n",
       "        vertical-align: middle;\n",
       "    }\n",
       "\n",
       "    .dataframe tbody tr th {\n",
       "        vertical-align: top;\n",
       "    }\n",
       "\n",
       "    .dataframe thead th {\n",
       "        text-align: right;\n",
       "    }\n",
       "</style>\n",
       "<table border=\"1\" class=\"dataframe\">\n",
       "  <thead>\n",
       "    <tr style=\"text-align: right;\">\n",
       "      <th></th>\n",
       "      <th>id</th>\n",
       "      <th>subreddit_id</th>\n",
       "      <th>link_id</th>\n",
       "      <th>text</th>\n",
       "      <th>ups</th>\n",
       "      <th>author</th>\n",
       "    </tr>\n",
       "  </thead>\n",
       "  <tbody>\n",
       "    <tr>\n",
       "      <th>1049554</th>\n",
       "      <td>c6336h1</td>\n",
       "      <td>t5_2qh0u</td>\n",
       "      <td>t3_zb1t0</td>\n",
       "      <td>I was giving him advice and he just kind of sa...</td>\n",
       "      <td>-10</td>\n",
       "      <td>WarPhalange</td>\n",
       "    </tr>\n",
       "    <tr>\n",
       "      <th>214510</th>\n",
       "      <td>c5qauwy</td>\n",
       "      <td>t5_2qhwp</td>\n",
       "      <td>t3_xvrfy</td>\n",
       "      <td>It's not really counter-strike, though.\\n\\nedi...</td>\n",
       "      <td>-24</td>\n",
       "      <td>sncho</td>\n",
       "    </tr>\n",
       "    <tr>\n",
       "      <th>145764</th>\n",
       "      <td>coeek0n</td>\n",
       "      <td>t5_2qzb6</td>\n",
       "      <td>t3_2v48qp</td>\n",
       "      <td>I was in 7th grade on 9/11 and had 1 teacher w...</td>\n",
       "      <td>474</td>\n",
       "      <td>OrgasmickJagger</td>\n",
       "    </tr>\n",
       "    <tr>\n",
       "      <th>198867</th>\n",
       "      <td>c3xbp2o</td>\n",
       "      <td>t5_2qh3s</td>\n",
       "      <td>t3_qfwmk</td>\n",
       "      <td>And said, \"you're going with the jedi up to wh...</td>\n",
       "      <td>386</td>\n",
       "      <td>agoyalwm</td>\n",
       "    </tr>\n",
       "    <tr>\n",
       "      <th>1184366</th>\n",
       "      <td>cnelpma</td>\n",
       "      <td>t5_2qh33</td>\n",
       "      <td>t3_2rbu7f</td>\n",
       "      <td>i lelz</td>\n",
       "      <td>-9</td>\n",
       "      <td>mudcove</td>\n",
       "    </tr>\n",
       "    <tr>\n",
       "      <th>...</th>\n",
       "      <td>...</td>\n",
       "      <td>...</td>\n",
       "      <td>...</td>\n",
       "      <td>...</td>\n",
       "      <td>...</td>\n",
       "      <td>...</td>\n",
       "    </tr>\n",
       "    <tr>\n",
       "      <th>826638</th>\n",
       "      <td>c3ur6lf</td>\n",
       "      <td>t5_2qh1i</td>\n",
       "      <td>t3_q4ebb</td>\n",
       "      <td>I think you forgot a word.  Why does everyone ...</td>\n",
       "      <td>-12</td>\n",
       "      <td>closetoctopussshaver</td>\n",
       "    </tr>\n",
       "    <tr>\n",
       "      <th>1104333</th>\n",
       "      <td>c57qjxz</td>\n",
       "      <td>t5_2qh33</td>\n",
       "      <td>t3_vudi0</td>\n",
       "      <td>Also, you can have long hair and not be gay. B...</td>\n",
       "      <td>107</td>\n",
       "      <td>beccaonice</td>\n",
       "    </tr>\n",
       "    <tr>\n",
       "      <th>301442</th>\n",
       "      <td>c5yt17a</td>\n",
       "      <td>t5_2qh61</td>\n",
       "      <td>t3_ytzqf</td>\n",
       "      <td>Any more of these puns and they'll have to cha...</td>\n",
       "      <td>-20</td>\n",
       "      <td>awkward_person_here</td>\n",
       "    </tr>\n",
       "    <tr>\n",
       "      <th>168763</th>\n",
       "      <td>c4oazab</td>\n",
       "      <td>t5_2qh1i</td>\n",
       "      <td>t3_to521</td>\n",
       "      <td>Rather than about the effort, it's about the a...</td>\n",
       "      <td>431</td>\n",
       "      <td>bluepepper</td>\n",
       "    </tr>\n",
       "    <tr>\n",
       "      <th>1120510</th>\n",
       "      <td>c0xm1jr</td>\n",
       "      <td>t5_2r2jt</td>\n",
       "      <td>t3_d4wq0</td>\n",
       "      <td>Doesn't seem like you have a graduate degree i...</td>\n",
       "      <td>-10</td>\n",
       "      <td>kbilly</td>\n",
       "    </tr>\n",
       "  </tbody>\n",
       "</table>\n",
       "<p>15244 rows × 6 columns</p>\n",
       "</div>"
      ],
      "text/plain": [
       "              id subreddit_id    link_id  \\\n",
       "1049554  c6336h1     t5_2qh0u   t3_zb1t0   \n",
       "214510   c5qauwy     t5_2qhwp   t3_xvrfy   \n",
       "145764   coeek0n     t5_2qzb6  t3_2v48qp   \n",
       "198867   c3xbp2o     t5_2qh3s   t3_qfwmk   \n",
       "1184366  cnelpma     t5_2qh33  t3_2rbu7f   \n",
       "...          ...          ...        ...   \n",
       "826638   c3ur6lf     t5_2qh1i   t3_q4ebb   \n",
       "1104333  c57qjxz     t5_2qh33   t3_vudi0   \n",
       "301442   c5yt17a     t5_2qh61   t3_ytzqf   \n",
       "168763   c4oazab     t5_2qh1i   t3_to521   \n",
       "1120510  c0xm1jr     t5_2r2jt   t3_d4wq0   \n",
       "\n",
       "                                                      text  ups  \\\n",
       "1049554  I was giving him advice and he just kind of sa...  -10   \n",
       "214510   It's not really counter-strike, though.\\n\\nedi...  -24   \n",
       "145764   I was in 7th grade on 9/11 and had 1 teacher w...  474   \n",
       "198867   And said, \"you're going with the jedi up to wh...  386   \n",
       "1184366                                             i lelz   -9   \n",
       "...                                                    ...  ...   \n",
       "826638   I think you forgot a word.  Why does everyone ...  -12   \n",
       "1104333  Also, you can have long hair and not be gay. B...  107   \n",
       "301442   Any more of these puns and they'll have to cha...  -20   \n",
       "168763   Rather than about the effort, it's about the a...  431   \n",
       "1120510  Doesn't seem like you have a graduate degree i...  -10   \n",
       "\n",
       "                       author  \n",
       "1049554           WarPhalange  \n",
       "214510                  sncho  \n",
       "145764        OrgasmickJagger  \n",
       "198867               agoyalwm  \n",
       "1184366               mudcove  \n",
       "...                       ...  \n",
       "826638   closetoctopussshaver  \n",
       "1104333            beccaonice  \n",
       "301442    awkward_person_here  \n",
       "168763             bluepepper  \n",
       "1120510                kbilly  \n",
       "\n",
       "[15244 rows x 6 columns]"
      ]
     },
     "execution_count": 12,
     "metadata": {},
     "output_type": "execute_result"
    }
   ],
   "source": [
    "data_clean"
   ]
  },
  {
   "cell_type": "markdown",
   "id": "ac21274d",
   "metadata": {},
   "source": [
    "We already have the filter to build the network with a good context to define an edge between two users: \n",
    "\n",
    "**There are an edge between them if they have at least one comment in a relevant Subreddit in common**\n",
    "\n",
    "Even so, there many users who comment very little, and we need to adjust our data to maintain only users with a appropriate average frequency in mass of data to avoid any bias due users with less interactions than the average of comments."
   ]
  },
  {
   "cell_type": "code",
   "execution_count": 13,
   "id": "aeb4b680",
   "metadata": {},
   "outputs": [
    {
     "data": {
      "text/html": [
       "<div>\n",
       "<style scoped>\n",
       "    .dataframe tbody tr th:only-of-type {\n",
       "        vertical-align: middle;\n",
       "    }\n",
       "\n",
       "    .dataframe tbody tr th {\n",
       "        vertical-align: top;\n",
       "    }\n",
       "\n",
       "    .dataframe thead th {\n",
       "        text-align: right;\n",
       "    }\n",
       "</style>\n",
       "<table border=\"1\" class=\"dataframe\">\n",
       "  <thead>\n",
       "    <tr style=\"text-align: right;\">\n",
       "      <th></th>\n",
       "      <th>id</th>\n",
       "      <th>subreddit_id</th>\n",
       "      <th>link_id</th>\n",
       "      <th>text</th>\n",
       "      <th>ups</th>\n",
       "      <th>author</th>\n",
       "    </tr>\n",
       "  </thead>\n",
       "  <tbody>\n",
       "    <tr>\n",
       "      <th>1049554</th>\n",
       "      <td>c6336h1</td>\n",
       "      <td>t5_2qh0u</td>\n",
       "      <td>t3_zb1t0</td>\n",
       "      <td>I was giving him advice and he just kind of sa...</td>\n",
       "      <td>-10</td>\n",
       "      <td>WarPhalange</td>\n",
       "    </tr>\n",
       "    <tr>\n",
       "      <th>214510</th>\n",
       "      <td>c5qauwy</td>\n",
       "      <td>t5_2qhwp</td>\n",
       "      <td>t3_xvrfy</td>\n",
       "      <td>It's not really counter-strike, though.\\n\\nedi...</td>\n",
       "      <td>-24</td>\n",
       "      <td>sncho</td>\n",
       "    </tr>\n",
       "    <tr>\n",
       "      <th>1698121</th>\n",
       "      <td>codggas</td>\n",
       "      <td>t5_2vizz</td>\n",
       "      <td>t3_2v03b2</td>\n",
       "      <td>It's so cool he put it twice!</td>\n",
       "      <td>-7</td>\n",
       "      <td>F7U24</td>\n",
       "    </tr>\n",
       "    <tr>\n",
       "      <th>475806</th>\n",
       "      <td>c04esg1</td>\n",
       "      <td>t5_mouw</td>\n",
       "      <td>t3_6nz1k</td>\n",
       "      <td>If you can't, don't feel badly about yourself....</td>\n",
       "      <td>207</td>\n",
       "      <td>codepoet</td>\n",
       "    </tr>\n",
       "    <tr>\n",
       "      <th>485734</th>\n",
       "      <td>c4lg7he</td>\n",
       "      <td>t5_2qh1i</td>\n",
       "      <td>t3_tc8x2</td>\n",
       "      <td>Cain &amp;amp; Abel.</td>\n",
       "      <td>204</td>\n",
       "      <td>__circle</td>\n",
       "    </tr>\n",
       "    <tr>\n",
       "      <th>...</th>\n",
       "      <td>...</td>\n",
       "      <td>...</td>\n",
       "      <td>...</td>\n",
       "      <td>...</td>\n",
       "      <td>...</td>\n",
       "      <td>...</td>\n",
       "    </tr>\n",
       "    <tr>\n",
       "      <th>446656</th>\n",
       "      <td>c0c5zs7</td>\n",
       "      <td>t5_2qzb6</td>\n",
       "      <td>t3_9bsir</td>\n",
       "      <td>Looks like you didn't learn much from your acc...</td>\n",
       "      <td>-16</td>\n",
       "      <td>A_for_Anonymous</td>\n",
       "    </tr>\n",
       "    <tr>\n",
       "      <th>1577967</th>\n",
       "      <td>c5xi3li</td>\n",
       "      <td>t5_2qh1e</td>\n",
       "      <td>t3_yojmq</td>\n",
       "      <td>Literally literally or figuratively literally?</td>\n",
       "      <td>80</td>\n",
       "      <td>PirateLordBush</td>\n",
       "    </tr>\n",
       "    <tr>\n",
       "      <th>452843</th>\n",
       "      <td>c05q70p</td>\n",
       "      <td>t5_2fwo</td>\n",
       "      <td>t3_75fn4</td>\n",
       "      <td>Why were you modded down?</td>\n",
       "      <td>-16</td>\n",
       "      <td>malcontent</td>\n",
       "    </tr>\n",
       "    <tr>\n",
       "      <th>176133</th>\n",
       "      <td>colx9ej</td>\n",
       "      <td>t5_2qqjc</td>\n",
       "      <td>t3_2vxp03</td>\n",
       "      <td>http://i.imgur.com/vB9B5.gif\\n</td>\n",
       "      <td>419</td>\n",
       "      <td>VelvetHorse</td>\n",
       "    </tr>\n",
       "    <tr>\n",
       "      <th>1120510</th>\n",
       "      <td>c0xm1jr</td>\n",
       "      <td>t5_2r2jt</td>\n",
       "      <td>t3_d4wq0</td>\n",
       "      <td>Doesn't seem like you have a graduate degree i...</td>\n",
       "      <td>-10</td>\n",
       "      <td>kbilly</td>\n",
       "    </tr>\n",
       "  </tbody>\n",
       "</table>\n",
       "<p>2122 rows × 6 columns</p>\n",
       "</div>"
      ],
      "text/plain": [
       "              id subreddit_id    link_id  \\\n",
       "1049554  c6336h1     t5_2qh0u   t3_zb1t0   \n",
       "214510   c5qauwy     t5_2qhwp   t3_xvrfy   \n",
       "1698121  codggas     t5_2vizz  t3_2v03b2   \n",
       "475806   c04esg1      t5_mouw   t3_6nz1k   \n",
       "485734   c4lg7he     t5_2qh1i   t3_tc8x2   \n",
       "...          ...          ...        ...   \n",
       "446656   c0c5zs7     t5_2qzb6   t3_9bsir   \n",
       "1577967  c5xi3li     t5_2qh1e   t3_yojmq   \n",
       "452843   c05q70p      t5_2fwo   t3_75fn4   \n",
       "176133   colx9ej     t5_2qqjc  t3_2vxp03   \n",
       "1120510  c0xm1jr     t5_2r2jt   t3_d4wq0   \n",
       "\n",
       "                                                      text  ups  \\\n",
       "1049554  I was giving him advice and he just kind of sa...  -10   \n",
       "214510   It's not really counter-strike, though.\\n\\nedi...  -24   \n",
       "1698121                      It's so cool he put it twice!   -7   \n",
       "475806   If you can't, don't feel badly about yourself....  207   \n",
       "485734                                    Cain &amp; Abel.  204   \n",
       "...                                                    ...  ...   \n",
       "446656   Looks like you didn't learn much from your acc...  -16   \n",
       "1577967    Literally literally or figuratively literally?    80   \n",
       "452843                           Why were you modded down?  -16   \n",
       "176133                      http://i.imgur.com/vB9B5.gif\\n  419   \n",
       "1120510  Doesn't seem like you have a graduate degree i...  -10   \n",
       "\n",
       "                  author  \n",
       "1049554      WarPhalange  \n",
       "214510             sncho  \n",
       "1698121            F7U24  \n",
       "475806          codepoet  \n",
       "485734          __circle  \n",
       "...                  ...  \n",
       "446656   A_for_Anonymous  \n",
       "1577967   PirateLordBush  \n",
       "452843        malcontent  \n",
       "176133       VelvetHorse  \n",
       "1120510           kbilly  \n",
       "\n",
       "[2122 rows x 6 columns]"
      ]
     },
     "execution_count": 13,
     "metadata": {},
     "output_type": "execute_result"
    }
   ],
   "source": [
    "#Contributions to define an edge\n",
    "edge_contrib = data_clean.groupby(['author']).count()['subreddit_id'].sort_values(ascending=False)\n",
    "#Average contributions\n",
    "average_contrib =edge_contrib.mean()\n",
    "#Filtering\n",
    "above_average_contrib = edge_contrib[edge_contrib>average_contrib]\n",
    "data_clean = data_clean[data_clean['author'].isin(above_average_contrib.index)]\n",
    "authors = data_clean.groupby(['author']).count()['subreddit_id'].sort_values(ascending=False)\n",
    "data_clean"
   ]
  },
  {
   "cell_type": "markdown",
   "id": "31fd1211",
   "metadata": {},
   "source": [
    "## Defining focus\n",
    "\n",
    "We now need to define a custom metric to help to define our hypothesis: \n",
    "\n",
    "**As much a users belong to a community (obtained by cluster coefficient metric), he has focus in the comments**\n",
    "\n",
    "That way we need to define the concept of focus. Focus will be understanding in this context by: \n",
    "\n",
    "*Number of user comments considered for edge formation divided per total comments in the data, thoughtful by the Number of user comments per the max Number of comment of an individual:*\n",
    "\n",
    " $$focus = \\frac{edgeComments_i}{totalComments_i}\\cdot\\frac{edgeComments_i}{maxEdgeComments}$$\n",
    " \n",
    " This metric is interesting because as define the percentage of relevant contributions to the graph, it takes into account the quantity of the individual contributions of the user, giving different weights to them, even the  percentage of relevant comment is similar, deepening the relevance of this metric."
   ]
  },
  {
   "cell_type": "code",
   "execution_count": 14,
   "id": "ed3747af",
   "metadata": {},
   "outputs": [
    {
     "data": {
      "text/plain": [
       "author\n",
       "slyder565          0.017857\n",
       "Hard_Bodied_Man    0.017857\n",
       "RobotAnna          0.017857\n",
       "swefpelego2        0.023810\n",
       "Mustaka            0.023810\n",
       "                     ...   \n",
       "Ragnalypse         0.642857\n",
       "arrowstotheknee    0.642857\n",
       "WarPhalange        0.857143\n",
       "andrewsmith1986    0.875000\n",
       "Apostolate         1.000000\n",
       "Name: subreddit_id, Length: 14023, dtype: float64"
      ]
     },
     "execution_count": 14,
     "metadata": {},
     "output_type": "execute_result"
    }
   ],
   "source": [
    "focus = (edge_contrib/total_contributions)*(edge_contrib/np.max(edge_contrib))\n",
    "focus = focus.dropna().sort_values(ascending=True)\n",
    "focus"
   ]
  },
  {
   "cell_type": "markdown",
   "id": "dbd24c01",
   "metadata": {},
   "source": [
    "## Building the Network properly\n",
    "\n",
    "To the define the network we need to enumerate the collaborators who interact in the same repo by repo, and after it set pairs of developers to create an edge in the network. \n",
    "\n",
    "Concurrently we are defining the focus of each developer."
   ]
  },
  {
   "cell_type": "code",
   "execution_count": 15,
   "id": "fe8bcc4e",
   "metadata": {},
   "outputs": [
    {
     "data": {
      "text/plain": [
       "subreddit_id\n",
       "t5_2cneq    [A_Nihilist, AnnArchist, Azured, BerateBirther...\n",
       "t5_2fwo     [A_for_Anonymous, HunterTV, Jonathan_the_Nerd,...\n",
       "t5_2qgzy                       [andhelostthem, timothygruich]\n",
       "t5_2qh03    [2muffins, AlphaRedditor, Bashasaurus, Birdsla...\n",
       "t5_2qh0s    [ChunkyLaFunga, glinsvad, i_h8_r3dd1t, roninte...\n",
       "                                  ...                        \n",
       "t5_2vizz                             [F7U24, willardfillmore]\n",
       "t5_2vq0w                                             [Antoby]\n",
       "t5_33x33    [DoctorFahrenheit, Kelsig, L3ftyrocks89, Tashr...\n",
       "t5_6        [AMerrickanGirl, A_Nihilist, AmericanGoyBlog, ...\n",
       "t5_mouw     [9jack9, DrakeBishoff, ElDiablo666, Epistaxis,...\n",
       "Name: author, Length: 88, dtype: object"
      ]
     },
     "execution_count": 15,
     "metadata": {},
     "output_type": "execute_result"
    }
   ],
   "source": [
    "same_repo_colab = data_clean.groupby('subreddit_id')['author'].apply(lambda x: list(np.unique(x)))\n",
    "same_repo_colab"
   ]
  },
  {
   "cell_type": "code",
   "execution_count": 16,
   "id": "ef5ead84",
   "metadata": {},
   "outputs": [],
   "source": [
    "import itertools\n",
    "import warnings\n",
    "warnings.filterwarnings('ignore') \n",
    "\n",
    "g.add_vp('focus')\n",
    "for index, row in same_repo_colab.iteritems():\n",
    "    pairs = itertools.combinations(row, 2)\n",
    "    for i,pair in enumerate(pairs):\n",
    "        try:\n",
    "            g.add_vertex(pair[0])\n",
    "            u = g.get_vertex(pair[0])\n",
    "            u['focus'] = focus[pair[0]]\n",
    "        except Exception as inst:\n",
    "            pass\n",
    "        try:\n",
    "            g.add_vertex(pair[1])\n",
    "            v = g.get_vertex(pair[1])\n",
    "            v['focus'] = focus[pair[1]]\n",
    "        except Exception as inst:\n",
    "            pass\n",
    "        finally:\n",
    "            try:\n",
    "                g.add_edge(pair[0],pair[1])\n",
    "            except:\n",
    "                pass"
   ]
  },
  {
   "cell_type": "markdown",
   "id": "6335b33d",
   "metadata": {},
   "source": [
    "#### Number of vertex in the graph"
   ]
  },
  {
   "cell_type": "code",
   "execution_count": 17,
   "id": "3a42b4ef",
   "metadata": {},
   "outputs": [
    {
     "name": "stdout",
     "output_type": "stream",
     "text": [
      "g's number of vertex: 899\n"
     ]
    }
   ],
   "source": [
    "n = g.num_vertices()\n",
    "print(\"g's number of vertex:\", n)"
   ]
  },
  {
   "cell_type": "markdown",
   "id": "0535bfd6",
   "metadata": {},
   "source": [
    "#### Number of edges in the graph"
   ]
  },
  {
   "cell_type": "code",
   "execution_count": 18,
   "id": "59d444bd",
   "metadata": {},
   "outputs": [
    {
     "name": "stdout",
     "output_type": "stream",
     "text": [
      "g's number of edges: 86946\n"
     ]
    }
   ],
   "source": [
    "m = g.num_edges()\n",
    "print(\"g's number of edges:\", m)"
   ]
  },
  {
   "cell_type": "markdown",
   "id": "dfad626f",
   "metadata": {},
   "source": [
    "#### Density of the graph"
   ]
  },
  {
   "cell_type": "code",
   "execution_count": 19,
   "id": "fb1d2c81",
   "metadata": {},
   "outputs": [
    {
     "data": {
      "text/plain": [
       "403651"
      ]
     },
     "execution_count": 19,
     "metadata": {},
     "output_type": "execute_result"
    }
   ],
   "source": [
    "if g.is_directed():\n",
    "    max_edges = n * (n - 1)\n",
    "else:\n",
    "    max_edges = n * (n - 1) // 2\n",
    "max_edges"
   ]
  },
  {
   "cell_type": "code",
   "execution_count": 20,
   "id": "d388dcbb",
   "metadata": {},
   "outputs": [
    {
     "name": "stdout",
     "output_type": "stream",
     "text": [
      "Density is 0.21539894611929614\n"
     ]
    }
   ],
   "source": [
    "d = m / max_edges\n",
    "d\n",
    "print(f'Density is {d}')"
   ]
  },
  {
   "cell_type": "markdown",
   "id": "e76885fb",
   "metadata": {},
   "source": [
    "### Analyzing the graph\n",
    "\n",
    "After obtained the general data of the graph, we need to create insights by regression details which describes better if our hypothesis will be confirmed or not."
   ]
  },
  {
   "cell_type": "code",
   "execution_count": 21,
   "id": "75c50ee5",
   "metadata": {},
   "outputs": [],
   "source": [
    "import seaborn as sns\n",
    "from netpixi.integration.gt import *\n",
    "from regression.integration.gt import *"
   ]
  },
  {
   "cell_type": "code",
   "execution_count": 22,
   "id": "7376383e",
   "metadata": {},
   "outputs": [
    {
     "data": {
      "text/html": [
       "<div>\n",
       "<style scoped>\n",
       "    .dataframe tbody tr th:only-of-type {\n",
       "        vertical-align: middle;\n",
       "    }\n",
       "\n",
       "    .dataframe tbody tr th {\n",
       "        vertical-align: top;\n",
       "    }\n",
       "\n",
       "    .dataframe thead th {\n",
       "        text-align: right;\n",
       "    }\n",
       "</style>\n",
       "<table border=\"1\" class=\"dataframe\">\n",
       "  <thead>\n",
       "    <tr style=\"text-align: right;\">\n",
       "      <th></th>\n",
       "      <th>focus</th>\n",
       "    </tr>\n",
       "    <tr>\n",
       "      <th>id</th>\n",
       "      <th></th>\n",
       "    </tr>\n",
       "  </thead>\n",
       "  <tbody>\n",
       "    <tr>\n",
       "      <th>A_Nihilist</th>\n",
       "      <td>0.214286</td>\n",
       "    </tr>\n",
       "    <tr>\n",
       "      <th>AnnArchist</th>\n",
       "      <td>0.357143</td>\n",
       "    </tr>\n",
       "    <tr>\n",
       "      <th>Azured</th>\n",
       "      <td>0.142857</td>\n",
       "    </tr>\n",
       "    <tr>\n",
       "      <th>BerateBirthers</th>\n",
       "      <td>0.128571</td>\n",
       "    </tr>\n",
       "    <tr>\n",
       "      <th>ButterMyBiscuit</th>\n",
       "      <td>0.142857</td>\n",
       "    </tr>\n",
       "  </tbody>\n",
       "</table>\n",
       "</div>"
      ],
      "text/plain": [
       "                    focus\n",
       "id                       \n",
       "A_Nihilist       0.214286\n",
       "AnnArchist       0.357143\n",
       "Azured           0.142857\n",
       "BerateBirthers   0.128571\n",
       "ButterMyBiscuit  0.142857"
      ]
     },
     "execution_count": 22,
     "metadata": {},
     "output_type": "execute_result"
    }
   ],
   "source": [
    "data = gt_data(g)\n",
    "data.head(5)"
   ]
  },
  {
   "cell_type": "markdown",
   "id": "da3d37e7",
   "metadata": {},
   "source": [
    "##### Adding clustering and degree metrics"
   ]
  },
  {
   "cell_type": "code",
   "execution_count": 23,
   "id": "36112486",
   "metadata": {},
   "outputs": [
    {
     "data": {
      "text/html": [
       "<div>\n",
       "<style scoped>\n",
       "    .dataframe tbody tr th:only-of-type {\n",
       "        vertical-align: middle;\n",
       "    }\n",
       "\n",
       "    .dataframe tbody tr th {\n",
       "        vertical-align: top;\n",
       "    }\n",
       "\n",
       "    .dataframe thead th {\n",
       "        text-align: right;\n",
       "    }\n",
       "</style>\n",
       "<table border=\"1\" class=\"dataframe\">\n",
       "  <thead>\n",
       "    <tr style=\"text-align: right;\">\n",
       "      <th></th>\n",
       "      <th>focus</th>\n",
       "      <th>clustering</th>\n",
       "      <th>degree</th>\n",
       "    </tr>\n",
       "  </thead>\n",
       "  <tbody>\n",
       "    <tr>\n",
       "      <th>count</th>\n",
       "      <td>899.000000</td>\n",
       "      <td>899.000000</td>\n",
       "      <td>899.000000</td>\n",
       "    </tr>\n",
       "    <tr>\n",
       "      <th>mean</th>\n",
       "      <td>0.164736</td>\n",
       "      <td>0.781288</td>\n",
       "      <td>0.215399</td>\n",
       "    </tr>\n",
       "    <tr>\n",
       "      <th>std</th>\n",
       "      <td>0.073824</td>\n",
       "      <td>0.185168</td>\n",
       "      <td>0.142932</td>\n",
       "    </tr>\n",
       "    <tr>\n",
       "      <th>min</th>\n",
       "      <td>0.057143</td>\n",
       "      <td>0.000000</td>\n",
       "      <td>0.001114</td>\n",
       "    </tr>\n",
       "    <tr>\n",
       "      <th>25%</th>\n",
       "      <td>0.142857</td>\n",
       "      <td>0.644561</td>\n",
       "      <td>0.090200</td>\n",
       "    </tr>\n",
       "    <tr>\n",
       "      <th>50%</th>\n",
       "      <td>0.142857</td>\n",
       "      <td>0.764082</td>\n",
       "      <td>0.192650</td>\n",
       "    </tr>\n",
       "    <tr>\n",
       "      <th>75%</th>\n",
       "      <td>0.142857</td>\n",
       "      <td>1.000000</td>\n",
       "      <td>0.324053</td>\n",
       "    </tr>\n",
       "    <tr>\n",
       "      <th>max</th>\n",
       "      <td>1.000000</td>\n",
       "      <td>1.000000</td>\n",
       "      <td>0.711581</td>\n",
       "    </tr>\n",
       "  </tbody>\n",
       "</table>\n",
       "</div>"
      ],
      "text/plain": [
       "            focus  clustering      degree\n",
       "count  899.000000  899.000000  899.000000\n",
       "mean     0.164736    0.781288    0.215399\n",
       "std      0.073824    0.185168    0.142932\n",
       "min      0.057143    0.000000    0.001114\n",
       "25%      0.142857    0.644561    0.090200\n",
       "50%      0.142857    0.764082    0.192650\n",
       "75%      0.142857    1.000000    0.324053\n",
       "max      1.000000    1.000000    0.711581"
      ]
     },
     "execution_count": 23,
     "metadata": {},
     "output_type": "execute_result"
    }
   ],
   "source": [
    "from graph_tool import clustering\n",
    "\n",
    "lc = clustering.local_clustering(g)\n",
    "g.add_vp('clustering', lc)\n",
    "dc = gt_total_degree(g)\n",
    "g.add_vp('degree', dc)\n",
    "data = gt_data(g)\n",
    "data.describe()"
   ]
  },
  {
   "cell_type": "code",
   "execution_count": 24,
   "id": "9ab4cebe",
   "metadata": {},
   "outputs": [
    {
     "data": {
      "text/html": [
       "<div>\n",
       "<style scoped>\n",
       "    .dataframe tbody tr th:only-of-type {\n",
       "        vertical-align: middle;\n",
       "    }\n",
       "\n",
       "    .dataframe tbody tr th {\n",
       "        vertical-align: top;\n",
       "    }\n",
       "\n",
       "    .dataframe thead th {\n",
       "        text-align: right;\n",
       "    }\n",
       "</style>\n",
       "<table border=\"1\" class=\"dataframe\">\n",
       "  <thead>\n",
       "    <tr style=\"text-align: right;\">\n",
       "      <th></th>\n",
       "      <th>degree_count</th>\n",
       "    </tr>\n",
       "  </thead>\n",
       "  <tbody>\n",
       "    <tr>\n",
       "      <th>count</th>\n",
       "      <td>899.000000</td>\n",
       "    </tr>\n",
       "    <tr>\n",
       "      <th>mean</th>\n",
       "      <td>193.428254</td>\n",
       "    </tr>\n",
       "    <tr>\n",
       "      <th>std</th>\n",
       "      <td>128.352678</td>\n",
       "    </tr>\n",
       "    <tr>\n",
       "      <th>min</th>\n",
       "      <td>1.000000</td>\n",
       "    </tr>\n",
       "    <tr>\n",
       "      <th>25%</th>\n",
       "      <td>81.000000</td>\n",
       "    </tr>\n",
       "    <tr>\n",
       "      <th>50%</th>\n",
       "      <td>173.000000</td>\n",
       "    </tr>\n",
       "    <tr>\n",
       "      <th>75%</th>\n",
       "      <td>291.000000</td>\n",
       "    </tr>\n",
       "    <tr>\n",
       "      <th>max</th>\n",
       "      <td>639.000000</td>\n",
       "    </tr>\n",
       "  </tbody>\n",
       "</table>\n",
       "</div>"
      ],
      "text/plain": [
       "       degree_count\n",
       "count    899.000000\n",
       "mean     193.428254\n",
       "std      128.352678\n",
       "min        1.000000\n",
       "25%       81.000000\n",
       "50%      173.000000\n",
       "75%      291.000000\n",
       "max      639.000000"
      ]
     },
     "execution_count": 24,
     "metadata": {},
     "output_type": "execute_result"
    }
   ],
   "source": [
    "degrees = []\n",
    "for v in g.all_vertices():\n",
    "    degrees.append(v.total_degree())\n",
    "data['degree_count'] = degrees\n",
    "data['degree_count'].describe().to_frame()"
   ]
  },
  {
   "cell_type": "code",
   "execution_count": 25,
   "id": "3e868744",
   "metadata": {},
   "outputs": [
    {
     "data": {
      "text/plain": [
       "<AxesSubplot: xlabel='degree_count', ylabel='Count'>"
      ]
     },
     "execution_count": 25,
     "metadata": {},
     "output_type": "execute_result"
    },
    {
     "data": {
      "image/png": "[encoded data removed]",
      "text/plain": [
       "<Figure size 640x480 with 1 Axes>"
      ]
     },
     "metadata": {},
     "output_type": "display_data"
    }
   ],
   "source": [
    "sns.histplot(data['degree_count'])"
   ]
  },
  {
   "cell_type": "markdown",
   "id": "46acd71c",
   "metadata": {},
   "source": [
    "#### Dropping the outliers (colabs > 1000)\n",
    "\n",
    "As we can see above there collaborators who are much higher than the collaborations, and much of them are bot's accounts (e.g *houndci* and *nrel-bot*). For this, we're removing them for the analysis."
   ]
  },
  {
   "cell_type": "code",
   "execution_count": 26,
   "id": "599f26e0",
   "metadata": {},
   "outputs": [],
   "source": [
    "# selRows = data[data['colabs'] > 1000].index\n",
    "# data = data.drop(selRows,axis=0)"
   ]
  },
  {
   "cell_type": "markdown",
   "id": "16439770",
   "metadata": {},
   "source": [
    "### Normalizing focus\n",
    "\n",
    "After removing the outliers we need to normalize the focus metric to properly give insights about the data."
   ]
  },
  {
   "cell_type": "code",
   "execution_count": 27,
   "id": "0974e5b8",
   "metadata": {},
   "outputs": [],
   "source": [
    "x = data['focus']\n",
    "x_norm = (x-np.min(x))/(np.max(x)-np.min(x)) + 1e-10 #For log issues in the next cells\n",
    "data['focus'] = x_norm"
   ]
  },
  {
   "cell_type": "code",
   "execution_count": 28,
   "id": "00cf02c4",
   "metadata": {},
   "outputs": [
    {
     "data": {
      "text/html": [
       "<div>\n",
       "<style scoped>\n",
       "    .dataframe tbody tr th:only-of-type {\n",
       "        vertical-align: middle;\n",
       "    }\n",
       "\n",
       "    .dataframe tbody tr th {\n",
       "        vertical-align: top;\n",
       "    }\n",
       "\n",
       "    .dataframe thead th {\n",
       "        text-align: right;\n",
       "    }\n",
       "</style>\n",
       "<table border=\"1\" class=\"dataframe\">\n",
       "  <thead>\n",
       "    <tr style=\"text-align: right;\">\n",
       "      <th></th>\n",
       "      <th>degree</th>\n",
       "    </tr>\n",
       "  </thead>\n",
       "  <tbody>\n",
       "    <tr>\n",
       "      <th>count</th>\n",
       "      <td>899.000000</td>\n",
       "    </tr>\n",
       "    <tr>\n",
       "      <th>mean</th>\n",
       "      <td>0.215399</td>\n",
       "    </tr>\n",
       "    <tr>\n",
       "      <th>std</th>\n",
       "      <td>0.142932</td>\n",
       "    </tr>\n",
       "    <tr>\n",
       "      <th>min</th>\n",
       "      <td>0.001114</td>\n",
       "    </tr>\n",
       "    <tr>\n",
       "      <th>25%</th>\n",
       "      <td>0.090200</td>\n",
       "    </tr>\n",
       "    <tr>\n",
       "      <th>50%</th>\n",
       "      <td>0.192650</td>\n",
       "    </tr>\n",
       "    <tr>\n",
       "      <th>75%</th>\n",
       "      <td>0.324053</td>\n",
       "    </tr>\n",
       "    <tr>\n",
       "      <th>max</th>\n",
       "      <td>0.711581</td>\n",
       "    </tr>\n",
       "  </tbody>\n",
       "</table>\n",
       "</div>"
      ],
      "text/plain": [
       "           degree\n",
       "count  899.000000\n",
       "mean     0.215399\n",
       "std      0.142932\n",
       "min      0.001114\n",
       "25%      0.090200\n",
       "50%      0.192650\n",
       "75%      0.324053\n",
       "max      0.711581"
      ]
     },
     "execution_count": 28,
     "metadata": {},
     "output_type": "execute_result"
    }
   ],
   "source": [
    "data['degree'].describe().to_frame()"
   ]
  },
  {
   "cell_type": "code",
   "execution_count": 29,
   "id": "5f233e7f",
   "metadata": {},
   "outputs": [
    {
     "data": {
      "text/html": [
       "<div>\n",
       "<style scoped>\n",
       "    .dataframe tbody tr th:only-of-type {\n",
       "        vertical-align: middle;\n",
       "    }\n",
       "\n",
       "    .dataframe tbody tr th {\n",
       "        vertical-align: top;\n",
       "    }\n",
       "\n",
       "    .dataframe thead th {\n",
       "        text-align: right;\n",
       "    }\n",
       "</style>\n",
       "<table border=\"1\" class=\"dataframe\">\n",
       "  <thead>\n",
       "    <tr style=\"text-align: right;\">\n",
       "      <th></th>\n",
       "      <th>focus</th>\n",
       "    </tr>\n",
       "  </thead>\n",
       "  <tbody>\n",
       "    <tr>\n",
       "      <th>count</th>\n",
       "      <td>8.990000e+02</td>\n",
       "    </tr>\n",
       "    <tr>\n",
       "      <th>mean</th>\n",
       "      <td>1.141142e-01</td>\n",
       "    </tr>\n",
       "    <tr>\n",
       "      <th>std</th>\n",
       "      <td>7.829804e-02</td>\n",
       "    </tr>\n",
       "    <tr>\n",
       "      <th>min</th>\n",
       "      <td>1.000000e-10</td>\n",
       "    </tr>\n",
       "    <tr>\n",
       "      <th>25%</th>\n",
       "      <td>9.090909e-02</td>\n",
       "    </tr>\n",
       "    <tr>\n",
       "      <th>50%</th>\n",
       "      <td>9.090909e-02</td>\n",
       "    </tr>\n",
       "    <tr>\n",
       "      <th>75%</th>\n",
       "      <td>9.090909e-02</td>\n",
       "    </tr>\n",
       "    <tr>\n",
       "      <th>max</th>\n",
       "      <td>1.000000e+00</td>\n",
       "    </tr>\n",
       "  </tbody>\n",
       "</table>\n",
       "</div>"
      ],
      "text/plain": [
       "              focus\n",
       "count  8.990000e+02\n",
       "mean   1.141142e-01\n",
       "std    7.829804e-02\n",
       "min    1.000000e-10\n",
       "25%    9.090909e-02\n",
       "50%    9.090909e-02\n",
       "75%    9.090909e-02\n",
       "max    1.000000e+00"
      ]
     },
     "execution_count": 29,
     "metadata": {},
     "output_type": "execute_result"
    }
   ],
   "source": [
    "data['focus'].describe().to_frame()"
   ]
  },
  {
   "cell_type": "markdown",
   "id": "2a923183",
   "metadata": {},
   "source": [
    "### Regression "
   ]
  },
  {
   "cell_type": "code",
   "execution_count": 30,
   "id": "cb2b21be",
   "metadata": {},
   "outputs": [
    {
     "data": {
      "text/plain": [
       "<AxesSubplot: xlabel='focus', ylabel='Count'>"
      ]
     },
     "execution_count": 30,
     "metadata": {},
     "output_type": "execute_result"
    },
    {
     "data": {
      "image/png": "[encoded data removed]",
      "text/plain": [
       "<Figure size 640x480 with 1 Axes>"
      ]
     },
     "metadata": {},
     "output_type": "display_data"
    }
   ],
   "source": [
    "sns.histplot(data['focus'])"
   ]
  },
  {
   "cell_type": "code",
   "execution_count": 31,
   "id": "72b75297",
   "metadata": {},
   "outputs": [
    {
     "data": {
      "text/plain": [
       "<AxesSubplot: xlabel='degree', ylabel='Count'>"
      ]
     },
     "execution_count": 31,
     "metadata": {},
     "output_type": "execute_result"
    },
    {
     "data": {
      "image/png": "[encoded data removed]",
      "text/plain": [
       "<Figure size 640x480 with 1 Axes>"
      ]
     },
     "metadata": {},
     "output_type": "display_data"
    }
   ],
   "source": [
    "sns.histplot(data['degree'])"
   ]
  },
  {
   "cell_type": "code",
   "execution_count": 32,
   "id": "82e480fc",
   "metadata": {},
   "outputs": [],
   "source": [
    "import seaborn as sns\n",
    "import regression as reg\n",
    "\n",
    "from scipy import stats\n",
    "from matplotlib import pyplot as plt"
   ]
  },
  {
   "cell_type": "code",
   "execution_count": 33,
   "id": "f04c58a3",
   "metadata": {},
   "outputs": [
    {
     "data": {
      "image/png": "[encoded data removed]",
      "text/plain": [
       "<Figure size 640x480 with 1 Axes>"
      ]
     },
     "metadata": {},
     "output_type": "display_data"
    }
   ],
   "source": [
    "sns.scatterplot(x=data['clustering'], y=np.log(data['focus']));"
   ]
  },
  {
   "cell_type": "code",
   "execution_count": 34,
   "id": "812c9170",
   "metadata": {},
   "outputs": [
    {
     "data": {
      "text/html": [
       "<div>\n",
       "<style scoped>\n",
       "    .dataframe tbody tr th:only-of-type {\n",
       "        vertical-align: middle;\n",
       "    }\n",
       "\n",
       "    .dataframe tbody tr th {\n",
       "        vertical-align: top;\n",
       "    }\n",
       "\n",
       "    .dataframe thead th {\n",
       "        text-align: right;\n",
       "    }\n",
       "</style>\n",
       "<table border=\"1\" class=\"dataframe\">\n",
       "  <thead>\n",
       "    <tr style=\"text-align: right;\">\n",
       "      <th></th>\n",
       "      <th>focus</th>\n",
       "      <th>clustering</th>\n",
       "      <th>degree</th>\n",
       "      <th>degree_count</th>\n",
       "    </tr>\n",
       "    <tr>\n",
       "      <th>id</th>\n",
       "      <th></th>\n",
       "      <th></th>\n",
       "      <th></th>\n",
       "      <th></th>\n",
       "    </tr>\n",
       "  </thead>\n",
       "  <tbody>\n",
       "    <tr>\n",
       "      <th>Apostolate</th>\n",
       "      <td>1.000000e+00</td>\n",
       "      <td>0.697432</td>\n",
       "      <td>0.414254</td>\n",
       "      <td>372</td>\n",
       "    </tr>\n",
       "    <tr>\n",
       "      <th>andrewsmith1986</th>\n",
       "      <td>8.674242e-01</td>\n",
       "      <td>0.609004</td>\n",
       "      <td>0.472160</td>\n",
       "      <td>424</td>\n",
       "    </tr>\n",
       "    <tr>\n",
       "      <th>WarPhalange</th>\n",
       "      <td>8.484848e-01</td>\n",
       "      <td>0.368704</td>\n",
       "      <td>0.711581</td>\n",
       "      <td>639</td>\n",
       "    </tr>\n",
       "    <tr>\n",
       "      <th>Ragnalypse</th>\n",
       "      <td>6.212121e-01</td>\n",
       "      <td>0.556865</td>\n",
       "      <td>0.344098</td>\n",
       "      <td>309</td>\n",
       "    </tr>\n",
       "    <tr>\n",
       "      <th>arrowstotheknee</th>\n",
       "      <td>6.212121e-01</td>\n",
       "      <td>0.446429</td>\n",
       "      <td>0.250557</td>\n",
       "      <td>225</td>\n",
       "    </tr>\n",
       "    <tr>\n",
       "      <th>...</th>\n",
       "      <td>...</td>\n",
       "      <td>...</td>\n",
       "      <td>...</td>\n",
       "      <td>...</td>\n",
       "    </tr>\n",
       "    <tr>\n",
       "      <th>mweathr</th>\n",
       "      <td>4.040404e-02</td>\n",
       "      <td>1.000000</td>\n",
       "      <td>0.103563</td>\n",
       "      <td>93</td>\n",
       "    </tr>\n",
       "    <tr>\n",
       "      <th>codepoet</th>\n",
       "      <td>4.040404e-02</td>\n",
       "      <td>0.740000</td>\n",
       "      <td>0.027840</td>\n",
       "      <td>25</td>\n",
       "    </tr>\n",
       "    <tr>\n",
       "      <th>arrowtootheknee</th>\n",
       "      <td>4.040404e-02</td>\n",
       "      <td>0.537198</td>\n",
       "      <td>0.051225</td>\n",
       "      <td>46</td>\n",
       "    </tr>\n",
       "    <tr>\n",
       "      <th>heyfella</th>\n",
       "      <td>1.515152e-02</td>\n",
       "      <td>1.000000</td>\n",
       "      <td>0.070156</td>\n",
       "      <td>63</td>\n",
       "    </tr>\n",
       "    <tr>\n",
       "      <th>popscythe</th>\n",
       "      <td>1.000000e-10</td>\n",
       "      <td>0.545455</td>\n",
       "      <td>0.012249</td>\n",
       "      <td>11</td>\n",
       "    </tr>\n",
       "  </tbody>\n",
       "</table>\n",
       "<p>899 rows × 4 columns</p>\n",
       "</div>"
      ],
      "text/plain": [
       "                        focus  clustering    degree  degree_count\n",
       "id                                                               \n",
       "Apostolate       1.000000e+00    0.697432  0.414254           372\n",
       "andrewsmith1986  8.674242e-01    0.609004  0.472160           424\n",
       "WarPhalange      8.484848e-01    0.368704  0.711581           639\n",
       "Ragnalypse       6.212121e-01    0.556865  0.344098           309\n",
       "arrowstotheknee  6.212121e-01    0.446429  0.250557           225\n",
       "...                       ...         ...       ...           ...\n",
       "mweathr          4.040404e-02    1.000000  0.103563            93\n",
       "codepoet         4.040404e-02    0.740000  0.027840            25\n",
       "arrowtootheknee  4.040404e-02    0.537198  0.051225            46\n",
       "heyfella         1.515152e-02    1.000000  0.070156            63\n",
       "popscythe        1.000000e-10    0.545455  0.012249            11\n",
       "\n",
       "[899 rows x 4 columns]"
      ]
     },
     "execution_count": 34,
     "metadata": {},
     "output_type": "execute_result"
    }
   ],
   "source": [
    "data.sort_values(by=\"focus\",ascending=False)"
   ]
  },
  {
   "cell_type": "markdown",
   "id": "c79617dd",
   "metadata": {},
   "source": [
    "### Residuals"
   ]
  },
  {
   "cell_type": "code",
   "execution_count": 35,
   "id": "fb99bdd3",
   "metadata": {},
   "outputs": [],
   "source": [
    "result = reg.linear(data=data, formula='focus ~ clustering')"
   ]
  },
  {
   "cell_type": "code",
   "execution_count": 36,
   "id": "a0775e9d",
   "metadata": {},
   "outputs": [
    {
     "data": {
      "text/html": [
       "<table class=\"simpletable\">\n",
       "<caption>OLS Regression Results</caption>\n",
       "<tr>\n",
       "  <th>Dep. Variable:</th>          <td>focus</td>      <th>  R-squared:         </th> <td>   0.063</td>\n",
       "</tr>\n",
       "<tr>\n",
       "  <th>Model:</th>                   <td>OLS</td>       <th>  Adj. R-squared:    </th> <td>   0.062</td>\n",
       "</tr>\n",
       "<tr>\n",
       "  <th>Method:</th>             <td>Least Squares</td>  <th>  F-statistic:       </th> <td>   60.66</td>\n",
       "</tr>\n",
       "<tr>\n",
       "  <th>Date:</th>             <td>Sun, 04 Jun 2023</td> <th>  Prob (F-statistic):</th> <td>1.87e-14</td>\n",
       "</tr>\n",
       "<tr>\n",
       "  <th>Time:</th>                 <td>14:42:02</td>     <th>  Log-Likelihood:    </th> <td>  1044.3</td>\n",
       "</tr>\n",
       "<tr>\n",
       "  <th>No. Observations:</th>      <td>   899</td>      <th>  AIC:               </th> <td>  -2085.</td>\n",
       "</tr>\n",
       "<tr>\n",
       "  <th>Df Residuals:</th>          <td>   897</td>      <th>  BIC:               </th> <td>  -2075.</td>\n",
       "</tr>\n",
       "<tr>\n",
       "  <th>Df Model:</th>              <td>     1</td>      <th>                     </th>     <td> </td>   \n",
       "</tr>\n",
       "<tr>\n",
       "  <th>Covariance Type:</th>      <td>nonrobust</td>    <th>                     </th>     <td> </td>   \n",
       "</tr>\n",
       "</table>\n",
       "<table class=\"simpletable\">\n",
       "<tr>\n",
       "       <td></td>         <th>coef</th>     <th>std err</th>      <th>t</th>      <th>P>|t|</th>  <th>[0.025</th>    <th>0.975]</th>  \n",
       "</tr>\n",
       "<tr>\n",
       "  <th>Intercept</th>  <td>    0.1973</td> <td>    0.011</td> <td>   17.981</td> <td> 0.000</td> <td>    0.176</td> <td>    0.219</td>\n",
       "</tr>\n",
       "<tr>\n",
       "  <th>clustering</th> <td>   -0.1064</td> <td>    0.014</td> <td>   -7.789</td> <td> 0.000</td> <td>   -0.133</td> <td>   -0.080</td>\n",
       "</tr>\n",
       "</table>\n",
       "<table class=\"simpletable\">\n",
       "<tr>\n",
       "  <th>Omnibus:</th>       <td>998.857</td> <th>  Durbin-Watson:     </th> <td>   1.991</td> \n",
       "</tr>\n",
       "<tr>\n",
       "  <th>Prob(Omnibus):</th> <td> 0.000</td>  <th>  Jarque-Bera (JB):  </th> <td>74746.807</td>\n",
       "</tr>\n",
       "<tr>\n",
       "  <th>Skew:</th>          <td> 5.388</td>  <th>  Prob(JB):          </th> <td>    0.00</td> \n",
       "</tr>\n",
       "<tr>\n",
       "  <th>Kurtosis:</th>      <td>46.351</td>  <th>  Cond. No.          </th> <td>    8.77</td> \n",
       "</tr>\n",
       "</table><br/><br/>Notes:<br/>[1] Standard Errors assume that the covariance matrix of the errors is correctly specified."
      ],
      "text/plain": [
       "<class 'statsmodels.iolib.summary.Summary'>\n",
       "\"\"\"\n",
       "                            OLS Regression Results                            \n",
       "==============================================================================\n",
       "Dep. Variable:                  focus   R-squared:                       0.063\n",
       "Model:                            OLS   Adj. R-squared:                  0.062\n",
       "Method:                 Least Squares   F-statistic:                     60.66\n",
       "Date:                Sun, 04 Jun 2023   Prob (F-statistic):           1.87e-14\n",
       "Time:                        14:42:02   Log-Likelihood:                 1044.3\n",
       "No. Observations:                 899   AIC:                            -2085.\n",
       "Df Residuals:                     897   BIC:                            -2075.\n",
       "Df Model:                           1                                         \n",
       "Covariance Type:            nonrobust                                         \n",
       "==============================================================================\n",
       "                 coef    std err          t      P>|t|      [0.025      0.975]\n",
       "------------------------------------------------------------------------------\n",
       "Intercept      0.1973      0.011     17.981      0.000       0.176       0.219\n",
       "clustering    -0.1064      0.014     -7.789      0.000      -0.133      -0.080\n",
       "==============================================================================\n",
       "Omnibus:                      998.857   Durbin-Watson:                   1.991\n",
       "Prob(Omnibus):                  0.000   Jarque-Bera (JB):            74746.807\n",
       "Skew:                           5.388   Prob(JB):                         0.00\n",
       "Kurtosis:                      46.351   Cond. No.                         8.77\n",
       "==============================================================================\n",
       "\n",
       "Notes:\n",
       "[1] Standard Errors assume that the covariance matrix of the errors is correctly specified.\n",
       "\"\"\""
      ]
     },
     "execution_count": 36,
     "metadata": {},
     "output_type": "execute_result"
    }
   ],
   "source": [
    "result.summary()"
   ]
  },
  {
   "cell_type": "code",
   "execution_count": 37,
   "id": "3e13992f",
   "metadata": {},
   "outputs": [
    {
     "data": {
      "text/html": [
       "<style type=\"text/css\">\n",
       "</style>\n",
       "<table id=\"T_b8087\">\n",
       "  <thead>\n",
       "    <tr>\n",
       "      <th id=\"T_b8087_level0_col0\" class=\"col_heading level0 col0\" >variable</th>\n",
       "      <th id=\"T_b8087_level0_col1\" class=\"col_heading level0 col1\" >coefficient</th>\n",
       "      <th id=\"T_b8087_level0_col2\" class=\"col_heading level0 col2\" >std error</th>\n",
       "      <th id=\"T_b8087_level0_col3\" class=\"col_heading level0 col3\" >p-value</th>\n",
       "    </tr>\n",
       "  </thead>\n",
       "  <tbody>\n",
       "    <tr>\n",
       "      <td id=\"T_b8087_row0_col0\" class=\"data row0 col0\" >clustering</td>\n",
       "      <td id=\"T_b8087_row0_col1\" class=\"data row0 col1\" >-0.106426</td>\n",
       "      <td id=\"T_b8087_row0_col2\" class=\"data row0 col2\" >0.013664</td>\n",
       "      <td id=\"T_b8087_row0_col3\" class=\"data row0 col3\" >0.000000</td>\n",
       "    </tr>\n",
       "  </tbody>\n",
       "</table>\n"
      ],
      "text/plain": [
       "<pandas.io.formats.style.Styler at 0x7f44d154d1e0>"
      ]
     },
     "execution_count": 37,
     "metadata": {},
     "output_type": "execute_result"
    }
   ],
   "source": [
    "result.micro_summary()"
   ]
  },
  {
   "cell_type": "code",
   "execution_count": 38,
   "id": "6f99a5f1",
   "metadata": {},
   "outputs": [
    {
     "data": {
      "image/png": "[encoded data removed]",
      "text/plain": [
       "<Figure size 1280x480 with 2 Axes>"
      ]
     },
     "metadata": {},
     "output_type": "display_data"
    }
   ],
   "source": [
    "result.plot_residuals()"
   ]
  },
  {
   "cell_type": "markdown",
   "id": "e8c5cea9",
   "metadata": {},
   "source": [
    "#### \"Massaging\" the data\n",
    "\n",
    "As we can see, the distribution of residuals is not good as we want, because the residuals has not a randomic and normal distribution to give the give the necessary confidence to the model. \n",
    "\n",
    "Because of this, we can apply a logaritmic scale to the focus to get a better shape and use the degree as control variable (which means the quantity of neighbors of the vertex)."
   ]
  },
  {
   "cell_type": "code",
   "execution_count": 49,
   "id": "2ba3840b",
   "metadata": {},
   "outputs": [],
   "source": [
    "result = reg.linear(data=data, formula='np.log(focus) ~ clustering + degree')"
   ]
  },
  {
   "cell_type": "code",
   "execution_count": 50,
   "id": "bb9e641e",
   "metadata": {},
   "outputs": [
    {
     "data": {
      "text/html": [
       "<table class=\"simpletable\">\n",
       "<caption>OLS Regression Results</caption>\n",
       "<tr>\n",
       "  <th>Dep. Variable:</th>      <td>np.log(focus)</td>  <th>  R-squared:         </th> <td>   0.035</td>\n",
       "</tr>\n",
       "<tr>\n",
       "  <th>Model:</th>                   <td>OLS</td>       <th>  Adj. R-squared:    </th> <td>   0.033</td>\n",
       "</tr>\n",
       "<tr>\n",
       "  <th>Method:</th>             <td>Least Squares</td>  <th>  F-statistic:       </th> <td>   16.20</td>\n",
       "</tr>\n",
       "<tr>\n",
       "  <th>Date:</th>             <td>Sun, 04 Jun 2023</td> <th>  Prob (F-statistic):</th> <td>1.23e-07</td>\n",
       "</tr>\n",
       "<tr>\n",
       "  <th>Time:</th>                 <td>14:45:55</td>     <th>  Log-Likelihood:    </th> <td> -1057.1</td>\n",
       "</tr>\n",
       "<tr>\n",
       "  <th>No. Observations:</th>      <td>   899</td>      <th>  AIC:               </th> <td>   2120.</td>\n",
       "</tr>\n",
       "<tr>\n",
       "  <th>Df Residuals:</th>          <td>   896</td>      <th>  BIC:               </th> <td>   2135.</td>\n",
       "</tr>\n",
       "<tr>\n",
       "  <th>Df Model:</th>              <td>     2</td>      <th>                     </th>     <td> </td>   \n",
       "</tr>\n",
       "<tr>\n",
       "  <th>Covariance Type:</th>      <td>nonrobust</td>    <th>                     </th>     <td> </td>   \n",
       "</tr>\n",
       "</table>\n",
       "<table class=\"simpletable\">\n",
       "<tr>\n",
       "       <td></td>         <th>coef</th>     <th>std err</th>      <th>t</th>      <th>P>|t|</th>  <th>[0.025</th>    <th>0.975]</th>  \n",
       "</tr>\n",
       "<tr>\n",
       "  <th>Intercept</th>  <td>   -2.2853</td> <td>    0.130</td> <td>  -17.545</td> <td> 0.000</td> <td>   -2.541</td> <td>   -2.030</td>\n",
       "</tr>\n",
       "<tr>\n",
       "  <th>clustering</th> <td>   -0.2680</td> <td>    0.145</td> <td>   -1.853</td> <td> 0.064</td> <td>   -0.552</td> <td>    0.016</td>\n",
       "</tr>\n",
       "<tr>\n",
       "  <th>degree</th>     <td>    0.9158</td> <td>    0.187</td> <td>    4.886</td> <td> 0.000</td> <td>    0.548</td> <td>    1.284</td>\n",
       "</tr>\n",
       "</table>\n",
       "<table class=\"simpletable\">\n",
       "<tr>\n",
       "  <th>Omnibus:</th>       <td>2054.491</td> <th>  Durbin-Watson:     </th>   <td>   1.979</td>  \n",
       "</tr>\n",
       "<tr>\n",
       "  <th>Prob(Omnibus):</th>  <td> 0.000</td>  <th>  Jarque-Bera (JB):  </th> <td>10484237.246</td>\n",
       "</tr>\n",
       "<tr>\n",
       "  <th>Skew:</th>           <td>-20.034</td> <th>  Prob(JB):          </th>   <td>    0.00</td>  \n",
       "</tr>\n",
       "<tr>\n",
       "  <th>Kurtosis:</th>       <td>530.527</td> <th>  Cond. No.          </th>   <td>    10.8</td>  \n",
       "</tr>\n",
       "</table><br/><br/>Notes:<br/>[1] Standard Errors assume that the covariance matrix of the errors is correctly specified."
      ],
      "text/plain": [
       "<class 'statsmodels.iolib.summary.Summary'>\n",
       "\"\"\"\n",
       "                            OLS Regression Results                            \n",
       "==============================================================================\n",
       "Dep. Variable:          np.log(focus)   R-squared:                       0.035\n",
       "Model:                            OLS   Adj. R-squared:                  0.033\n",
       "Method:                 Least Squares   F-statistic:                     16.20\n",
       "Date:                Sun, 04 Jun 2023   Prob (F-statistic):           1.23e-07\n",
       "Time:                        14:45:55   Log-Likelihood:                -1057.1\n",
       "No. Observations:                 899   AIC:                             2120.\n",
       "Df Residuals:                     896   BIC:                             2135.\n",
       "Df Model:                           2                                         \n",
       "Covariance Type:            nonrobust                                         \n",
       "==============================================================================\n",
       "                 coef    std err          t      P>|t|      [0.025      0.975]\n",
       "------------------------------------------------------------------------------\n",
       "Intercept     -2.2853      0.130    -17.545      0.000      -2.541      -2.030\n",
       "clustering    -0.2680      0.145     -1.853      0.064      -0.552       0.016\n",
       "degree         0.9158      0.187      4.886      0.000       0.548       1.284\n",
       "==============================================================================\n",
       "Omnibus:                     2054.491   Durbin-Watson:                   1.979\n",
       "Prob(Omnibus):                  0.000   Jarque-Bera (JB):         10484237.246\n",
       "Skew:                         -20.034   Prob(JB):                         0.00\n",
       "Kurtosis:                     530.527   Cond. No.                         10.8\n",
       "==============================================================================\n",
       "\n",
       "Notes:\n",
       "[1] Standard Errors assume that the covariance matrix of the errors is correctly specified.\n",
       "\"\"\""
      ]
     },
     "execution_count": 50,
     "metadata": {},
     "output_type": "execute_result"
    }
   ],
   "source": [
    "result.summary()"
   ]
  },
  {
   "cell_type": "code",
   "execution_count": 51,
   "id": "0289d85e",
   "metadata": {},
   "outputs": [
    {
     "data": {
      "text/html": [
       "<style type=\"text/css\">\n",
       "</style>\n",
       "<table id=\"T_f2f88\">\n",
       "  <thead>\n",
       "    <tr>\n",
       "      <th id=\"T_f2f88_level0_col0\" class=\"col_heading level0 col0\" >variable</th>\n",
       "      <th id=\"T_f2f88_level0_col1\" class=\"col_heading level0 col1\" >coefficient</th>\n",
       "      <th id=\"T_f2f88_level0_col2\" class=\"col_heading level0 col2\" >std error</th>\n",
       "      <th id=\"T_f2f88_level0_col3\" class=\"col_heading level0 col3\" >p-value</th>\n",
       "    </tr>\n",
       "  </thead>\n",
       "  <tbody>\n",
       "    <tr>\n",
       "      <td id=\"T_f2f88_row0_col0\" class=\"data row0 col0\" >clustering</td>\n",
       "      <td id=\"T_f2f88_row0_col1\" class=\"data row0 col1\" >-0.267998</td>\n",
       "      <td id=\"T_f2f88_row0_col2\" class=\"data row0 col2\" >0.144663</td>\n",
       "      <td id=\"T_f2f88_row0_col3\" class=\"data row0 col3\" >0.064272</td>\n",
       "    </tr>\n",
       "    <tr>\n",
       "      <td id=\"T_f2f88_row1_col0\" class=\"data row1 col0\" >degree</td>\n",
       "      <td id=\"T_f2f88_row1_col1\" class=\"data row1 col1\" >0.915775</td>\n",
       "      <td id=\"T_f2f88_row1_col2\" class=\"data row1 col2\" >0.187410</td>\n",
       "      <td id=\"T_f2f88_row1_col3\" class=\"data row1 col3\" >0.000001</td>\n",
       "    </tr>\n",
       "  </tbody>\n",
       "</table>\n"
      ],
      "text/plain": [
       "<pandas.io.formats.style.Styler at 0x7f44d11ab400>"
      ]
     },
     "execution_count": 51,
     "metadata": {},
     "output_type": "execute_result"
    }
   ],
   "source": [
    "result.micro_summary()"
   ]
  },
  {
   "cell_type": "code",
   "execution_count": 52,
   "id": "8f5f4bbd",
   "metadata": {},
   "outputs": [
    {
     "data": {
      "image/png": "[encoded data removed]",
      "text/plain": [
       "<Figure size 1280x480 with 2 Axes>"
      ]
     },
     "metadata": {},
     "output_type": "display_data"
    }
   ],
   "source": [
    "result.plot_residuals()"
   ]
  },
  {
   "cell_type": "markdown",
   "id": "15462d91",
   "metadata": {},
   "source": [
    "## Saving the graph"
   ]
  },
  {
   "cell_type": "code",
   "execution_count": 43,
   "id": "2c0b7e8b",
   "metadata": {},
   "outputs": [],
   "source": [
    "import netpixi"
   ]
  },
  {
   "cell_type": "code",
   "execution_count": 44,
   "id": "d382824e",
   "metadata": {},
   "outputs": [],
   "source": [
    "gt_save(g, 'colabs_reddit.net.gz')"
   ]
  }
 ],
 "metadata": {
  "kernelspec": {
   "display_name": "Python 3 (ipykernel)",
   "language": "python",
   "name": "python3"
  },
  "language_info": {
   "codemirror_mode": {
    "name": "ipython",
    "version": 3
   },
   "file_extension": ".py",
   "mimetype": "text/x-python",
   "name": "python",
   "nbconvert_exporter": "python",
   "pygments_lexer": "ipython3",
   "version": "3.10.10"
  }
 },
 "nbformat": 4,
 "nbformat_minor": 5
}
