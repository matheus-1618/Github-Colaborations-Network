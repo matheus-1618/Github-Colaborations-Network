{
 "cells": [
  {
   "cell_type": "markdown",
   "id": "7223d9ad",
   "metadata": {},
   "source": [
    "## Viewing the network\n",
    "\n",
    "After understading the network metrics, we can see it graphically."
   ]
  },
  {
   "cell_type": "code",
   "execution_count": 1,
   "id": "f2876b73",
   "metadata": {},
   "outputs": [
    {
     "data": {
      "text/html": [
       "\n",
       "    <script src=\"/files/netpixi.min.js\"></script>\n"
      ],
      "text/plain": [
       "<IPython.core.display.HTML object>"
      ]
     },
     "metadata": {},
     "output_type": "display_data"
    },
    {
     "name": "stderr",
     "output_type": "stream",
     "text": [
      "<frozen importlib._bootstrap>:914: ImportWarning: VendorImporter.find_spec() not found; falling back to find_module()\n",
      "<frozen importlib._bootstrap>:914: ImportWarning: VendorImporter.find_spec() not found; falling back to find_module()\n",
      "<frozen importlib._bootstrap>:914: ImportWarning: VendorImporter.find_spec() not found; falling back to find_module()\n"
     ]
    }
   ],
   "source": [
    "import netpixi\n",
    "from netpixi.integration.gt import *\n",
    "from regression.integration.gt import *"
   ]
  },
  {
   "cell_type": "markdown",
   "id": "cf010547",
   "metadata": {},
   "source": [
    "## All graph"
   ]
  },
  {
   "cell_type": "code",
   "execution_count": 2,
   "id": "21dc178f",
   "metadata": {},
   "outputs": [],
   "source": [
    "g = gt_load('networks/colabs.net.gz')"
   ]
  },
  {
   "cell_type": "code",
   "execution_count": 3,
   "id": "cb64e41b",
   "metadata": {},
   "outputs": [
    {
     "data": {
      "text/html": [
       "\n",
       "        <div id=\"D7y7p4xLfa4B2nBCNe2ET9\"></div>\n",
       "        <script>netpixi.render('D7y7p4xLfa4B2nBCNe2ET9', 'networks/colabs_sfdp.net.gz', 1.7777777777777777, true, true, false);</script>\n",
       "    "
      ],
      "text/plain": [
       "<IPython.core.display.HTML object>"
      ]
     },
     "metadata": {},
     "output_type": "display_data"
    }
   ],
   "source": [
    "g = gt_clean(g)\n",
    "m = gt_draw.sfdp_layout(g)\n",
    "gt_move(g, m)\n",
    "gt_save(g, 'networks/colabs_sfdp.net.gz')\n",
    "network = netpixi.render('networks/colabs_sfdp.net.gz',infinite=True);"
   ]
  },
  {
   "cell_type": "code",
   "execution_count": 4,
   "id": "9df75bc5",
   "metadata": {},
   "outputs": [
    {
     "data": {
      "text/html": [
       "\n",
       "        <div id=\"9f4qbZZNEkshAwVyJQmmMe\"></div>\n",
       "        <script>netpixi.call('9f4qbZZNEkshAwVyJQmmMe', 'D7y7p4xLfa4B2nBCNe2ET9', 'normalizeGraph', 'eyJ0eXBlIjogInZlcnRleCIsICJwcm9wcyI6IHsic3JjIjogImZvY3VzIiwgIm1pbiI6IDUsICJtYXgiOiAxMH19Cg==');</script>\n",
       "    "
      ],
      "text/plain": [
       "<IPython.core.display.HTML object>"
      ]
     },
     "metadata": {},
     "output_type": "display_data"
    },
    {
     "data": {
      "text/html": [
       "\n",
       "        <div id=\"3jjQpzxDhCuzNtchTRNGsp\"></div>\n",
       "        <script>netpixi.call('3jjQpzxDhCuzNtchTRNGsp', 'D7y7p4xLfa4B2nBCNe2ET9', 'changeGraph', 'eyJ0eXBlIjogInNldHRpbmdzIiwgInByb3BzIjogeyJlZGdlIjogeyJ3aWR0aCI6IDF9fX0K');</script>\n",
       "    "
      ],
      "text/plain": [
       "<IPython.core.display.HTML object>"
      ]
     },
     "metadata": {},
     "output_type": "display_data"
    }
   ],
   "source": [
    "#Ajustando propriedades\n",
    "network.vertex_scale('focus', 5, 10)\n",
    "network.edge_default( width=1)"
   ]
  },
  {
   "cell_type": "markdown",
   "id": "418ae61a",
   "metadata": {},
   "source": [
    "<img src=\"data/colabs_sfdp.net.gz.png\"/>"
   ]
  },
  {
   "cell_type": "markdown",
   "id": "b73d353e",
   "metadata": {},
   "source": [
    "## Python segmentating"
   ]
  },
  {
   "cell_type": "code",
   "execution_count": 5,
   "id": "ae3d42a1",
   "metadata": {},
   "outputs": [],
   "source": [
    "g_python = gt_load('networks/colabs_python.net.gz')"
   ]
  },
  {
   "cell_type": "code",
   "execution_count": 6,
   "id": "2ab80f44",
   "metadata": {},
   "outputs": [
    {
     "data": {
      "text/html": [
       "\n",
       "        <div id=\"KzmwTME4MqTfSdEEszQPoh\"></div>\n",
       "        <script>netpixi.render('KzmwTME4MqTfSdEEszQPoh', 'networks/colabs_python_sfdp.net.gz', 1.7777777777777777, true, true, false);</script>\n",
       "    "
      ],
      "text/plain": [
       "<IPython.core.display.HTML object>"
      ]
     },
     "metadata": {},
     "output_type": "display_data"
    }
   ],
   "source": [
    "g_python = gt_clean(g_python)\n",
    "m = gt_draw.sfdp_layout(g_python)\n",
    "gt_move(g_python, m)\n",
    "gt_save(g_python, 'networks/colabs_python_sfdp.net.gz')\n",
    "network_python = netpixi.render('networks/colabs_python_sfdp.net.gz',infinite=True);"
   ]
  },
  {
   "cell_type": "code",
   "execution_count": 7,
   "id": "8fa0818a",
   "metadata": {},
   "outputs": [
    {
     "data": {
      "text/html": [
       "\n",
       "        <div id=\"JJmbvMJzRwsQc8pgp6ZFST\"></div>\n",
       "        <script>netpixi.call('JJmbvMJzRwsQc8pgp6ZFST', 'KzmwTME4MqTfSdEEszQPoh', 'normalizeGraph', 'eyJ0eXBlIjogInZlcnRleCIsICJwcm9wcyI6IHsic3JjIjogImZvY3VzIiwgIm1pbiI6IDEwLCAibWF4IjogMTB9fQo=');</script>\n",
       "    "
      ],
      "text/plain": [
       "<IPython.core.display.HTML object>"
      ]
     },
     "metadata": {},
     "output_type": "display_data"
    },
    {
     "data": {
      "text/html": [
       "\n",
       "        <div id=\"mQgsXbgCd5tto9bCJLUUch\"></div>\n",
       "        <script>netpixi.call('mQgsXbgCd5tto9bCJLUUch', 'KzmwTME4MqTfSdEEszQPoh', 'changeGraph', 'eyJ0eXBlIjogInNldHRpbmdzIiwgInByb3BzIjogeyJlZGdlIjogeyJ3aWR0aCI6IDF9fX0K');</script>\n",
       "    "
      ],
      "text/plain": [
       "<IPython.core.display.HTML object>"
      ]
     },
     "metadata": {},
     "output_type": "display_data"
    }
   ],
   "source": [
    "#Ajustando propriedades\n",
    "network_python.vertex_scale('focus', 10, 10)\n",
    "network_python.edge_default( width=1)"
   ]
  },
  {
   "cell_type": "markdown",
   "id": "f310d252",
   "metadata": {},
   "source": [
    "<img src=\"data/colabs_python_sfdp.net.gz.png\"/>"
   ]
  },
  {
   "cell_type": "markdown",
   "id": "5c098f49",
   "metadata": {},
   "source": [
    "## Javascript"
   ]
  },
  {
   "cell_type": "code",
   "execution_count": 8,
   "id": "85fd97ef",
   "metadata": {},
   "outputs": [],
   "source": [
    "g_js = gt_load('networks/colabs_js.net.gz')"
   ]
  },
  {
   "cell_type": "code",
   "execution_count": 9,
   "id": "98f1ef2f",
   "metadata": {},
   "outputs": [
    {
     "data": {
      "text/html": [
       "\n",
       "        <div id=\"X6gafnKE3TpTo82JBN5FHU\"></div>\n",
       "        <script>netpixi.render('X6gafnKE3TpTo82JBN5FHU', 'networks/colabs_js_sfdp.net.gz', 1.7777777777777777, true, true, false);</script>\n",
       "    "
      ],
      "text/plain": [
       "<IPython.core.display.HTML object>"
      ]
     },
     "metadata": {},
     "output_type": "display_data"
    }
   ],
   "source": [
    "g_js = gt_clean(g_js)\n",
    "m = gt_draw.sfdp_layout(g_js)\n",
    "gt_move(g_js, m)\n",
    "gt_save(g_js, 'networks/colabs_js_sfdp.net.gz')\n",
    "network_js = netpixi.render('networks/colabs_js_sfdp.net.gz',infinite=True);"
   ]
  },
  {
   "cell_type": "code",
   "execution_count": 10,
   "id": "428da9ef",
   "metadata": {},
   "outputs": [
    {
     "data": {
      "text/html": [
       "\n",
       "        <div id=\"6VmEPjt243ST8KdqmWeatQ\"></div>\n",
       "        <script>netpixi.call('6VmEPjt243ST8KdqmWeatQ', 'X6gafnKE3TpTo82JBN5FHU', 'normalizeGraph', 'eyJ0eXBlIjogInZlcnRleCIsICJwcm9wcyI6IHsic3JjIjogImZvY3VzIiwgIm1pbiI6IDUsICJtYXgiOiAxMH19Cg==');</script>\n",
       "    "
      ],
      "text/plain": [
       "<IPython.core.display.HTML object>"
      ]
     },
     "metadata": {},
     "output_type": "display_data"
    },
    {
     "data": {
      "text/html": [
       "\n",
       "        <div id=\"U9RJkVeJPRxiCUgUBg4VDo\"></div>\n",
       "        <script>netpixi.call('U9RJkVeJPRxiCUgUBg4VDo', 'X6gafnKE3TpTo82JBN5FHU', 'changeGraph', 'eyJ0eXBlIjogInNldHRpbmdzIiwgInByb3BzIjogeyJlZGdlIjogeyJ3aWR0aCI6IDF9fX0K');</script>\n",
       "    "
      ],
      "text/plain": [
       "<IPython.core.display.HTML object>"
      ]
     },
     "metadata": {},
     "output_type": "display_data"
    }
   ],
   "source": [
    "#Ajustando propriedades\n",
    "network_js.vertex_scale('focus', 5, 10)\n",
    "network_js.edge_default( width=1)"
   ]
  },
  {
   "cell_type": "markdown",
   "id": "a976e160",
   "metadata": {},
   "source": [
    "<img src=\"data/colabs_js_sfdp.net.gz.png\"/>"
   ]
  }
 ],
 "metadata": {
  "kernelspec": {
   "display_name": "Python 3 (ipykernel)",
   "language": "python",
   "name": "python3"
  },
  "language_info": {
   "codemirror_mode": {
    "name": "ipython",
    "version": 3
   },
   "file_extension": ".py",
   "mimetype": "text/x-python",
   "name": "python",
   "nbconvert_exporter": "python",
   "pygments_lexer": "ipython3",
   "version": "3.10.10"
  }
 },
 "nbformat": 4,
 "nbformat_minor": 5
}
